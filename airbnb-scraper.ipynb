{
 "metadata": {
  "name": "",
  "signature": "sha256:6a52a8e052e7c15e3fc1568d9fbcfc3da03107cb10ac93b94cb8226692749409"
 },
 "nbformat": 3,
 "nbformat_minor": 0,
 "worksheets": [
  {
   "cells": [
    {
     "cell_type": "code",
     "collapsed": false,
     "input": [
      "import re\n",
      "import requests\n",
      "from bs4 import BeautifulSoup"
     ],
     "language": "python",
     "metadata": {},
     "outputs": [],
     "prompt_number": 1
    },
    {
     "cell_type": "code",
     "collapsed": false,
     "input": [
      "PAGES = [ 'https://www.airbnb.com/users/show/100900' ]"
     ],
     "language": "python",
     "metadata": {},
     "outputs": [],
     "prompt_number": 2
    },
    {
     "cell_type": "code",
     "collapsed": false,
     "input": [
      "SEEN_PAGES  = set()\n",
      "USER_PHOTOS = set()\n",
      "ROOM_PHOTOS = set()"
     ],
     "language": "python",
     "metadata": {},
     "outputs": [],
     "prompt_number": 3
    },
    {
     "cell_type": "code",
     "collapsed": false,
     "input": [
      "user_re = re.compile( '^(https://www\\.airbnb\\.com)?/users/show/\\d*' )\n",
      "room_re = re.compile( '^(https://www\\.airbnb\\.com)?/rooms/\\d*' )\n",
      "\n",
      "user_photo_re = re.compile( '^https://.*\\.muscache\\.com/ic/users/\\d*/profile_pic/\\d*/original\\.jpg\\?.*' )\n",
      "room_photo_re = re.compile( '^https://.*\\.muscache\\.com/pictures/\\d*/.*\\.jpg' )"
     ],
     "language": "python",
     "metadata": {},
     "outputs": [],
     "prompt_number": 14
    },
    {
     "cell_type": "code",
     "collapsed": false,
     "input": [
      "'https://.*\\.muscache\\.com/ic/users/\\d*/profile_pic/\\d*/original.jpg.*'"
     ],
     "language": "python",
     "metadata": {},
     "outputs": []
    },
    {
     "cell_type": "code",
     "collapsed": false,
     "input": [
      "response = requests.get( PAGES[0] )"
     ],
     "language": "python",
     "metadata": {},
     "outputs": [],
     "prompt_number": 12
    },
    {
     "cell_type": "code",
     "collapsed": false,
     "input": [
      "response.text"
     ],
     "language": "python",
     "metadata": {},
     "outputs": [
      {
       "metadata": {},
       "output_type": "pyout",
       "prompt_number": 32,
       "text": [
        "u'<!DOCTYPE html>\\n\\n<!--[if lt IE 8]>\\n\\n<html lang=\"en\"\\n      \\n      xmlns:fb=\"http://ogp.me/ns/fb#\"\\n      class=\"ie\">\\n\\n<![endif]-->\\n\\n<!--[if IE 8]>\\n\\n<html lang=\"en\"\\n      \\n      xmlns:fb=\"http://ogp.me/ns/fb#\"\\n      class=\"ie ie8\">\\n\\n<![endif]-->\\n\\n<!--[if IE 9]>\\n\\n  <html lang=\"en\"\\n      \\n      xmlns:fb=\"http://ogp.me/ns/fb#\"\\n      class=\"ie ie9\">\\n\\n<![endif]-->\\n\\n<!--[if (gt IE 9)|!(IE)]><!-->\\n<html lang=\"en\"\\n      \\n      xmlns:fb=\"http://ogp.me/ns/fb#\">\\n\\n<!--<![endif]-->\\n\\n  <head>\\n    <link rel=\"dns-prefetch\" href=\"//maps.googleapis.com\">\\n    <link rel=\"dns-prefetch\" href=\"//maps.gstatic.com\">\\n    <link rel=\"dns-prefetch\" href=\"//mts0.googleapis.com\">\\n    <link rel=\"dns-prefetch\" href=\"//mts1.googleapis.com\">\\n\\n    <!--[if IE]><![endif]-->\\n    <meta charset=\"utf-8\">\\n\\n    <!--[if IE 8]>\\n      <link href=\"https://a1.muscache.com/airbnb/static/packages/common_o2.1_ie8-29940048895cc09d1f583a47014883d7.css\" media=\"all\" rel=\"stylesheet\" type=\"text/css\" />\\n    <![endif]-->\\n    <!--[if !(IE 8)]><!-->\\n      <link href=\"https://a1.muscache.com/airbnb/static/packages/common_o2.1-e487d3aedf3e09630cba435fe39abbff.css\" media=\"all\" rel=\"stylesheet\" type=\"text/css\" />\\n    <!--<![endif]-->\\n\\n    <link href=\"https://a0.muscache.com/airbnb/static/packages/profile-5325665de646d95d59617da5882423fc.css\" media=\"screen\" rel=\"stylesheet\" type=\"text/css\" />\\n    \\n\\n    <style>\\n      \\n    </style>\\n\\n    <meta id=\"csrf-param-meta-tag\" name=\"csrf-param\" content=\"authenticity_token\"/>\\n    <meta id=\"csrf-token-meta-tag\" name=\"csrf-token\" content=\"\"/>\\n\\n    <script>\\n      var sherlock_firstbyte = Number(new Date());\\n      var googleMapsUrl = \\'//maps.googleapis.com/maps/api/js?language=en&sensor=false&v=3.13&libraries=places&client=gme-airbnbinc&channel=monorail-prod\\';\\n      var userAttributeCookies = {\\n        flags_name: \\'flags\\',\\n        roles_name: \\'roles\\',\\n        flags: {\"can_see_community\":2,\"og_publish\":16,\"has_wishlisted\":32,\"update_cached\":64,\"revert_to_admin\":128,\"facebook_connected\":256,\"has_search\":1024,\"search_help_dropdown\":2048,\"has_dates\":4096,\"can_send_profile_messages\":32768,\"just_logged_in\":65536,\"has_been_host\":131072,\"should_drop_pellet\":262144,\"is_active_host\":1048576,\"can_see_meetups\":134217728,\"should_drop_sift_pellet\":268435456,\"can_see_groups\":536870912,\"has_verified_phone\":1073741824,\"has_profile_pic\":2147483648},\\n        roles: {\"is_admin\":1,\"is_aircrew\":8,\"is_content_manager\":1048576,\"is_stats_admin\":16777216},\\n        cookie_name: \"_user_attributes\"\\n      };\\n    </script>\\n\\n\\n    <title>Matthew&#x27;s Profile - Airbnb</title>\\n\\n    <meta http-equiv=\"X-UA-Compatible\" content=\"IE=edge,chrome=1\">\\n\\n      <link rel=\"canonical\" href=\"https://www.airbnb.com/users/show/100900\">\\n          <link rel=\"alternate\" href=\"https://www.airbnb.com/users/show/100900\" hreflang=\"en\">\\n          <link rel=\"alternate\" href=\"https://www.airbnb.co.uk/users/show/100900\" hreflang=\"en-GB\">\\n          <link rel=\"alternate\" href=\"https://www.airbnb.com.sg/users/show/100900\" hreflang=\"en-SG\">\\n          <link rel=\"alternate\" href=\"https://www.airbnb.com.au/users/show/100900\" hreflang=\"en-AU\">\\n          <link rel=\"alternate\" href=\"https://www.airbnb.co.nz/users/show/100900\" hreflang=\"en-NZ\">\\n          <link rel=\"alternate\" href=\"https://www.airbnb.ca/users/show/100900\" hreflang=\"en-CA\">\\n          <link rel=\"alternate\" href=\"https://www.airbnb.ie/users/show/100900\" hreflang=\"en-IE\">\\n          <link rel=\"alternate\" href=\"https://www.airbnb.co.in/users/show/100900\" hreflang=\"en-IN\">\\n          <link rel=\"alternate\" href=\"https://www.airbnb.com.mt/users/show/100900\" hreflang=\"en\">\\n          <link rel=\"alternate\" href=\"https://www.airbnb.gy/users/show/100900\" hreflang=\"en\">\\n\\n      <link rel=\"alternate\" media=\"only screen and (max-width: 640px)\" href=\"https://m.airbnb.com/users/100900\">\\n      <link rel=\"alternate\" href=\"android-app://com.airbnb.android/airbnb/users/100900\">\\n\\n      <meta name=\"description\" content=\"For the last 8 years I was a grad student. I&amp;#x27;ve been an American living in Canada. I just completed my PhD in computer science, and neither of...\">\\n\\n\\n\\n\\n      <meta property=\"fb:app_id\" content=\"138566025676\">\\n      <meta property=\"og:site_name\" content=\"Airbnb\">\\n      <meta property=\"og:type\" content=\"airbedandbreakfast:person\">\\n      <meta property=\"og:image\" content=\"https://a2.muscache.com/ic/users/100900/profile_pic/1319163349/original.jpg?interpolation=lanczos-none&amp;crop=w:w;*,*&amp;crop=h:h;*,*&amp;resize=225:*&amp;output-format=jpg&amp;output-quality=70\">\\n      <meta property=\"og:url\" content=\"https://www.airbnb.com/users/show/100900\">\\n      <meta property=\"og:title\" content=\"Matthew&#x27;s Profile - Airbnb\">\\n      <meta property=\"og:description\" content=\"For the last 8 years I was a grad student. I&amp;#x27;ve been an American living in Canada. I just completed my PhD in computer science, and neither of...\">\\n      <meta property=\"og:locale\" content=\"en_US\">\\n\\n\\n\\n    <meta name=\"viewport\" content=\"width=1045\">\\n    <link rel=\"image_src\" href=\"https://a1.muscache.com/airbnb/static/logos/belo-200x200-4a7e6c09014b7a277e15d15ba893501b.png\">\\n    <link rel=\"search\" type=\"application/opensearchdescription+xml\" href=\"/opensearch.xml\" title=\"Airbnb\">\\n\\n    <!--[if lt IE 9]>\\n      <script src=\"https://a0.muscache.com/airbnb/static/vendor/html5shiv-0a40ea6da13a87025857458fc1fc35fe.js\" type=\"text/javascript\"></script>\\n    <![endif]-->\\n    <link rel=\"shortcut icon\" type=\"image/x-icon\" href=\"https://a2.muscache.com/airbnb/static/logotype_favicon-8ddd5c4b2544bd415bd76df2bfb291ea.ico\">\\n    <script>\\n  (function(i,s,o,g,r,a,m){i[\\'GoogleAnalyticsObject\\']=r;i[r]=i[r]||function(){\\n  (i[r].q=i[r].q||[]).push(arguments)},i[r].l=1*new Date();a=s.createElement(o),\\n  m=s.getElementsByTagName(o)[0];a.async=1;a.src=g;m.parentNode.insertBefore(a,m)\\n  })(window,document,\\'script\\',\\'//www.google-analytics.com/analytics.js\\',\\'ga\\');\\n\\n  ga(\\'create\\', \\'UA-2725447-1\\', \\'auto\\');\\n  ga(\\'require\\', \\'displayfeatures\\');\\n  ga(\\'send\\', \\'pageview\\');\\n</script>\\n\\n  </head>\\n  <body class=\"\">\\n    <noscript><iframe src=\"//www.googletagmanager.com/ns.html?id=GTM-46MK\"\\nheight=\"0\" width=\"0\" style=\"display:none;visibility:hidden\"></iframe></noscript>\\n<script>(function(w,d,s,l,i){w[l]=w[l]||[];w[l].push({\\'gtm.start\\':\\nnew Date().getTime(),event:\\'gtm.js\\'});var f=d.getElementsByTagName(s)[0],\\nj=d.createElement(s),dl=l!=\\'dataLayer\\'?\\'&l=\\'+l:\\'\\';j.async=true;j.src=\\n\\'//www.googletagmanager.com/gtm.js?id=\\'+i+dl;f.parentNode.insertBefore(j,f);\\n})(window,document,\\'script\\',\\'dataLayer\\',\\'GTM-46MK\\');</script>\\n\\n\\n\\n    <div id=\"header\" class=\"navbar navbar-top\">\\n  <div class=\"page-container-full airbnb-header clearfix\">\\n    <a href=\"/\" class=\"header-belo pull-left\"></a>\\n    <ul class=\"nav pull-left hide-phone\" id=\"search-form-header\">\\n      <li id=\"header-search\">\\n       <form action=\"/s\" id=\"search-form\" class=\"search-form\">\\n         <div class=\"search-bar\">\\n           <i class=\"icon icon-search icon-gray h4\"></i>\\n           <input type=\"text\" placeholder=\"Where are you going?\" autocomplete=\"off\" name=\"location\" id=\"header-location\" class=\"location\">\\n           <input type=\"hidden\" name=\"source\" value=\"hdr\">\\n         </div>\\n         <div id=\"header-search-settings\">\\n           <label class=\"checkin\">Check in <input type=\"text\" id=\"header-search-checkin\" name=\"checkin\" class=\"checkin\" placeholder=\"mm/dd/yyyy\"/></label>\\n           <label class=\"checkout\">Check out <input type=\"text\" id=\"header-search-checkout\" class=\"checkout\" name=\"checkout\" placeholder=\"mm/dd/yyyy\"/></label>\\n           <label class=\"guests\">Guests\\n             <div class=\"select select-block\">\\n               <select id=\"header-search-guests\" name=\"guests\">\\n                 <option value=\"1\">1</option><option value=\"2\">2</option><option value=\"3\">3</option><option value=\"4\">4</option><option value=\"5\">5</option><option value=\"6\">6</option><option value=\"7\">7</option><option value=\"8\">8</option><option value=\"9\">9</option><option value=\"10\">10</option><option value=\"11\">11</option><option value=\"12\">12</option><option value=\"13\">13</option><option value=\"14\">14</option><option value=\"15\">15</option><option value=\"16\">16</option>\\n               </select>\\n             </div>\\n           </label>\\n           <label>Room type</label>\\n           <label class=\"checkbox\" for=\"room_type_0\"><input type=\"checkbox\" id=\"room_type_0\" name=\"room_types[]\" value=\"Entire home/apt\"/> Entire home/apt</label>\\n           <label class=\"checkbox\" for=\"room_type_1\"><input type=\"checkbox\" id=\"room_type_1\" name=\"room_types[]\" value=\"Private room\"/> Private room</label>\\n           <label class=\"checkbox\" for=\"room_type_2\"><input type=\"checkbox\" id=\"room_type_2\" name=\"room_types[]\" value=\"Shared room\"/> Shared room</label>\\n           <button type=\"submit\" class=\"btn btn-primary btn-block\">\\n             <i class=\"icon icon-search\"></i>\\n             Find a place\\n           </button>\\n         </div>\\n       </form>\\n      </li>\\n      <li class=\"dropdown item_explore\">\\n        <a class=\"dropdown-toggle link-reset\" href=\"javascript:void(0)\">\\n          Browse\\n          <i class=\"icon icon-caret-down icon-light-gray\"></i>\\n          <i class=\"icon icon-caret-up icon-light-gray hide\"></i>\\n        </a>\\n        <ul class=\"dropdown-menu dropdown-bordered\">\\n          <li><a href=\"/wishlists/popular\">Popular</a></li>\\n          <li><a href=\"/wishlists/friends\">Friends</a></li>\\n          <li><a href=\"/locations\">Neighborhoods</a></li>\\n          <li class=\"groups\"><a href=\"/groups\">Groups</a></li>\\n        </ul>\\n      </li>\\n    </ul>\\n\\n    <ul class=\"nav pull-right help-menu hide-phone\" style=\"margin-left:0;\">\\n      <li class=\"dropdown\" data-dropdown-sticky=\"true\">\\n        <a id=\"help_dropdown\" class=\"dropdown-toggle help-toggle link-reset\" href=\"javascript:void(0)\">\\n          Help\\n          <i class=\"icon icon-caret-down icon-light-gray\"></i>\\n          <i class=\"icon icon-caret-up icon-light-gray hide\"></i>\\n        </a>\\n        <div class=\"dropdown-menu help-dropdown dropdown-bordered\">\\n          <div class=\"nav-header\">\\n            <a href=\"/help?ref=help-dropdown\" class=\"help-center-link\">Visit the Help Center &#187;</a>\\n          </div>\\n          <ul class=\"list-unstyled\">\\n            <li class=\"loading\"></li>\\n            <li class=\"hidden\">\\n              <a href=\"/safety?ref=help-dropdown\" class=\"\">Visit our Trust & Safety Center</a>\\n            </li>\\n            <li class=\"all_faqs hidden\">\\n              <a href=\"/help/topic/hosting?ref=help-dropdown\">See all FAQs</a>\\n            </li>\\n          </ul>\\n        </div>\\n      </li>\\n      <li class=\"list-your-space hide-phone\">\\n        <a id=\"list-your-space\" class=\"btn btn-special\" href=\"/rooms/new\">List Your Space</a>\\n      </li>\\n    </ul>\\n\\n    <ul class=\"nav pull-right logged-out\">\\n      <li id=\"sign_up\"><a data-signup-modal href=\"https://www.airbnb.com/signup_login?redirect_params[action]=show&amp;redirect_params[controller]=users&amp;redirect_params[id]=100900\" class=\"link-reset\">Sign Up</a></li>\\n      <li id=\"login\"><a data-login-modal href=\"https://www.airbnb.com/login?redirect_params[action]=show&amp;redirect_params[controller]=users&amp;redirect_params[id]=100900\" class=\"link-reset\">Log In</a></li>\\n    </ul>\\n\\n    <ul class=\"nav pull-right logged-in\">\\n      <li class=\"dropdown user-item\">\\n        <a class=\"dropdown-toggle link-reset\" href=\"javascript:void(0)\">\\n          <div class=\"media-photo media-round user-profile-image\"></div>\\n          <span class=\"hide-phone value_name\">User</span>\\n          <i class=\"icon icon-caret-down icon-light-gray\"></i>\\n          <i class=\"icon icon-caret-up icon-light-gray hide\"></i>\\n        </a>\\n        <ul class=\"dropdown-menu dropdown-bordered header-dropdown\">\\n          <li><a href=\"/home/dashboard\">Dashboard</a></li>\\n          <li class=\"listings\">\\n            <a href=\"/rooms\">\\n              <span class=\"singular\" style=\"display: none;\">Your Listing</span>\\n              <span class=\"plural\">Your Listings</span>\\n            </a>\\n          </li>\\n          <li class=\"reservations\" style=\"display: none;\">\\n            <a href=\"/my_listings\">Your Reservations</a>\\n          </li>\\n          <li><a href=\"/trips/upcoming\">Your Trips</a></li>\\n          <li><a href=\"/wishlists/my\" id=\"wishlists\">Wish Lists</a></li>\\n          <li class=\"groups\">\\n            <a href=\"/groups\">Groups</a>\\n          </li>\\n          <li>\\n            <a href=\"/invite?r=3\">\\n              Give Travel Credit\\n              <span class=\"label label-pink label-new\">New</span>\\n            </a>\\n          </li>\\n          <li><a href=\"/users/edit\">Edit Profile</a></li>\\n          <li><a href=\"/account\">Account</a></li>\\n          <li><a href=\"/logout\" id=\"header-logout\">Log Out</a></li>\\n        </ul>\\n      </li>\\n      <li id=\"inbox-item\">\\n        <a href=\"/inbox\" class=\"link-reset inbox-icon\">\\n          <i class=\"alert-count position-super fade\">0</i>\\n          <i class=\"icon icon-envelope icon-gray\">\\n            <span class=\"text-hide hide\">Inbox</span>\\n          </i>\\n        </a>\\n      </li>\\n    </ul>\\n  </div>\\n</div>\\n\\n\\n    <script src=\"https://a1.muscache.com/airbnb/static/header_cookie-938ab882c4ca8b513c84a403f4e6f049.js\" type=\"text/javascript\"></script>\\n\\n    <script>new HeaderPreload();</script>\\n\\n      <div class=\\'span12 flash-container\\'>\\n      </div>\\n\\n    \\n\\n\\n\\n<div id=\"recommendation_container\" class=\"clearfix container\">\\n</div>\\n\\n\\n\\n<div class=\"page-container row-space-top-4 row-space-8\">\\n  <div class=\"row\">\\n    <div class=\"col-3\">\\n      <div id=\"user\" class=\"row-space-4 \">\\n        <div>\\n          <div class=\"row-space-2\" id=\"user-media-container\">\\n            <div id=\"slideshow\" class=\"slideshow\">\\n              <div class=\"slideshow-preload\"></div>\\n              <ul class=\"slideshow-images\">\\n                <li class=\"active media-photo media-photo-block\">\\n                  <img alt=\"Matthew\" class=\"img-responsive\" height=\"225\" src=\"https://a2.muscache.com/ic/users/100900/profile_pic/1319163349/original.jpg?interpolation=lanczos-none&amp;crop=w:w;*,*&amp;crop=h:h;*,*&amp;resize=225:*&amp;output-format=jpg&amp;output-quality=70\" title=\"Matthew\" width=\"225\" />\\n                </li>\\n                <li class=\"media-photo media-photo-block\"></li>\\n              </ul>\\n                <ul class=\"slideshow-thumbnails text-center\">\\n                  <li>\\n                    <a href=\"https://a2.muscache.com/ic/users/100900/profile_pic/1319163349/original.jpg?interpolation=lanczos-none&amp;crop=w:w;*,*&amp;crop=h:h;*,*&amp;resize=225:*&amp;output-format=jpg&amp;output-quality=70\"\\n                       class=\"dot dot-ebisu dot-new link-reset\">&nbsp;</a>\\n                  </li>\\n                  <li>\\n                    <a href=\"https://a2.muscache.com/ic/users/100900/profile_pic/1310787348/original.jpg?interpolation=lanczos-none&amp;crop=w:w;*,*&amp;crop=h:h;*,*&amp;resize=225:*&amp;output-format=jpg&amp;output-quality=70\"\\n                       class=\"dot  link-reset\">&nbsp;</a>\\n                  </li>\\n                </ul>\\n                <i class=\"icon icon-chevron-left icon-size-2 icon-light-gray slideshow-cursor slideshow-cursor-prev\" data-slideshow-prev=\"true\"></i>\\n                <i class=\"icon icon-chevron-right icon-size-2 icon-light-gray slideshow-cursor slideshow-cursor-next\" data-slideshow-next=\"true\"></i>\\n            </div>\\n          </div>\\n        </div>\\n      </div>\\n\\n      <div class=\"panel verifications row-space-4\">\\n        <div class=\"panel-header\">\\n          Verifications\\n        </div>\\n        <div class=\"panel-body\">\\n          <ul class=\"list-unstyled\">\\n    <li class=\"row row-condensed \">\\n      <div class=\"col-2\">\\n        <i class=\"icon icon-ok icon-pink icon-lima h3\"></i>\\n      </div>\\n      <div class=\"col-10\">\\n        <div>\\n          Email Address\\n        </div>\\n        <div class=\"text-muted\">\\n          Verified\\n        </div>\\n      </div>\\n    </li>\\n    <li class=\"row row-condensed row-space-top-2\">\\n      <div class=\"col-2\">\\n        <i class=\"icon icon-ok icon-pink icon-lima h3\"></i>\\n      </div>\\n      <div class=\"col-10\">\\n        <div>\\n          Phone Number\\n        </div>\\n        <div class=\"text-muted\">\\n                  (&blk12;&blk12;&blk12;)\\n        &blk12;&blk12;&blk12;-\\n        &blk12;&blk12;\\n03\\n        </div>\\n      </div>\\n    </li>\\n    <li class=\"row row-condensed row-space-top-2\">\\n      <div class=\"col-2\">\\n        <i class=\"icon icon-ok icon-pink icon-lima h3\"></i>\\n      </div>\\n      <div class=\"col-10\">\\n        <div>\\n          Facebook\\n        </div>\\n        <div class=\"text-muted\">\\n          1091 Friends\\n        </div>\\n      </div>\\n    </li>\\n    <li class=\"row row-condensed row-space-top-2\">\\n      <div class=\"col-2\">\\n        <i class=\"icon icon-ok icon-pink icon-lima h3\"></i>\\n      </div>\\n      <div class=\"col-10\">\\n        <div>\\n          Reviewed\\n        </div>\\n        <div class=\"text-muted\">\\n          6 Reviews\\n        </div>\\n      </div>\\n    </li>\\n</ul>\\n\\n        </div>\\n      </div>\\n\\n      <div class=\"panel row-space-4\">\\n        <div class=\"panel-header\">\\n          About Me\\n        </div>\\n        <div class=\"panel-body\">\\n          <dl>\\n              <dt>School</dt>\\n              <dd>Carnegie Mellon University, University of British Columbia</dd>\\n              <dt>Work</dt>\\n              <dd>Software developer</dd>\\n            <dt>Languages</dt>\\n            <dd>English</dd>\\n\\n            <dt class=\"airbnb-symbol-hidden hide row-space-1\">Matthew\\'s Airbnb Symbol</dt>\\n            <dd class=\"airbnb-symbol-hidden hide\">\\n              \\n<div class=\"user-profile-symbol loading\" data-user-id=\"100900\">\\n  <img  src=\"https://a1.muscache.com/airbnb/static/profile/symbol-empty-state-9957db13ac16747def3d6d7bc119106f.png\"\\n        data-default-url=\"https://a1.muscache.com/airbnb/static/profile/symbol-empty-state-9957db13ac16747def3d6d7bc119106f.png\"\\n        data-base-url=\\'https://create.airbnb.com/\\'\\n        data-src-url=\\'https://create.airbnb.com/100900/symbol\\'\\n        alt=\"Matthew\" class=\"img-responsive\" />\\n\\n  <form class=\"remove-user-profile-symbol hide\" action=\\'https://create.airbnb.com/100900/symbol/delete\\' method=\"GET\">\\n    <button class=\"btn btn-small\">Remove</button>\\n  </form>\\n</div>\\n\\n              <p><a href=\"#\" class=\"airbnb-symbol-link\" target=\"_blank\">Visit create.airbnb.com</a> &raquo;</p>\\n            </dd>\\n          </dl>\\n        </div>\\n      </div>\\n    </div>\\n\\n    <div class=\"col-9\">\\n      <div class=\"row-space-4 row-space-top-4\">\\n        <span class=\"h1\">\\n          Hey, I\\'m Matthew!\\n        </span>\\n        <div class=\"flag_controls hide\">\\n          \\n    <a href=\"#\" id=\"flag-for-user-100900\" class=\"flag-trigger link-reset\" data-behavior=\\'tooltip\\' title=\\'Report this user\\'>\\n      <i class=\"icon icon-flag h3\"></i>\\n    </a>\\n<div class=\"modal flag-modal\" role=\"dialog\" data-trigger=\"#flag-for-user-100900\" aria-hidden=\"true\">\\n  <div class=\"modal-table\">\\n    <div class=\"modal-cell\">\\n      <div class=\"modal-content\">\\n        <form accept-charset=\"UTF-8\" action=\"/user_flags\" class=\"new_user_flag\" id=\"new_user_flag\" method=\"post\"><div style=\"margin:0;padding:0;display:inline\"><input name=\"utf8\" type=\"hidden\" value=\"&#x2713;\" /><input name=\"authenticity_token\" type=\"hidden\" value=\"V4$.airbnb.com$qlNvRiKzF8c$Amw09fB4p4_lrxt7tRQmtiGEB2HXR3q6yf6d8qiIEUM=\" /></div>\\n        <div class=\"panel-header main-header\">\\n          <a href=\"#\" class=\"modal-close\" data-behavior=\"modal-close\"></a>\\n          Do you want to anonymously report this user?\\n        </div>\\n        <div class=\"panel-header thanks-header hide\">\\n          Thank You!\\n        </div>\\n        <div class=\"panel-body flag-form\">\\n            If so, please choose one of the following reasons and\\n                                    our dedicated Trust and Safety team will look into it.<br/><br/>\\n            <ul class=\"list-unstyled\">\\n                <li class=\"row-space-2\">\\n                  <a href=\"#\" class=\"flag-reasons btn btn-large btn-block\\n                                         \" data-reason-id=\"This profile shouldn&#x27;t be on Airbnb\">This profile shouldn\\'t be on Airbnb <i class=\\'icon icon-question flag-question h5\\' data-behavior=\\'tooltip\\'\\n                                       data-position=\\'right\\' title=\\'This profile may belong to a scammer, criminal offender, or exist for other\\n                        malicious purposes.\\'></i></a>\\n                </li>\\n                <li class=\"row-space-2\">\\n                  <a href=\"#\" class=\"flag-reasons btn btn-large btn-block\\n                                         \" data-reason-id=\"Attempt to share contact information\">Attempt to share contact information <i class=\\'icon icon-question flag-question h5\\' data-behavior=\\'tooltip\\'\\n                                       data-position=\\'right\\' title=\\'There is an email address, phone number, or website address hidden in this\\n                      profile.\\'></i></a>\\n                </li>\\n                <li class=\"row-space-2\">\\n                  <a href=\"#\" class=\"flag-reasons btn btn-large btn-block\\n                                         \" data-reason-id=\"Inappropriate content or spam\">Inappropriate content or spam <i class=\\'icon icon-question flag-question h5\\' data-behavior=\\'tooltip\\'\\n                                       data-position=\\'right\\' title=\\'The profile photos or description contain violent, graphic, promotional,\\n                            or otherwise offensive content.\\'></i></a>\\n                </li>\\n                <li class=\"row-space-2 other\">\\n                  <a href=\"#\" class=\"flag-reasons btn btn-large btn-block\\n                                         row-space-2\" data-reason-id=\"Other\">Other <i class=\\'icon icon-question flag-question h5\\' data-behavior=\\'tooltip\\'\\n                                       data-position=\\'right\\' title=\\'None of the above reasons apply.\\'></i></a>\\n                    <div class=\"other-container hide\">\\n                      <textarea class=\"row-space-2\" cols=\"40\" id=\"user_flag_other_note\" name=\"user_flag[other_note]\" placeholder=\"Please describe a reason\" required=\"required\" rows=\"3\"></textarea>\\n                    </div>\\n                </li>\\n            </ul>\\n            <input id=\"user_flag_flaggable_type\" name=\"user_flag[flaggable_type]\" type=\"hidden\" value=\"user\" />\\n            <input id=\"user_flag_flaggable_id\" name=\"user_flag[flaggable_id]\" type=\"hidden\" value=\"100900\" />\\n            <input id=\"user_flag_name\" name=\"user_flag[name]\" type=\"hidden\" />\\n            <input id=\"user_flag_id\" name=\"user_flag[id]\" type=\"hidden\" />\\n        </div>\\n            <div class=\"panel-body flag-thank-you hide\">\\n                <p>\\n                  Thanks for taking the time to report this user.\\n                  Your participation helps keep Airbnb a safe and trusted\\n                        community, and it doesn\\'t go unnoticed!\\n                </p>\\n                <a href=\"#\" class=\"btn btn-small btn-block\">Close</a>\\n            </div>\\n        <div class=\"panel-footer hide\">\\n          <input class=\"btn btn-primary btn-large\" id=\"user_flag_submit\" name=\"commit\" type=\"submit\" value=\"Submit\" />\\n        </div>\\n</form>      </div>\\n    </div>\\n  </div>\\n</div>\\n\\n        </div>\\n        <div class=\"h5 row-space-top-2\">\\n          San Francisco, California, United States\\n        &middot;\\n          <span class=\"text-normal\">\\n            Member since March 2010\\n          </span>\\n        </div>\\n            <div class=\"already-flagged text-muted row-space-top-2 hide\">\\n  You have reported this user.\\n      <a href=\\'#\\' class=\\'undo_flag\\'>\\n        Undo?\\n      </a>\\n</div>\\n\\n        <div class=\"edit_profile_container row-space-3\">\\n        </div>\\n        <div class=\"row-space-top-2\">\\n          <p>For the last 8 years I was a grad student. I\\'ve been an American living in Canada. I just completed my PhD in computer science, and neither of those are the case anymore. I\\'m on the move, exploring a number of places before eventually moving to Spain for a job in computer graphics research. These days I do iPhone development. I\\'m a fan of cooking, photography, travel and martial arts.</p>\\n        </div>\\n      </div>\\n\\n        <div class=\"row-space-6 row-space-top-6 row row-condensed\">\\n      <div class=\"col-3\">\\n        <a class=\"link-reset\"\\n   href=\"/users/show/100900#reviews\">\\n\\n  <div class=\"text-center text-wrap\"\\n       >\\n\\n      \\n      <div class=\"badge-pill h3\">\\n        <span class=\"badge-pill-count\">6</span>\\n      </div>\\n    <div class=\"row-space-top-1\">Reviews</div>\\n  </div>\\n</a>\\n\\n      </div>\\n\\n    <div role=\"tooltip\"\\n     aria-hidden=\"true\"\\n     data-trigger=\"#verified-id-icon\"\\n     data-sticky=\"true\"\\n     class=\"tooltip tooltip-bottom-middle tooltip-panel-light tooltip-panel-collapse fade\"\\n     id=\"verifications-tooltip\">\\n  <div class=\"panel-header panel-header-gray\">\\n    Verifications\\n  </div>\\n  <div class=\"panel-padding panel-body\">\\n    <p>\\n    Matthew has completed online and offline ID verification.\\n    </p>\\n    <p>\\n      <a href=\"/help/article/450\">\\n        Learn more &raquo;\\n      </a>\\n    </p>\\n  </div>\\n</div>\\n\\n  </div>\\n\\n\\n      <div class=\"social_connections_and_reviews\">\\n        <div class=\"row-space-6\">\\n          <h2 class=\"row-space-3\">\\n            Wish Lists\\n            <small>(1)</small>\\n          </h2>\\n          <div class=\"row\">\\n              <div class=\"col-3\">\\n                <a href=\"/wishlists/5549226\" class=\"media-photo media-photo-block\">\\n                  <img alt=\"Medium\" class=\"img-responsive\" height=\"100\" src=\"https://a0.muscache.com/pictures/20081616/medium.jpg\" width=\"150\" />\\n                  <div class=\"media-caption\">\\n                    <div>\\n                      Vacation Places\\n                    </div>\\n                    <div class=\"text-normal\">\\n                      2 Listings\\n                    </div>\\n                  </div>\\n</a>              </div>\\n          </div>\\n          <div class=\"row-space-top-2\">\\n          </div>\\n        </div>\\n\\n        <div class=\"reviews row-space-4\" id=\"reviews\">\\n          <h2>\\n            Reviews\\n            <small>(6)</small>\\n          </h2>\\n          <div>\\n            <div class=\"reviews_section as_guest row-space-top-3\">\\n              <h4 class=\"row-space-4\">\\n                Reviews From Hosts\\n              </h4>\\n              <div class=\"reviews\">\\n                \\n  <div class=\"row\">\\n    <div class=\"col-2\">\\n      <div class=\"pull-right\">\\n        <a href=\"/users/show/1561605\" class=\"media-photo media-round row-space-1\"><img alt=\"Phillip\" class=\"lazy\" data-original=\"https://a2.muscache.com/ic/users/1561605/profile_pic/1334009435/original.jpg?interpolation=lanczos-none&amp;crop=w:w;*,*&amp;crop=h:h;*,*&amp;resize=68:*&amp;output-format=jpg&amp;output-quality=70\" height=\"68\" src=\"https://a0.muscache.com/defaults/user_pic-68x68.png?v=2\" title=\"Phillip\" width=\"68\" /></a>\\n          <div class=\"text-center profile-name\">\\n            <a href=\"/users/show/1561605\" class=\"text-muted\">Phillip</a>\\n          </div>\\n      </div>\\n    </div>\\n    <div class=\"col-10\">\\n      <div class=\"row-space-2\">\\n        <div class=\"comment-container  row-space-2\" %>\\n          <p>\\n            Super easy guest and very nice gentleman. The apt was left as clean as when he checked in. \\n          </p>\\n        </div>\\n        <div class=\"text-muted date\">November 2013</div>\\n      </div>\\n\\n    </div>\\n  </div>\\n\\n  <div class=\"row row-space-2 line-separation\">\\n    <div class=\"col-10 col-offset-2\">\\n      <hr>\\n    </div>\\n  </div>\\n\\n  <div class=\"row\">\\n    <div class=\"col-2\">\\n      <div class=\"pull-right\">\\n        <a href=\"/users/show/41932\" class=\"media-photo media-round row-space-1\"><img alt=\"Lane\" class=\"lazy\" data-original=\"https://a2.muscache.com/ic/users/41932/profile_pic/1267127993/original.jpg?interpolation=lanczos-none&amp;crop=w:w;*,*&amp;crop=h:h;*,*&amp;resize=68:*&amp;output-format=jpg&amp;output-quality=70\" height=\"68\" src=\"https://a0.muscache.com/defaults/user_pic-68x68.png?v=2\" title=\"Lane\" width=\"68\" /></a>\\n          <div class=\"text-center profile-name\">\\n            <a href=\"/users/show/41932\" class=\"text-muted\">Lane</a>\\n          </div>\\n      </div>\\n    </div>\\n    <div class=\"col-10\">\\n      <div class=\"row-space-2\">\\n        <div class=\"comment-container  row-space-2\" %>\\n          <p>\\n            No problems. Easy hosting experience.\\n          </p>\\n        </div>\\n        <div class=\"text-muted date\">September 2012</div>\\n      </div>\\n\\n    </div>\\n  </div>\\n\\n  <div class=\"row row-space-2 line-separation\">\\n    <div class=\"col-10 col-offset-2\">\\n      <hr>\\n    </div>\\n  </div>\\n\\n  <div class=\"row\">\\n    <div class=\"col-2\">\\n      <div class=\"pull-right\">\\n        <a href=\"/users/show/175522\" class=\"media-photo media-round row-space-1\"><img alt=\"Donna\" class=\"lazy\" data-original=\"https://a1.muscache.com/ic/users/175522/profile_pic/1292122121/original.jpg?interpolation=lanczos-none&amp;crop=w:w;*,*&amp;crop=h:h;*,*&amp;resize=68:*&amp;output-format=jpg&amp;output-quality=70\" height=\"68\" src=\"https://a0.muscache.com/defaults/user_pic-68x68.png?v=2\" title=\"Donna\" width=\"68\" /></a>\\n          <div class=\"text-center profile-name\">\\n            <a href=\"/users/show/175522\" class=\"text-muted\">Donna</a>\\n          </div>\\n      </div>\\n    </div>\\n    <div class=\"col-10\">\\n      <div class=\"row-space-2\">\\n        <div class=\"comment-container  row-space-2\" %>\\n          <p>\\n            Matthew was a great guest! Friendly and considerate.\\n          </p>\\n        </div>\\n        <div class=\"text-muted date\">January 2012</div>\\n      </div>\\n\\n    </div>\\n  </div>\\n\\n  <div class=\"row row-space-2 line-separation\">\\n    <div class=\"col-10 col-offset-2\">\\n      <hr>\\n    </div>\\n  </div>\\n\\n  <div class=\"row\">\\n    <div class=\"col-2\">\\n      <div class=\"pull-right\">\\n        <a href=\"/users/show/212740\" class=\"media-photo media-round row-space-1\"><img alt=\"Shalini\" class=\"lazy\" data-original=\"https://a2.muscache.com/ic/users/212740/profile_pic/1282760781/original.jpg?interpolation=lanczos-none&amp;crop=w:w;*,*&amp;crop=h:h;*,*&amp;resize=68:*&amp;output-format=jpg&amp;output-quality=70\" height=\"68\" src=\"https://a0.muscache.com/defaults/user_pic-68x68.png?v=2\" title=\"Shalini\" width=\"68\" /></a>\\n          <div class=\"text-center profile-name\">\\n            <a href=\"/users/show/212740\" class=\"text-muted\">Shalini</a>\\n          </div>\\n      </div>\\n    </div>\\n    <div class=\"col-10\">\\n      <div class=\"row-space-2\">\\n        <div class=\"comment-container  row-space-2\" %>\\n          <p>\\n            Matt&#x27;s a sweet, smart guy from our brief conversation with him. He left the place really clean.\\n          </p>\\n        </div>\\n        <div class=\"text-muted date\">December 2011</div>\\n      </div>\\n\\n    </div>\\n  </div>\\n\\n  <div class=\"row row-space-2 line-separation\">\\n    <div class=\"col-10 col-offset-2\">\\n      <hr>\\n    </div>\\n  </div>\\n\\n  <div class=\"row\">\\n    <div class=\"col-2\">\\n      <div class=\"pull-right\">\\n        <a href=\"/users/show/934641\" class=\"media-photo media-round row-space-1\"><img alt=\"Nick\" class=\"lazy\" data-original=\"https://a0.muscache.com/ic/users/934641/profile_pic/1350913492/original.jpg?interpolation=lanczos-none&amp;crop=w:w;*,*&amp;crop=h:h;*,*&amp;resize=68:*&amp;output-format=jpg&amp;output-quality=70\" height=\"68\" src=\"https://a0.muscache.com/defaults/user_pic-68x68.png?v=2\" title=\"Nick\" width=\"68\" /></a>\\n          <div class=\"text-center profile-name\">\\n            <a href=\"/users/show/934641\" class=\"text-muted\">Nick</a>\\n          </div>\\n      </div>\\n    </div>\\n    <div class=\"col-10\">\\n      <div class=\"row-space-2\">\\n        <div class=\"comment-container  row-space-2\" %>\\n          <p>\\n            Matthew was a great guest. Kind and respectful, he was very easy to get in touch with and had a very easygoing vibe about him. He left the place in get condition and was very flexible with his schedule on any things regarding the apartment. I would gladly host him again if he&#x27;s ever in town and I&#x27;d recommend him for anywhere else he goes in the future.\\n          </p>\\n        </div>\\n        <div class=\"text-muted date\">December 2011</div>\\n      </div>\\n\\n    </div>\\n  </div>\\n\\n  <div class=\"row row-space-2 line-separation\">\\n    <div class=\"col-10 col-offset-2\">\\n      <hr>\\n    </div>\\n  </div>\\n\\n  <div class=\"row\">\\n    <div class=\"col-2\">\\n      <div class=\"pull-right\">\\n        <a href=\"/users/show/367871\" class=\"media-photo media-round row-space-1\"><img alt=\"Laura\" class=\"lazy\" data-original=\"https://a0.muscache.com/ic/users/367871/profile_pic/1296353708/original.jpg?interpolation=lanczos-none&amp;crop=w:w;*,*&amp;crop=h:h;*,*&amp;resize=68:*&amp;output-format=jpg&amp;output-quality=70\" height=\"68\" src=\"https://a0.muscache.com/defaults/user_pic-68x68.png?v=2\" title=\"Laura\" width=\"68\" /></a>\\n          <div class=\"text-center profile-name\">\\n            <a href=\"/users/show/367871\" class=\"text-muted\">Laura</a>\\n          </div>\\n      </div>\\n    </div>\\n    <div class=\"col-10\">\\n      <div class=\"row-space-2\">\\n        <div class=\"comment-container  row-space-2\" %>\\n          <p>\\n            Matt was a great guest! All the best!\\n          </p>\\n        </div>\\n        <div class=\"text-muted date\">July 2011</div>\\n      </div>\\n\\n    </div>\\n  </div>\\n\\n  <div class=\"row row-space-2 line-separation\">\\n    <div class=\"col-10 col-offset-2\">\\n      <hr>\\n    </div>\\n  </div>\\n\\n              </div>\\n            </div>\\n          </div>\\n        </div>\\n\\n      </div>\\n    </div>\\n  </div>\\n</div>\\n\\n\\n\\n<div id=\"staged-photos\"></div>\\n\\n\\n      <div id=\"footer\" class=\"container-brand-dark footer-surround footer-container\">\\n        <div class=\"footer-content-container container page-container page-container-responsive\">\\n  <div class=\"row row-condensed\">\\n    <div class=\"span3 col-3\">\\n      <div class=\"row row-condensed\">\\n        <div class=\"span9 col-9\">\\n          <div class=\"language-curr-picker clearfix\">\\n            <div class=\"language-picker\"></div>\\n              <div class=\"currency-picker\"></div>\\n          </div>\\n        </div>\\n      </div>\\n    </div>\\n\\n    <div class=\"span3 col-3 hide-phone\">\\n      <h5>Company</h5>\\n      <ul class=\"unstyled list-layout\">\\n        <li><a href=\"/about/about-us\" class=\"link-contrast\">About</a></li>\\n        <li><a href=\"/jobs\" class=\"link-contrast\">Jobs</a></li>\\n        <li><a href=\"/press/news\" class=\"link-contrast\">Press</a></li>\\n        <li><a href=\"http://blog.airbnb.com\" class=\"link-contrast\">Blog</a></li>\\n        <li><a href=\"/help\" class=\"link-contrast\">Help</a></li>\\n        <li><a href=\"/policies\" class=\"link-contrast\">Policies</a></li>\\n        <li><a href=\"/disaster-response\" class=\"link-contrast\">Disaster Response</a></li>\\n        <li><a href=\"/terms\" class=\"link-contrast\">Terms & Privacy</a></li>\\n      </ul>\\n    </div>\\n\\n    <div class=\"span3 col-3 hide-phone\">\\n      <h5>Discover</h5>\\n      <ul class=\"unstyled list-layout\">\\n        <li><a href=\"/trust\" class=\"link-contrast\">Trust & Safety</a></li>\\n        <li><a href=\"/invite?r=6\" class=\"link-contrast\">Give Travel Credit</a></li>\\n        <li><a href=\"/wishlists/airbnb_picks\" class=\"link-contrast\">Airbnb Picks</a></li>\\n        <li><a href=\"/mobile\" class=\"link-contrast\">Mobile</a></li>\\n        <li><a href=\"https://www.airbnbnyc.com\" class=\"link-contrast\">Support NYC</a></li>\\n        <li><a href=\"/business-travel\" class=\"link-contrast\">Business Travel</a></li>\\n        <li><a href=\"/sitemaps\" class=\"link-contrast\">Site Map</a></li>\\n      </ul>\\n    </div>\\n\\n    <div class=\"span3 col-3 hide-phone\">\\n      <h5>Hosting</h5>\\n      <ul class=\"unstyled list-layout\">\\n        <li><a href=\"/info/why_host\" class=\"link-contrast\">Why Host</a></li>\\n        <li><a href=\"/hospitality\" class=\"link-contrast\">Hospitality</a></li>\\n        <li><a href=\"/help/responsible-hosting\" class=\"link-contrast\">Responsible Hosting</a></li>\\n        <li><a href=\"/stories\" class=\"link-contrast\">Stories</a></li>\\n      </ul>\\n    </div>\\n  </div>\\n\\n  <hr class=\"footer-divider row-space-top-8 row-space-4 hide-phone\">\\n\\n  <div class=\"social-media text-center\">\\n    <h5 class=\"row-space-4 hide-phone\">Join Us On</h5>\\n    <ul class=\"unstyled list-layout list-inline\">\\n        <li>\\n          <a href=\"//www.facebook.com/airbnb\" class=\"link-contrast footer-icon-container\" target=\"_blank\">\\n            <i class=\\'icon footer-icon icon-facebook\\'></i>\\n</a>        </li>\\n        <li>\\n          <a href=\"https://plus.google.com/+airbnb\" class=\"link-contrast footer-icon-container\" target=\"_blank\">\\n            <i class=\\'icon footer-icon icon-google-plus\\'></i>\\n</a>        </li>\\n\\n        <li>\\n          <a href=\"//twitter.com/airbnb\" class=\"link-contrast footer-icon-container\" target=\"_blank\">\\n            <i class=\\'icon footer-icon icon-twitter\\'></i>\\n</a>        </li>\\n\\n      <li>\\n        <a href=\"http://www.linkedin.com/company/airbnb\" class=\"link-contrast footer-icon-container\" target=\"_blank\">\\n          <i class=\\'icon footer-icon icon-linkedin\\'></i>\\n</a>      </li>\\n\\n        <li>\\n          <a href=\"http://www.pinterest.com/airbnb/\" class=\"link-contrast footer-icon-container\" target=\"_blank\">\\n            <i class=\\'icon footer-icon icon-pinterest\\'></i>\\n</a>        </li>\\n        <li>\\n          <a href=\"http://www.youtube.com/airbnb\" class=\"link-contrast footer-icon-container\" target=\"_blank\">\\n            <i class=\\'icon footer-icon icon-youtube\\'></i>\\n</a>        </li>\\n    </ul>\\n    <div id=\"copyright\" class=\"row-space-top-2 text-muted\">\\n      &copy; Airbnb, Inc.\\n    </div>\\n  </div>\\n</div>\\n\\n      </div>\\n\\n      <div id=\"fb-root\"></div>\\n\\n    <div id=\"gmap-preload\" class=\"hide\"></div>\\n    <!--[if lt IE 9]>\\n      <script src=\"https://a1.muscache.com/airbnb/static/libs_jquery_1x-e7a078a56c26a6fc7770dcf80673b06c.js\" type=\"text/javascript\"></script>\\n    <![endif]-->\\n    <!--[if gte IE 9]><!-->\\n      <script src=\"https://a1.muscache.com/airbnb/static/libs_jquery_2x-28730027aee01fc98ecee586a11190ba.js\" type=\"text/javascript\"></script>\\n    <!--<![endif]-->\\n    <script src=\"https://a0.muscache.com/airbnb/static/o2.1-02dff59e7e0e2770c64bb35dc8513589.js\" type=\"text/javascript\"></script>\\n    <script src=\"https://a0.muscache.com/airbnb/static/core-6ff71566a4f71817bc1e997ded9ca7a4.js\" type=\"text/javascript\"></script>\\n\\n    <script>\\n      if (Airbnb.Tracking) {\\n        Airbnb.Tracking.setBev();\\n      }\\n\\n      I18n.init(\\n        {\"country\":\"US\",\"currencies\":{\"ARS\":{\"symbol\":\"$\",\"code_required\":true,\"options\":null},\"AUD\":{\"symbol\":\"$\",\"code_required\":true,\"options\":null},\"BRL\":{\"symbol\":\"R$\",\"code_required\":false,\"options\":{\"space_between_price_and_symbol\":true}},\"CAD\":{\"symbol\":\"$\",\"code_required\":true,\"options\":null},\"CHF\":{\"symbol\":\"CHF\",\"code_required\":false,\"options\":{\"position\":\"after\",\"space_between_price_and_symbol\":true}},\"CNY\":{\"symbol\":\"&yen;\",\"code_required\":false,\"options\":{\"unicode_symbol\":\"\\xa5\"}},\"CZK\":{\"symbol\":\"&#75;&#269;\",\"code_required\":false,\"options\":{\"unicode_symbol\":\"K\\u010d\"}},\"DKK\":{\"symbol\":\"kr\",\"code_required\":true,\"options\":{\"position\":\"after\",\"space_between_price_and_symbol\":true,\"explicit_currency_not_aesthetic\":true}},\"EUR\":{\"symbol\":\"&euro;\",\"code_required\":false,\"options\":{\"unicode_symbol\":\"\\u20ac\",\"position\":\"special\"}},\"GBP\":{\"symbol\":\"&pound;\",\"code_required\":false,\"options\":{\"unicode_symbol\":\"\\xa3\"}},\"HKD\":{\"symbol\":\"$\",\"code_required\":true,\"options\":null},\"HUF\":{\"symbol\":\"Ft\",\"code_required\":false,\"options\":null},\"IDR\":{\"symbol\":\"Rp\",\"code_required\":false,\"options\":null},\"ILS\":{\"symbol\":\"&#8362;\",\"code_required\":false,\"options\":{\"unicode_symbol\":\"\\u20aa\",\"space_between_price_and_symbol\":true}},\"INR\":{\"symbol\":\"&#8377;\",\"code_required\":false,\"options\":{\"unicode_symbol\":\"\\u20b9\"}},\"JPY\":{\"symbol\":\"&yen;\",\"code_required\":false,\"options\":{\"unicode_symbol\":\"\\xa5\",\"space_between_price_and_symbol\":true}},\"KRW\":{\"symbol\":\"&#8361;\",\"code_required\":false,\"options\":{\"unicode_symbol\":\"\\u20a9\"}},\"MYR\":{\"symbol\":\"&#82;&#77;\",\"code_required\":false,\"options\":{\"unicode_symbol\":\"RM\"}},\"MXN\":{\"symbol\":\"$\",\"code_required\":true,\"options\":null},\"NOK\":{\"symbol\":\"kr\",\"code_required\":true,\"options\":{\"position\":\"after\",\"space_between_price_and_symbol\":true,\"explicit_currency_not_aesthetic\":true}},\"NZD\":{\"symbol\":\"$\",\"code_required\":true,\"options\":null},\"PHP\":{\"symbol\":\"&#8369;\",\"code_required\":false,\"options\":{\"unicode_symbol\":\"\\u20b1\"}},\"PLN\":{\"symbol\":\"z&#22;&#322;\",\"code_required\":false,\"options\":{\"unicode_symbol\":\"z\\u0142\",\"position\":\"after\",\"space_between_price_and_symbol\":true}},\"RUB\":{\"symbol\":\"&#1088;\",\"code_required\":false,\"options\":{\"unicode_symbol\":\"\\u0440\",\"position\":\"after\"}},\"SEK\":{\"symbol\":\"kr\",\"code_required\":true,\"options\":{\"position\":\"after\",\"space_between_price_and_symbol\":true,\"explicit_currency_not_aesthetic\":true}},\"SGD\":{\"symbol\":\"$\",\"code_required\":true,\"options\":null},\"THB\":{\"symbol\":\"&#3647;\",\"code_required\":false,\"options\":{\"unicode_symbol\":\"\\u0e3f\"}},\"TRY\":{\"symbol\":\"&#84;&#76;\",\"code_required\":false,\"options\":{\"unicode_symbol\":\"TL\",\"position\":\"after\",\"space_between_price_and_symbol\":true}},\"TWD\":{\"symbol\":\"$\",\"code_required\":true,\"options\":null},\"USD\":{\"symbol\":\"$\",\"code_required\":false,\"options\":null},\"VND\":{\"symbol\":\"&#8363;\",\"code_required\":false,\"options\":{\"unicode_symbol\":\"\\u20ab\"}},\"ZAR\":{\"symbol\":\"R\",\"code_required\":true,\"options\":null}},\"current_locale_name\":\"English\",\"languages\":[{\"locale_name\":\"Bahasa Indonesia\",\"locale\":\"id\"},{\"locale_name\":\"Bahasa Melayu\",\"locale\":\"ms\"},{\"locale_name\":\"Catal\\xe0\",\"locale\":\"ca\"},{\"locale_name\":\"Dansk\",\"locale\":\"da\"},{\"locale_name\":\"Deutsch\",\"locale\":\"de\"},{\"locale_name\":\"English\",\"locale\":\"en\"},{\"locale_name\":\"Espa\\xf1ol\",\"locale\":\"es\"},{\"locale_name\":\"E\\u03bb\\u03bb\\u03b7\\u03bd\\u03b9\\u03ba\\u03ac\",\"locale\":\"el\"},{\"locale_name\":\"Fran\\xe7ais\",\"locale\":\"fr\"},{\"locale_name\":\"Italiano\",\"locale\":\"it\"},{\"locale_name\":\"Magyar\",\"locale\":\"hu\"},{\"locale_name\":\"Nederlands\",\"locale\":\"nl\"},{\"locale_name\":\"Norsk\",\"locale\":\"no\"},{\"locale_name\":\"Polski\",\"locale\":\"pl\"},{\"locale_name\":\"Portugu\\xeas\",\"locale\":\"pt\"},{\"locale_name\":\"Suomi\",\"locale\":\"fi\"},{\"locale_name\":\"Svenska\",\"locale\":\"sv\"},{\"locale_name\":\"T\\xfcrk\\xe7e\",\"locale\":\"tr\"},{\"locale_name\":\"\\xcdslenska\",\"locale\":\"is\"},{\"locale_name\":\"\\u010ce\\u0161tina\",\"locale\":\"cs\"},{\"locale_name\":\"\\u0420\\u0443\\u0441\\u0441\\u043a\\u0438\\u0439\",\"locale\":\"ru\"},{\"locale_name\":\"\\u0e20\\u0e32\\u0e29\\u0e32\\u0e44\\u0e17\\u0e22\",\"locale\":\"th\"},{\"locale_name\":\"\\u4e2d\\u6587 (\\u7b80\\u4f53)\",\"locale\":\"zh\"},{\"locale_name\":\"\\u4e2d\\u6587 (\\u7e41\\u9ad4)\",\"locale\":\"zh-TW\"},{\"locale_name\":\"\\u65e5\\u672c\\u8a9e\",\"locale\":\"ja\"},{\"locale_name\":\"\\ud55c\\uad6d\\uc5b4\",\"locale\":\"ko\"}]}\\n      );\\n      I18n.extend({\"Password\":\"Password\",\"users.Confirm_Password_to_Continue\":\"Confirm Password to Continue\",\"users.Confirm_Password\":\"Confirm Password\",\"users.Cancel\":\"Cancel\",\"users.Please_enter_your_Airbnb_password_to_continue.\":\"For your security, please enter your Airbnb password to continue.\",\"user.signup.forgot_password\":\"Forgot password?\",\"users.Confirm_Facebook_Password\":\"Confirm Facebook Password\",\"choose_language\":\"Choose language\",\"choose_currency\":\"Choose currency\",\"clear_dates\":\"Clear Dates\",\"datepicker_updated_years_ago\":\"Updated %{smart_count} year ago |||| Updated %{smart_count} years ago\",\"datepicker_updated_months_ago\":\"Updated %{smart_count} month ago |||| Updated %{smart_count} months ago\",\"datepicker_updated_days_ago\":\"Updated %{smart_count} day ago |||| Updated %{smart_count} days ago\",\"datepicker_updated_today\":\"Updated today\",\"datepicker_never_updated\":\"Never updated\",\"datepicker_min_nights\":\"%{smart_count} night minimum stay |||| %{smart_count} night minimum stay\"});\\n    </script>\\n\\n\\n    <script>\\n  (function(c,a){window.mixpanel=a;var b,d,h,e;\\n  a._i=[];a.init=function(b,c,f){function d(a,b){var c=b.split(\".\");2==c.length&&(a=a[c[0]],b=c[1]);a[b]=function(){a.push([b].concat(Array.prototype.slice.call(arguments,0)))}}var g=a;\"undefined\"!==typeof f?g=a[f]=[]:f=\"mixpanel\";g.people=g.people||[];h=[\\'disable\\',\\'track\\',\\'track_pageview\\',\\'track_links\\',\\'track_forms\\',\\'register\\',\\'register_once\\',\\'unregister\\',\\'identify\\',\\'name_tag\\',\\'set_config\\',\\'people.identify\\',\\'people.set\\',\\'people.increment\\'];for(e=0;e<h.length;e++)d(g,h[e]);a._i.push([b,c,f])};a.__SV=1.1;})(document,window.mixpanel||[]);mixpanel.init(\"871bd83d174bd67e8c8643e833a4514d\");\\n</script>\\n\\n\\n      <script>\\n        !function() {\\n          var Facebook = require(\\'airbnb.facebook\\');\\n          Facebook.init({\"appId\":\"138566025676\",\"scope\":\"email,user_birthday,user_likes,user_education_history,user_hometown,user_interests,user_activities,user_location,user_friends\"});\\n        }();\\n      </script>\\n\\n    \\n    <script src=\"https://a2.muscache.com/airbnb/static/profile-c9d87214b8f1bb2b44cdec608b60a26c.js\" type=\"text/javascript\"></script>\\n    \\n\\n    <script>\\n      window.___gcfg = {lang: \\'en\\', parsetags: \\'onload\\'};\\n\\n      var initOptions = {\"canonical_host\":\"www.airbnb.com\",\"canonical_url\":\"https://www.airbnb.com/users/show/100900\",\"language\":\"en\",\"locale\":\"en\"};\\n      Airbnb.init(initOptions);\\n      var userID = Airbnb.userAttributes.id || null;\\n      (function() {\\n        Airbnb.o2Version = \"o2.1\";\\n\\n        Airbnb.LangCurrPicker.init();\\n\\n        Airbnb.header = new Airbnb.Header();\\n\\n        if (Airbnb.Tracking) {\\n          var roleType = \"production\";\\n\\n          Airbnb.addInitHook(function() {\\n            Airbnb.Tracking.init();\\n\\n            Airbnb.Tracking.addDefaultContext();\\n            Airbnb.Tracking.addContext(\\n              _.extend({\"o2Version\":\"o2.1\",\"source\":\"monorail\",\"platform\":\"js\",\"version\":\"7ba2141cb38bec2272819b0918daaa1c9487d523\",\"controller\":\"users\",\"action\":\"show\",\"req_uuid\":\"7269fdc3-98a5-4152-a415-1b4a4f260547\"}, {\\n                user_id: userID\\n              }));\\n          });\\n        }\\n\\n      })();\\n\\n      Airbnb.Api.configure({\"baseUrl\":\"https://www.airbnb.com/api\",\"key\":\"d306zoyjsyarp7ifhu67rjxn52tv0t20\"});\\n\\n\\n        (function() {\\n          var flash = require(\\'o2-flash\\');\\n          flash.display();\\n        })();\\n\\n      \\n    I18n.extend({\"editProfile\":\"Edit Profile\",\"response_from_you\":\"Response from you:\",\"error_saving_your_response\":\"Sorry, there has been an error replying to this review.\",\"response_tooltip_title\":\"If you disagree with this review or would like to address concerns raised by the user, you may leave a response. Please be sure to follow our Review Guidelines.\"});\\n\\n  Airbnb.Profile.init({\\n    hasProfileVideo: false,\\n    userId: 100900\\n  });\\n\\n    </script>\\n\\n    <script>\\n(function($, ua) {\\n  $(window).on(\\'load.pellet\\', function(){\\n    if(ua.should_drop_pellet){\\n      Airbnb.Pellet.drop(\\'kfgn8s24\\');\\n    }\\n  });\\n\\n  if (ua.should_drop_sift_pellet) {\\n    $(window).on(\\'load\\', function(){\\n      window._sift = window._sift || [];\\n      _sift.push([\\'_setAccount\\', \\'5d704de7e8\\']);\\n      _sift.push([\\'_setUserId\\', ua.eid || \\'\\']);\\n      _sift.push([\\'_setSessionId\\', Airbnb.Utils.readCookie(\\'esid\\')]);\\n      _sift.push([\\'_trackPageview\\']);\\n      LazyLoad.js(\\'//cdn.siftscience.com/s.js\\');\\n    });\\n  }\\n\\n})(jQuery, Airbnb.userAttributes);\\n\\n</script>\\n\\n\\n    <script>\\n      LazyLoad.js(\\'//a0.muscache.com/3p/_latest/abb_combo_all_fb_locale-en_US.js\\');\\n    </script>\\n\\n  </body>\\n</html>\\n<!-- ver. 7ba2141cb38bec2272819b0918daaa1c9487d523 -->\\n'"
       ]
      }
     ],
     "prompt_number": 32
    },
    {
     "cell_type": "code",
     "collapsed": false,
     "input": [
      "soup = BeautifulSoup( response.text )"
     ],
     "language": "python",
     "metadata": {},
     "outputs": [],
     "prompt_number": 22
    },
    {
     "cell_type": "code",
     "collapsed": false,
     "input": [
      "test = soup.find_all( 'a', href=user_re )\n",
      "test"
     ],
     "language": "python",
     "metadata": {},
     "outputs": [
      {
       "metadata": {},
       "output_type": "pyout",
       "prompt_number": 24,
       "text": [
        "[<a class=\"link-reset\" href=\"/users/show/100900#reviews\">\n",
        " <div class=\"text-center text-wrap\">\n",
        " <div class=\"badge-pill h3\">\n",
        " <span class=\"badge-pill-count\">6</span>\n",
        " </div>\n",
        " <div class=\"row-space-top-1\">Reviews</div>\n",
        " </div>\n",
        " </a>,\n",
        " <a class=\"media-photo media-round row-space-1\" href=\"/users/show/1561605\"><img alt=\"Phillip\" class=\"lazy\" data-original=\"https://a2.muscache.com/ic/users/1561605/profile_pic/1334009435/original.jpg?interpolation=lanczos-none&amp;crop=w:w;*,*&amp;crop=h:h;*,*&amp;resize=68:*&amp;output-format=jpg&amp;output-quality=70\" height=\"68\" src=\"https://a0.muscache.com/defaults/user_pic-68x68.png?v=2\" title=\"Phillip\" width=\"68\"/></a>,\n",
        " <a class=\"text-muted\" href=\"/users/show/1561605\">Phillip</a>,\n",
        " <a class=\"media-photo media-round row-space-1\" href=\"/users/show/41932\"><img alt=\"Lane\" class=\"lazy\" data-original=\"https://a2.muscache.com/ic/users/41932/profile_pic/1267127993/original.jpg?interpolation=lanczos-none&amp;crop=w:w;*,*&amp;crop=h:h;*,*&amp;resize=68:*&amp;output-format=jpg&amp;output-quality=70\" height=\"68\" src=\"https://a0.muscache.com/defaults/user_pic-68x68.png?v=2\" title=\"Lane\" width=\"68\"/></a>,\n",
        " <a class=\"text-muted\" href=\"/users/show/41932\">Lane</a>,\n",
        " <a class=\"media-photo media-round row-space-1\" href=\"/users/show/175522\"><img alt=\"Donna\" class=\"lazy\" data-original=\"https://a1.muscache.com/ic/users/175522/profile_pic/1292122121/original.jpg?interpolation=lanczos-none&amp;crop=w:w;*,*&amp;crop=h:h;*,*&amp;resize=68:*&amp;output-format=jpg&amp;output-quality=70\" height=\"68\" src=\"https://a0.muscache.com/defaults/user_pic-68x68.png?v=2\" title=\"Donna\" width=\"68\"/></a>,\n",
        " <a class=\"text-muted\" href=\"/users/show/175522\">Donna</a>,\n",
        " <a class=\"media-photo media-round row-space-1\" href=\"/users/show/212740\"><img alt=\"Shalini\" class=\"lazy\" data-original=\"https://a2.muscache.com/ic/users/212740/profile_pic/1282760781/original.jpg?interpolation=lanczos-none&amp;crop=w:w;*,*&amp;crop=h:h;*,*&amp;resize=68:*&amp;output-format=jpg&amp;output-quality=70\" height=\"68\" src=\"https://a0.muscache.com/defaults/user_pic-68x68.png?v=2\" title=\"Shalini\" width=\"68\"/></a>,\n",
        " <a class=\"text-muted\" href=\"/users/show/212740\">Shalini</a>,\n",
        " <a class=\"media-photo media-round row-space-1\" href=\"/users/show/934641\"><img alt=\"Nick\" class=\"lazy\" data-original=\"https://a0.muscache.com/ic/users/934641/profile_pic/1350913492/original.jpg?interpolation=lanczos-none&amp;crop=w:w;*,*&amp;crop=h:h;*,*&amp;resize=68:*&amp;output-format=jpg&amp;output-quality=70\" height=\"68\" src=\"https://a0.muscache.com/defaults/user_pic-68x68.png?v=2\" title=\"Nick\" width=\"68\"/></a>,\n",
        " <a class=\"text-muted\" href=\"/users/show/934641\">Nick</a>,\n",
        " <a class=\"media-photo media-round row-space-1\" href=\"/users/show/367871\"><img alt=\"Laura\" class=\"lazy\" data-original=\"https://a0.muscache.com/ic/users/367871/profile_pic/1296353708/original.jpg?interpolation=lanczos-none&amp;crop=w:w;*,*&amp;crop=h:h;*,*&amp;resize=68:*&amp;output-format=jpg&amp;output-quality=70\" height=\"68\" src=\"https://a0.muscache.com/defaults/user_pic-68x68.png?v=2\" title=\"Laura\" width=\"68\"/></a>,\n",
        " <a class=\"text-muted\" href=\"/users/show/367871\">Laura</a>]"
       ]
      }
     ],
     "prompt_number": 24
    },
    {
     "cell_type": "code",
     "collapsed": false,
     "input": [
      "test1 = test[1]"
     ],
     "language": "python",
     "metadata": {},
     "outputs": [],
     "prompt_number": 18
    },
    {
     "cell_type": "code",
     "collapsed": false,
     "input": [
      "test1"
     ],
     "language": "python",
     "metadata": {},
     "outputs": [
      {
       "metadata": {},
       "output_type": "pyout",
       "prompt_number": 19,
       "text": [
        "<a class=\"media-photo media-round row-space-1\" href=\"/users/show/1561605\"><img alt=\"Phillip\" class=\"lazy\" data-original=\"https://a2.muscache.com/ic/users/1561605/profile_pic/1334009435/original.jpg?interpolation=lanczos-none&amp;crop=w:w;*,*&amp;crop=h:h;*,*&amp;resize=68:*&amp;output-format=jpg&amp;output-quality=70\" height=\"68\" src=\"https://a0.muscache.com/defaults/user_pic-68x68.png?v=2\" title=\"Phillip\" width=\"68\"/></a>"
       ]
      }
     ],
     "prompt_number": 19
    },
    {
     "cell_type": "code",
     "collapsed": false,
     "input": [
      "test1['href']"
     ],
     "language": "python",
     "metadata": {},
     "outputs": [
      {
       "metadata": {},
       "output_type": "pyout",
       "prompt_number": 20,
       "text": [
        "'/users/show/1561605'"
       ]
      }
     ],
     "prompt_number": 20
    },
    {
     "cell_type": "code",
     "collapsed": false,
     "input": [
      "soup.find_all( 'img', src=user_photo_re )"
     ],
     "language": "python",
     "metadata": {},
     "outputs": [
      {
       "metadata": {},
       "output_type": "pyout",
       "prompt_number": 31,
       "text": [
        "[<img alt=\"Matthew\" class=\"img-responsive\" height=\"225\" src=\"https://a2.muscache.com/ic/users/100900/profile_pic/1319163349/original.jpg?interpolation=lanczos-none&amp;crop=w:w;*,*&amp;crop=h:h;*,*&amp;resize=225:*&amp;output-format=jpg&amp;output-quality=70\" title=\"Matthew\" width=\"225\"/>]"
       ]
      }
     ],
     "prompt_number": 31
    },
    {
     "cell_type": "code",
     "collapsed": false,
     "input": [
      "soup.find_all( 'img', attrs= {'data-original' : user_photo_re} )"
     ],
     "language": "python",
     "metadata": {},
     "outputs": [
      {
       "metadata": {},
       "output_type": "pyout",
       "prompt_number": 33,
       "text": [
        "[<img alt=\"Phillip\" class=\"lazy\" data-original=\"https://a2.muscache.com/ic/users/1561605/profile_pic/1334009435/original.jpg?interpolation=lanczos-none&amp;crop=w:w;*,*&amp;crop=h:h;*,*&amp;resize=68:*&amp;output-format=jpg&amp;output-quality=70\" height=\"68\" src=\"https://a0.muscache.com/defaults/user_pic-68x68.png?v=2\" title=\"Phillip\" width=\"68\"/>,\n",
        " <img alt=\"Lane\" class=\"lazy\" data-original=\"https://a2.muscache.com/ic/users/41932/profile_pic/1267127993/original.jpg?interpolation=lanczos-none&amp;crop=w:w;*,*&amp;crop=h:h;*,*&amp;resize=68:*&amp;output-format=jpg&amp;output-quality=70\" height=\"68\" src=\"https://a0.muscache.com/defaults/user_pic-68x68.png?v=2\" title=\"Lane\" width=\"68\"/>,\n",
        " <img alt=\"Donna\" class=\"lazy\" data-original=\"https://a1.muscache.com/ic/users/175522/profile_pic/1292122121/original.jpg?interpolation=lanczos-none&amp;crop=w:w;*,*&amp;crop=h:h;*,*&amp;resize=68:*&amp;output-format=jpg&amp;output-quality=70\" height=\"68\" src=\"https://a0.muscache.com/defaults/user_pic-68x68.png?v=2\" title=\"Donna\" width=\"68\"/>,\n",
        " <img alt=\"Shalini\" class=\"lazy\" data-original=\"https://a2.muscache.com/ic/users/212740/profile_pic/1282760781/original.jpg?interpolation=lanczos-none&amp;crop=w:w;*,*&amp;crop=h:h;*,*&amp;resize=68:*&amp;output-format=jpg&amp;output-quality=70\" height=\"68\" src=\"https://a0.muscache.com/defaults/user_pic-68x68.png?v=2\" title=\"Shalini\" width=\"68\"/>,\n",
        " <img alt=\"Nick\" class=\"lazy\" data-original=\"https://a0.muscache.com/ic/users/934641/profile_pic/1350913492/original.jpg?interpolation=lanczos-none&amp;crop=w:w;*,*&amp;crop=h:h;*,*&amp;resize=68:*&amp;output-format=jpg&amp;output-quality=70\" height=\"68\" src=\"https://a0.muscache.com/defaults/user_pic-68x68.png?v=2\" title=\"Nick\" width=\"68\"/>,\n",
        " <img alt=\"Laura\" class=\"lazy\" data-original=\"https://a0.muscache.com/ic/users/367871/profile_pic/1296353708/original.jpg?interpolation=lanczos-none&amp;crop=w:w;*,*&amp;crop=h:h;*,*&amp;resize=68:*&amp;output-format=jpg&amp;output-quality=70\" height=\"68\" src=\"https://a0.muscache.com/defaults/user_pic-68x68.png?v=2\" title=\"Laura\" width=\"68\"/>]"
       ]
      }
     ],
     "prompt_number": 33
    },
    {
     "cell_type": "code",
     "collapsed": false,
     "input": [
      "user_pages = soup.find_all( 'a', href=user_re )\n",
      "user_pages = [ page['href'] for page in user_pages ]\n",
      "user_pages"
     ],
     "language": "python",
     "metadata": {},
     "outputs": [
      {
       "metadata": {},
       "output_type": "pyout",
       "prompt_number": 36,
       "text": [
        "['/users/show/100900#reviews',\n",
        " '/users/show/1561605',\n",
        " '/users/show/1561605',\n",
        " '/users/show/41932',\n",
        " '/users/show/41932',\n",
        " '/users/show/175522',\n",
        " '/users/show/175522',\n",
        " '/users/show/212740',\n",
        " '/users/show/212740',\n",
        " '/users/show/934641',\n",
        " '/users/show/934641',\n",
        " '/users/show/367871',\n",
        " '/users/show/367871']"
       ]
      }
     ],
     "prompt_number": 36
    },
    {
     "cell_type": "code",
     "collapsed": false,
     "input": [
      "room_pages = soup.find_all( 'a', href=room_re )\n",
      "room_pages = [ page['href'] for page in room_pages ]\n",
      "room_pages"
     ],
     "language": "python",
     "metadata": {},
     "outputs": [
      {
       "metadata": {},
       "output_type": "pyout",
       "prompt_number": 37,
       "text": [
        "['/rooms/new']"
       ]
      }
     ],
     "prompt_number": 37
    },
    {
     "cell_type": "code",
     "collapsed": false,
     "input": [
      "main_photos = soup.find_all( 'img', src=user_photo_re )\n",
      "main_photos = [ link['src'].split('?')[0] for link in main_photos ]\n",
      "main_photos"
     ],
     "language": "python",
     "metadata": {},
     "outputs": [
      {
       "metadata": {},
       "output_type": "pyout",
       "prompt_number": 41,
       "text": [
        "['https://a2.muscache.com/ic/users/100900/profile_pic/1319163349/original.jpg']"
       ]
      }
     ],
     "prompt_number": 41
    },
    {
     "cell_type": "code",
     "collapsed": false,
     "input": [
      "user_photos = soup.find_all( 'img', attrs= {'data-original' : user_photo_re} )\n",
      "user_photos = [ link['data-original'].split('?')[0] for link in user_photos ]\n",
      "user_photos"
     ],
     "language": "python",
     "metadata": {},
     "outputs": [
      {
       "metadata": {},
       "output_type": "pyout",
       "prompt_number": 42,
       "text": [
        "['https://a2.muscache.com/ic/users/1561605/profile_pic/1334009435/original.jpg',\n",
        " 'https://a2.muscache.com/ic/users/41932/profile_pic/1267127993/original.jpg',\n",
        " 'https://a1.muscache.com/ic/users/175522/profile_pic/1292122121/original.jpg',\n",
        " 'https://a2.muscache.com/ic/users/212740/profile_pic/1282760781/original.jpg',\n",
        " 'https://a0.muscache.com/ic/users/934641/profile_pic/1350913492/original.jpg',\n",
        " 'https://a0.muscache.com/ic/users/367871/profile_pic/1296353708/original.jpg']"
       ]
      }
     ],
     "prompt_number": 42
    },
    {
     "cell_type": "code",
     "collapsed": false,
     "input": [
      "room_photos = soup.find_all( 'img', src=room_photo_re )\n",
      "room_photos = [ link['src'].split('?')[0] for link in room_photos ]\n",
      "room_photos"
     ],
     "language": "python",
     "metadata": {},
     "outputs": [
      {
       "metadata": {},
       "output_type": "pyout",
       "prompt_number": 38,
       "text": [
        "['https://a0.muscache.com/pictures/20081616/medium.jpg']"
       ]
      }
     ],
     "prompt_number": 38
    },
    {
     "cell_type": "code",
     "collapsed": false,
     "input": [
      "def process_page( url ):\n",
      "    \n",
      "    response = requests.get( url )\n",
      "    soup = BeautifulSoup( response.text )\n",
      "    \n",
      "    user_pages = soup.find_all( 'a', href=user_re )\n",
      "    user_pages = [ page['href'].split('#')[0] for page in user_pages ]\n",
      "    \n",
      "    room_pages = soup.find_all( 'a', href=room_re )\n",
      "    room_pages = [ page['href'] for page in room_pages ]\n",
      "    \n",
      "    main_photos = soup.find_all( 'img', src=user_photo_re )\n",
      "    main_photos = [ link['src'].split('?')[0] for link in main_photos ]\n",
      "    user_photos = soup.find_all( 'img', attrs= {'data-original' : user_photo_re} )\n",
      "    user_photos = [ link['data-original'].split('?')[0] for link in user_photos ]\n",
      "    user_photos = main_photos + user_photos\n",
      "\n",
      "    room_photos = soup.find_all( 'img', src=room_photo_re )\n",
      "    room_photos = [ link['src'].split('?')[0] for link in room_photos ]\n",
      "    \n",
      "    return user_pages, room_pages, user_photos, room_photos"
     ],
     "language": "python",
     "metadata": {},
     "outputs": [],
     "prompt_number": 5
    },
    {
     "cell_type": "code",
     "collapsed": false,
     "input": [
      "def abs_url( url ):\n",
      "    if 'airbnb' not in url:\n",
      "        return 'https://www.airbnb.com' + url \n",
      "    return url"
     ],
     "language": "python",
     "metadata": {},
     "outputs": [],
     "prompt_number": 6
    },
    {
     "cell_type": "code",
     "collapsed": false,
     "input": [
      "PAGES = [ 'https://www.airbnb.com/users/show/100900' ]"
     ],
     "language": "python",
     "metadata": {},
     "outputs": [],
     "prompt_number": 15
    },
    {
     "cell_type": "code",
     "collapsed": false,
     "input": [
      "SEEN_PAGES  = set()\n",
      "USER_PHOTOS = set()\n",
      "ROOM_PHOTOS = set()"
     ],
     "language": "python",
     "metadata": {},
     "outputs": [],
     "prompt_number": 16
    },
    {
     "cell_type": "code",
     "collapsed": false,
     "input": [
      "count = 0\n",
      "while count < len( PAGES ) and count < 500:\n",
      "    \n",
      "    url = PAGES[count]\n",
      "    count += 1\n",
      "    \n",
      "    if 'pinterest' in url:\n",
      "        continue\n",
      "    if 'facebook' in url:\n",
      "        continue\n",
      "    if 'twitter' in url:\n",
      "        continue\n",
      "    if 'google' in url:\n",
      "        continue\n",
      "    \n",
      "    print count-1, '|',\n",
      "    print len( PAGES ), len( USER_PHOTOS ), len( ROOM_PHOTOS ), '|',\n",
      "    print url\n",
      "\n",
      "    user_pages, room_pages, user_photos, room_photos = process_page( url )\n",
      "\n",
      "#     print user_pages\n",
      "#     print room_pages\n",
      "#     print user_photos\n",
      "#     print room_photos\n",
      "\n",
      "#     print PAGES\n",
      "#     print SEEN_PAGES\n",
      "    \n",
      "    user_pages = [ abs_url( p ) for p in user_pages ]\n",
      "    room_pages = [ abs_url( p ) for p in room_pages ]\n",
      "    \n",
      "    user_pages = list( set( user_pages ) )\n",
      "    room_pages = list( set( room_pages ) )\n",
      "    \n",
      "    PAGES += [ p for p in user_pages if p not in SEEN_PAGES ]\n",
      "    PAGES += [ p for p in room_pages if p not in SEEN_PAGES ]\n",
      "    SEEN_PAGES.update( user_pages )\n",
      "    SEEN_PAGES.update( room_pages )\n",
      "    \n",
      "    USER_PHOTOS.update( user_photos )\n",
      "    ROOM_PHOTOS.update( room_photos )\n",
      "    \n",
      "    if len( USER_PHOTOS ) >= 1000 and len( ROOM_PHOTOS ) >= 1000:\n",
      "        break\n",
      "    "
     ],
     "language": "python",
     "metadata": {},
     "outputs": [
      {
       "output_type": "stream",
       "stream": "stdout",
       "text": [
        "0 | 1 0 0 | https://www.airbnb.com/users/show/100900\n",
        "1"
       ]
      },
      {
       "output_type": "stream",
       "stream": "stdout",
       "text": [
        " | 9 7 1 | https://www.airbnb.com/users/show/1561605\n",
        "2"
       ]
      },
      {
       "output_type": "stream",
       "stream": "stdout",
       "text": [
        " | 27 22 3 | https://www.airbnb.com/users/show/934641\n",
        "3"
       ]
      },
      {
       "output_type": "stream",
       "stream": "stdout",
       "text": [
        " | 43 33 8 | https://www.airbnb.com/users/show/175522\n",
        "4"
       ]
      },
      {
       "output_type": "stream",
       "stream": "stdout",
       "text": [
        " | 58 48 8 | https://www.airbnb.com/users/show/212740\n",
        "5"
       ]
      },
      {
       "output_type": "stream",
       "stream": "stdout",
       "text": [
        " | 73 61 11 | https://www.airbnb.com/users/show/367871\n",
        "6"
       ]
      },
      {
       "output_type": "stream",
       "stream": "stdout",
       "text": [
        " | 73 61 11 | https://www.airbnb.com/users/show/41932\n",
        "7"
       ]
      },
      {
       "output_type": "stream",
       "stream": "stdout",
       "text": [
        " | 102 84 11 | https://www.airbnb.com/users/show/100900\n",
        "8"
       ]
      },
      {
       "output_type": "stream",
       "stream": "stdout",
       "text": [
        " | 102 84 11 | https://www.airbnb.com/rooms/new\n",
        "9"
       ]
      },
      {
       "output_type": "stream",
       "stream": "stdout",
       "text": [
        " | 102 84 11 | https://www.airbnb.com/users/show/516718\n",
        "10"
       ]
      },
      {
       "output_type": "stream",
       "stream": "stdout",
       "text": [
        " | 103 85 12 | https://www.airbnb.com/users/show/1581968\n",
        "11"
       ]
      },
      {
       "output_type": "stream",
       "stream": "stdout",
       "text": [
        " | 103 85 12 | https://www.airbnb.com/users/show/16778298\n",
        "12"
       ]
      },
      {
       "output_type": "stream",
       "stream": "stdout",
       "text": [
        " | 104 86 12 | https://www.airbnb.com/users/show/905532\n",
        "13"
       ]
      },
      {
       "output_type": "stream",
       "stream": "stdout",
       "text": [
        " | 110 92 13 | https://www.airbnb.com/users/show/1591886\n",
        "14"
       ]
      },
      {
       "output_type": "stream",
       "stream": "stdout",
       "text": [
        " | 110 92 13 | https://www.airbnb.com/users/show/1577198\n",
        "15"
       ]
      },
      {
       "output_type": "stream",
       "stream": "stdout",
       "text": [
        " | 111 93 14 | https://www.airbnb.com/users/show/3258382\n",
        "16"
       ]
      },
      {
       "output_type": "stream",
       "stream": "stdout",
       "text": [
        " | 111 93 14 | https://www.airbnb.com/users/show/1575044\n",
        "17"
       ]
      },
      {
       "output_type": "stream",
       "stream": "stdout",
       "text": [
        " | 113 95 15 | https://www.airbnb.com/users/show/17166823\n",
        "18"
       ]
      },
      {
       "output_type": "stream",
       "stream": "stdout",
       "text": [
        " | 113 95 15 | https://www.airbnb.com/users/show/12943207\n",
        "19"
       ]
      },
      {
       "output_type": "stream",
       "stream": "stdout",
       "text": [
        " | 113 95 15 | https://www.airbnb.com/users/show/14558400\n",
        "20"
       ]
      },
      {
       "output_type": "stream",
       "stream": "stdout",
       "text": [
        " | 114 96 15 | https://www.airbnb.com/users/show/1324242\n",
        "21"
       ]
      },
      {
       "output_type": "stream",
       "stream": "stdout",
       "text": [
        " | 119 101 19 | https://www.airbnb.com/users/show/377432\n",
        "22"
       ]
      },
      {
       "output_type": "stream",
       "stream": "stdout",
       "text": [
        " | 139 111 20 | https://www.airbnb.com/users/show/3862999\n",
        "23"
       ]
      },
      {
       "output_type": "stream",
       "stream": "stdout",
       "text": [
        " | 146 118 20 | https://www.airbnb.com/users/show/1577680\n",
        "24"
       ]
      },
      {
       "output_type": "stream",
       "stream": "stdout",
       "text": [
        " | 146 118 20 | https://www.airbnb.com/users/show/11775078\n",
        "25"
       ]
      },
      {
       "output_type": "stream",
       "stream": "stdout",
       "text": [
        " | 146 118 21 | https://www.airbnb.com/users/show/6769265\n",
        "26"
       ]
      },
      {
       "output_type": "stream",
       "stream": "stdout",
       "text": [
        " | 146 118 22 | https://www.airbnb.com/rooms/303354\n",
        "27"
       ]
      },
      {
       "output_type": "stream",
       "stream": "stdout",
       "text": [
        " | 146 118 45 | https://www.airbnb.com/users/show/15116751\n",
        "28"
       ]
      },
      {
       "output_type": "stream",
       "stream": "stdout",
       "text": [
        " | 146 118 45 | https://www.airbnb.com/users/show/540171\n",
        "29"
       ]
      },
      {
       "output_type": "stream",
       "stream": "stdout",
       "text": [
        " | 146 118 45 | https://www.airbnb.com/users/show/17570070\n",
        "30"
       ]
      },
      {
       "output_type": "stream",
       "stream": "stdout",
       "text": [
        " | 146 118 45 | https://www.airbnb.com/users/show/4022627\n",
        "31"
       ]
      },
      {
       "output_type": "stream",
       "stream": "stdout",
       "text": [
        " | 170 137 49 | https://www.airbnb.com/users/show/13046427\n",
        "32"
       ]
      },
      {
       "output_type": "stream",
       "stream": "stdout",
       "text": [
        " | 170 137 49 | https://www.airbnb.com/users/show/1339249\n",
        "33"
       ]
      },
      {
       "output_type": "stream",
       "stream": "stdout",
       "text": [
        " | 182 149 50 | https://www.airbnb.com/users/show/12454883\n",
        "34"
       ]
      },
      {
       "output_type": "stream",
       "stream": "stdout",
       "text": [
        " | 184 151 50 | https://www.airbnb.com/users/show/361183\n",
        "35"
       ]
      },
      {
       "output_type": "stream",
       "stream": "stdout",
       "text": [
        " | 190 157 54 | https://www.airbnb.com/users/show/847242\n",
        "36"
       ]
      },
      {
       "output_type": "stream",
       "stream": "stdout",
       "text": [
        " | 193 160 55 | https://www.airbnb.com/users/show/13525095\n",
        "37"
       ]
      },
      {
       "output_type": "stream",
       "stream": "stdout",
       "text": [
        " | 194 161 55 | https://www.airbnb.com/users/show/13850055\n",
        "38"
       ]
      },
      {
       "output_type": "stream",
       "stream": "stdout",
       "text": [
        " | 194 161 55 | https://www.airbnb.com/users/show/510922\n",
        "39"
       ]
      },
      {
       "output_type": "stream",
       "stream": "stdout",
       "text": [
        " | 201 168 55 | https://www.airbnb.com/users/show/2163024\n",
        "40"
       ]
      },
      {
       "output_type": "stream",
       "stream": "stdout",
       "text": [
        " | 203 170 55 | https://www.airbnb.com/rooms/258571\n",
        "41"
       ]
      },
      {
       "output_type": "stream",
       "stream": "stdout",
       "text": [
        " | 207 172 74 | https://www.airbnb.com/rooms/882274\n",
        "42"
       ]
      },
      {
       "output_type": "stream",
       "stream": "stdout",
       "text": [
        " | 210 174 98 | https://www.airbnb.com/rooms/719233\n",
        "43"
       ]
      },
      {
       "output_type": "stream",
       "stream": "stdout",
       "text": [
        " | 211 175 116 | https://www.airbnb.com/users/show/1806034\n",
        "44"
       ]
      },
      {
       "output_type": "stream",
       "stream": "stdout",
       "text": [
        " | 228 188 117 | https://www.airbnb.com/users/show/7524222\n",
        "45"
       ]
      },
      {
       "output_type": "stream",
       "stream": "stdout",
       "text": [
        " | 237 197 121 | https://www.airbnb.com/users/show/7385510\n",
        "46"
       ]
      },
      {
       "output_type": "stream",
       "stream": "stdout",
       "text": [
        " | 253 209 126 | https://www.airbnb.com/users/show/1165352\n",
        "47"
       ]
      },
      {
       "output_type": "stream",
       "stream": "stdout",
       "text": [
        " | 274 223 130 | https://www.airbnb.com/users/show/5640853\n",
        "48"
       ]
      },
      {
       "output_type": "stream",
       "stream": "stdout",
       "text": [
        " | 279 228 130 | https://www.airbnb.com/users/show/3212200\n",
        "49"
       ]
      },
      {
       "output_type": "stream",
       "stream": "stdout",
       "text": [
        " | 281 230 131 | https://www.airbnb.com/users/show/7007442\n",
        "50"
       ]
      },
      {
       "output_type": "stream",
       "stream": "stdout",
       "text": [
        " | 283 232 131 | https://www.airbnb.com/users/show/6761319\n",
        "51"
       ]
      },
      {
       "output_type": "stream",
       "stream": "stdout",
       "text": [
        " | 284 233 131 | https://www.airbnb.com/users/show/6165974\n",
        "52"
       ]
      },
      {
       "output_type": "stream",
       "stream": "stdout",
       "text": [
        " | 301 245 133 | https://www.airbnb.com/users/show/7152038\n",
        "53"
       ]
      },
      {
       "output_type": "stream",
       "stream": "stdout",
       "text": [
        " | 301 245 133 | https://www.airbnb.com/users/show/6473595\n",
        "54"
       ]
      },
      {
       "output_type": "stream",
       "stream": "stdout",
       "text": [
        " | 304 248 133 | https://www.airbnb.com/users/show/1374638\n",
        "55"
       ]
      },
      {
       "output_type": "stream",
       "stream": "stdout",
       "text": [
        " | 318 260 135 | https://www.airbnb.com/users/show/5806052\n",
        "56"
       ]
      },
      {
       "output_type": "stream",
       "stream": "stdout",
       "text": [
        " | 320 262 135 | https://www.airbnb.com/users/show/2242950\n",
        "57"
       ]
      },
      {
       "output_type": "stream",
       "stream": "stdout",
       "text": [
        " | 323 265 136 | https://www.airbnb.com/users/show/5369902\n",
        "58"
       ]
      },
      {
       "output_type": "stream",
       "stream": "stdout",
       "text": [
        " | 331 272 136 | https://www.airbnb.com/users/show/15199080\n",
        "59"
       ]
      },
      {
       "output_type": "stream",
       "stream": "stdout",
       "text": [
        " | 334 275 137 | https://www.airbnb.com/users/show/13483840\n",
        "60"
       ]
      },
      {
       "output_type": "stream",
       "stream": "stdout",
       "text": [
        " | 334 275 137 | https://www.airbnb.com/users/show/287991\n",
        "61"
       ]
      },
      {
       "output_type": "stream",
       "stream": "stdout",
       "text": [
        " | 335 276 137 | https://www.airbnb.com/users/show/1492103\n",
        "62"
       ]
      },
      {
       "output_type": "stream",
       "stream": "stdout",
       "text": [
        " | 335 276 137 | https://www.airbnb.com/users/show/17119577\n",
        "63"
       ]
      },
      {
       "output_type": "stream",
       "stream": "stdout",
       "text": [
        " | 336 277 137 | https://www.airbnb.com/users/show/3882432\n",
        "64"
       ]
      },
      {
       "output_type": "stream",
       "stream": "stdout",
       "text": [
        " | 336 277 137 | https://www.airbnb.com/users/show/2628526\n",
        "65"
       ]
      },
      {
       "output_type": "stream",
       "stream": "stdout",
       "text": [
        " | 351 290 138 | https://www.airbnb.com/users/show/14489605\n",
        "66"
       ]
      },
      {
       "output_type": "stream",
       "stream": "stdout",
       "text": [
        " | 352 291 138 | https://www.airbnb.com/users/show/8478093\n",
        "67"
       ]
      },
      {
       "output_type": "stream",
       "stream": "stdout",
       "text": [
        " | 352 291 138 | https://www.airbnb.com/users/show/667238\n",
        "68"
       ]
      },
      {
       "output_type": "stream",
       "stream": "stdout",
       "text": [
        " | 352 291 139 | https://www.airbnb.com/users/show/13934036\n",
        "69"
       ]
      },
      {
       "output_type": "stream",
       "stream": "stdout",
       "text": [
        " | 354 293 139 | https://www.airbnb.com/users/show/178043\n",
        "70"
       ]
      },
      {
       "output_type": "stream",
       "stream": "stdout",
       "text": [
        " | 368 304 142 | https://www.airbnb.com/users/show/11216884\n",
        "71"
       ]
      },
      {
       "output_type": "stream",
       "stream": "stdout",
       "text": [
        " | 374 309 144 | https://www.airbnb.com/users/show/18426665\n",
        "72"
       ]
      },
      {
       "output_type": "stream",
       "stream": "stdout",
       "text": [
        " | 374 309 144 | https://www.airbnb.com/rooms/47196\n",
        "73"
       ]
      },
      {
       "output_type": "stream",
       "stream": "stdout",
       "text": [
        " | 374 309 165 | https://www.airbnb.com/users/show/195747\n",
        "74"
       ]
      },
      {
       "output_type": "stream",
       "stream": "stdout",
       "text": [
        " | 392 324 167 | https://www.airbnb.com/users/show/88067\n",
        "75"
       ]
      },
      {
       "output_type": "stream",
       "stream": "stdout",
       "text": [
        " | 392 324 167 | https://www.airbnb.com/users/show/82827\n",
        "76"
       ]
      },
      {
       "output_type": "stream",
       "stream": "stdout",
       "text": [
        " | 393 325 168 | https://www.airbnb.com/users/show/2835209\n",
        "77"
       ]
      },
      {
       "output_type": "stream",
       "stream": "stdout",
       "text": [
        " | 393 325 168 | https://www.airbnb.com/users/show/7538\n",
        "78"
       ]
      },
      {
       "output_type": "stream",
       "stream": "stdout",
       "text": [
        " | 403 335 171 | https://www.airbnb.com/users/show/134850\n",
        "79"
       ]
      },
      {
       "output_type": "stream",
       "stream": "stdout",
       "text": [
        " | 436 365 173 | https://www.airbnb.com/users/show/84704\n",
        "80"
       ]
      },
      {
       "output_type": "stream",
       "stream": "stdout",
       "text": [
        " | 437 366 174 | https://www.airbnb.com/users/show/440552\n",
        "81"
       ]
      },
      {
       "output_type": "stream",
       "stream": "stdout",
       "text": [
        " | 437 366 175 | https://www.airbnb.com/users/show/1597202\n",
        "82"
       ]
      },
      {
       "output_type": "stream",
       "stream": "stdout",
       "text": [
        " | 437 366 176 | https://www.airbnb.com/users/show/4010218\n",
        "83"
       ]
      },
      {
       "output_type": "stream",
       "stream": "stdout",
       "text": [
        " | 437 366 176 | https://www.airbnb.com/users/show/120279\n",
        "84"
       ]
      },
      {
       "output_type": "stream",
       "stream": "stdout",
       "text": [
        " | 458 383 177 | https://www.airbnb.com/users/show/376110\n",
        "85"
       ]
      },
      {
       "output_type": "stream",
       "stream": "stdout",
       "text": [
        " | 462 387 177 | https://www.airbnb.com/users/show/7877\n",
        "86"
       ]
      },
      {
       "output_type": "stream",
       "stream": "stdout",
       "text": [
        " | 462 387 177 | https://www.airbnb.com/users/show/108106\n",
        "87"
       ]
      },
      {
       "output_type": "stream",
       "stream": "stdout",
       "text": [
        " | 475 398 178 | https://www.airbnb.com/users/show/2319\n",
        "88"
       ]
      },
      {
       "output_type": "stream",
       "stream": "stdout",
       "text": [
        " | 495 406 181 | https://www.airbnb.com/users/show/2370685\n",
        "89"
       ]
      },
      {
       "output_type": "stream",
       "stream": "stdout",
       "text": [
        " | 499 410 183 | https://www.airbnb.com/users/show/5676026\n",
        "90"
       ]
      },
      {
       "output_type": "stream",
       "stream": "stdout",
       "text": [
        " | 500 411 183 | https://www.airbnb.com/users/show/3003735\n",
        "91"
       ]
      },
      {
       "output_type": "stream",
       "stream": "stdout",
       "text": [
        " | 504 415 183 | https://www.airbnb.com/users/show/4061847\n",
        "92"
       ]
      },
      {
       "output_type": "stream",
       "stream": "stdout",
       "text": [
        " | 507 418 183 | https://www.airbnb.com/users/show/6465430\n",
        "93"
       ]
      },
      {
       "output_type": "stream",
       "stream": "stdout",
       "text": [
        " | 515 424 184 | https://www.airbnb.com/users/show/89398\n",
        "94"
       ]
      },
      {
       "output_type": "stream",
       "stream": "stdout",
       "text": [
        " | 515 424 184 | https://www.airbnb.com/users/show/1089526\n",
        "95"
       ]
      },
      {
       "output_type": "stream",
       "stream": "stdout",
       "text": [
        " | 525 432 185 | https://www.airbnb.com/users/show/5996091\n",
        "96"
       ]
      },
      {
       "output_type": "stream",
       "stream": "stdout",
       "text": [
        " | 525 432 186 | https://www.airbnb.com/rooms/24525\n",
        "97"
       ]
      },
      {
       "output_type": "stream",
       "stream": "stdout",
       "text": [
        " | 530 434 186 | https://www.airbnb.com/rooms/26078\n",
        "98"
       ]
      },
      {
       "output_type": "stream",
       "stream": "stdout",
       "text": [
        " | 533 434 186 | https://www.airbnb.com/rooms/32544\n",
        "99"
       ]
      },
      {
       "output_type": "stream",
       "stream": "stdout",
       "text": [
        " | 538 436 186 | https://www.airbnb.com/rooms/154628\n",
        "100"
       ]
      },
      {
       "output_type": "stream",
       "stream": "stdout",
       "text": [
        " | 549 441 186 | https://www.airbnb.com/rooms/214656\n",
        "101"
       ]
      },
      {
       "output_type": "stream",
       "stream": "stdout",
       "text": [
        " | 555 441 186 | https://www.airbnb.com/rooms/28229\n",
        "102"
       ]
      },
      {
       "output_type": "stream",
       "stream": "stdout",
       "text": [
        " | 559 442 186 | https://www.airbnb.com/users/show/239712\n",
        "103"
       ]
      },
      {
       "output_type": "stream",
       "stream": "stdout",
       "text": [
        " | 579 451 189 | https://www.airbnb.com/users/show/4469148\n",
        "104"
       ]
      },
      {
       "output_type": "stream",
       "stream": "stdout",
       "text": [
        " | 580 452 189 | https://www.airbnb.com/users/show/68342\n",
        "105"
       ]
      },
      {
       "output_type": "stream",
       "stream": "stdout",
       "text": [
        " | 592 460 190 | https://www.airbnb.com/users/show/10261\n",
        "106"
       ]
      },
      {
       "output_type": "stream",
       "stream": "stdout",
       "text": [
        " | 611 478 193 | https://www.airbnb.com/users/show/60940\n",
        "107"
       ]
      },
      {
       "output_type": "stream",
       "stream": "stdout",
       "text": [
        " | 625 491 194 | https://www.airbnb.com/users/show/689713\n",
        "108"
       ]
      },
      {
       "output_type": "stream",
       "stream": "stdout",
       "text": [
        " | 640 500 194 | https://www.airbnb.com/users/show/2279300\n",
        "109"
       ]
      },
      {
       "output_type": "stream",
       "stream": "stdout",
       "text": [
        " | 649 506 195 | https://www.airbnb.com/users/show/849519\n",
        "110"
       ]
      },
      {
       "output_type": "stream",
       "stream": "stdout",
       "text": [
        " | 667 519 199 | https://www.airbnb.com/users/show/4126686\n",
        "111"
       ]
      },
      {
       "output_type": "stream",
       "stream": "stdout",
       "text": [
        " | 679 529 202 | https://www.airbnb.com/users/show/5555669\n",
        "112"
       ]
      },
      {
       "output_type": "stream",
       "stream": "stdout",
       "text": [
        " | 679 529 204 | https://www.airbnb.com/users/show/6107504\n",
        "113"
       ]
      },
      {
       "output_type": "stream",
       "stream": "stdout",
       "text": [
        " | 691 539 205 | https://www.airbnb.com/users/show/234088\n",
        "114"
       ]
      },
      {
       "output_type": "stream",
       "stream": "stdout",
       "text": [
        " | 708 553 208 | https://www.airbnb.com/users/show/1164019\n",
        "115"
       ]
      },
      {
       "output_type": "stream",
       "stream": "stdout",
       "text": [
        " | 733 569 211 | https://www.airbnb.com/users/show/13425018\n",
        "116"
       ]
      },
      {
       "output_type": "stream",
       "stream": "stdout",
       "text": [
        " | 734 570 212 | https://www.airbnb.com/users/show/3530170\n",
        "117"
       ]
      },
      {
       "output_type": "stream",
       "stream": "stdout",
       "text": [
        " | 735 571 212 | https://www.airbnb.com/users/show/941913\n",
        "118"
       ]
      },
      {
       "output_type": "stream",
       "stream": "stdout",
       "text": [
        " | 752 586 216 | https://www.airbnb.com/users/show/1845744\n",
        "119"
       ]
      },
      {
       "output_type": "stream",
       "stream": "stdout",
       "text": [
        " | 759 592 221 | https://www.airbnb.com/users/show/12853974\n",
        "120"
       ]
      },
      {
       "output_type": "stream",
       "stream": "stdout",
       "text": [
        " | 760 593 221 | https://www.airbnb.com/users/show/10926276\n",
        "121"
       ]
      },
      {
       "output_type": "stream",
       "stream": "stdout",
       "text": [
        " | 760 593 221 | https://www.airbnb.com/users/show/11010151\n",
        "122"
       ]
      },
      {
       "output_type": "stream",
       "stream": "stdout",
       "text": [
        " | 760 593 222 | https://www.airbnb.com/users/show/58357\n",
        "123"
       ]
      },
      {
       "output_type": "stream",
       "stream": "stdout",
       "text": [
        " | 773 604 223 | https://www.airbnb.com/users/show/12605002\n",
        "124"
       ]
      },
      {
       "output_type": "stream",
       "stream": "stdout",
       "text": [
        " | 773 604 223 | https://www.airbnb.com/users/show/11918023\n",
        "125"
       ]
      },
      {
       "output_type": "stream",
       "stream": "stdout",
       "text": [
        " | 773 604 223 | https://www.airbnb.com/users/show/3272433\n",
        "126"
       ]
      },
      {
       "output_type": "stream",
       "stream": "stdout",
       "text": [
        " | 787 610 226 | https://www.airbnb.com/users/show/11651440\n",
        "127"
       ]
      },
      {
       "output_type": "stream",
       "stream": "stdout",
       "text": [
        " | 787 610 226 | https://www.airbnb.com/users/show/974933\n",
        "128"
       ]
      },
      {
       "output_type": "stream",
       "stream": "stdout",
       "text": [
        " | 788 611 228 | https://www.airbnb.com/users/show/197237\n",
        "129"
       ]
      },
      {
       "output_type": "stream",
       "stream": "stdout",
       "text": [
        " | 804 621 230 | https://www.airbnb.com/users/show/15657777\n",
        "130"
       ]
      },
      {
       "output_type": "stream",
       "stream": "stdout",
       "text": [
        " | 804 621 231 | https://www.airbnb.com/users/show/377652\n",
        "131"
       ]
      },
      {
       "output_type": "stream",
       "stream": "stdout",
       "text": [
        " | 804 621 231 | https://www.airbnb.com/users/show/1363039\n",
        "132"
       ]
      },
      {
       "output_type": "stream",
       "stream": "stdout",
       "text": [
        " | 806 623 231 | https://www.airbnb.com/users/show/15231885\n",
        "133"
       ]
      },
      {
       "output_type": "stream",
       "stream": "stdout",
       "text": [
        " | 806 623 232 | https://www.airbnb.com/users/show/13566359\n",
        "134"
       ]
      },
      {
       "output_type": "stream",
       "stream": "stdout",
       "text": [
        " | 817 631 233 | https://www.airbnb.com/rooms/146076\n",
        "135"
       ]
      },
      {
       "output_type": "stream",
       "stream": "stdout",
       "text": [
        " | 823 635 251 | https://www.airbnb.com/rooms/213591\n",
        "136"
       ]
      },
      {
       "output_type": "stream",
       "stream": "stdout",
       "text": [
        " | 831 642 266 | https://www.airbnb.com/rooms/1252843\n",
        "137"
       ]
      },
      {
       "output_type": "stream",
       "stream": "stdout",
       "text": [
        " | 834 644 295 | https://www.airbnb.com/rooms/72682\n",
        "138"
       ]
      },
      {
       "output_type": "stream",
       "stream": "stdout",
       "text": [
        " | 840 648 313 | https://www.airbnb.com/rooms/922798\n",
        "139"
       ]
      },
      {
       "output_type": "stream",
       "stream": "stdout",
       "text": [
        " | 843 651 342 | https://www.airbnb.com/users/show/307296\n",
        "140"
       ]
      },
      {
       "output_type": "stream",
       "stream": "stdout",
       "text": [
        " | 864 670 345 | https://www.airbnb.com/users/show/3681463\n",
        "141"
       ]
      },
      {
       "output_type": "stream",
       "stream": "stdout",
       "text": [
        " | 883 686 350 | https://www.airbnb.com/users/show/5810834\n",
        "142"
       ]
      },
      {
       "output_type": "stream",
       "stream": "stdout",
       "text": [
        " | 894 696 355 | https://www.airbnb.com/users/show/3724398\n",
        "143"
       ]
      },
      {
       "output_type": "stream",
       "stream": "stdout",
       "text": [
        " | 906 707 357 | https://www.airbnb.com/users/show/10464188\n",
        "144"
       ]
      },
      {
       "output_type": "stream",
       "stream": "stdout",
       "text": [
        " | 918 715 358 | https://www.airbnb.com/users/show/3007659\n",
        "145"
       ]
      },
      {
       "output_type": "stream",
       "stream": "stdout",
       "text": [
        " | 931 724 360 | https://www.airbnb.com/users/show/6851408\n",
        "146"
       ]
      },
      {
       "output_type": "stream",
       "stream": "stdout",
       "text": [
        " | 947 731 363 | https://www.airbnb.com/users/show/4137814\n",
        "147"
       ]
      },
      {
       "output_type": "stream",
       "stream": "stdout",
       "text": [
        " | 962 743 365 | https://www.airbnb.com/users/show/15846857\n",
        "148"
       ]
      },
      {
       "output_type": "stream",
       "stream": "stdout",
       "text": [
        " | 963 744 365 | https://www.airbnb.com/users/show/12404807\n",
        "149"
       ]
      },
      {
       "output_type": "stream",
       "stream": "stdout",
       "text": [
        " | 978 752 365 | https://www.airbnb.com/users/show/2795092\n",
        "150"
       ]
      },
      {
       "output_type": "stream",
       "stream": "stdout",
       "text": [
        " | 1000 768 371 | https://www.airbnb.com/users/show/17940339\n",
        "151"
       ]
      },
      {
       "output_type": "stream",
       "stream": "stdout",
       "text": [
        " | 1000 768 372 | https://www.airbnb.com/users/show/11694095\n",
        "152"
       ]
      },
      {
       "output_type": "stream",
       "stream": "stdout",
       "text": [
        " | 1000 768 372 | https://www.airbnb.com/users/show/10099617\n",
        "153"
       ]
      },
      {
       "output_type": "stream",
       "stream": "stdout",
       "text": [
        " | 1005 773 372 | https://www.airbnb.com/users/show/2329311\n",
        "154"
       ]
      },
      {
       "output_type": "stream",
       "stream": "stdout",
       "text": [
        " | 1021 789 375 | https://www.airbnb.com/users/show/13774836\n",
        "155"
       ]
      },
      {
       "output_type": "stream",
       "stream": "stdout",
       "text": [
        " | 1024 792 377 | https://www.airbnb.com/users/show/1549357\n",
        "156"
       ]
      },
      {
       "output_type": "stream",
       "stream": "stdout",
       "text": [
        " | 1026 794 377 | https://www.airbnb.com/users/show/12749174\n",
        "157"
       ]
      },
      {
       "output_type": "stream",
       "stream": "stdout",
       "text": [
        " | 1031 799 380 | https://www.airbnb.com/users/show/42725\n",
        "158"
       ]
      },
      {
       "output_type": "stream",
       "stream": "stdout",
       "text": [
        " | 1046 813 382 | https://www.airbnb.com/users/show/16973066\n",
        "159"
       ]
      },
      {
       "output_type": "stream",
       "stream": "stdout",
       "text": [
        " | 1046 813 382 | https://www.airbnb.com/users/show/4403132\n",
        "160"
       ]
      },
      {
       "output_type": "stream",
       "stream": "stdout",
       "text": [
        " | 1046 813 382 | https://www.airbnb.com/users/show/6134016\n",
        "161"
       ]
      },
      {
       "output_type": "stream",
       "stream": "stdout",
       "text": [
        " | 1050 817 382 | https://www.airbnb.com/users/show/1560741\n",
        "162"
       ]
      },
      {
       "output_type": "stream",
       "stream": "stdout",
       "text": [
        " | 1069 833 383 | https://www.airbnb.com/users/show/10463352\n",
        "163"
       ]
      },
      {
       "output_type": "stream",
       "stream": "stdout",
       "text": [
        " | 1071 835 384 | https://www.airbnb.com/users/show/4264872\n",
        "164"
       ]
      },
      {
       "output_type": "stream",
       "stream": "stdout",
       "text": [
        " | 1085 845 387 | https://www.airbnb.com/users/show/7389282\n",
        "165"
       ]
      },
      {
       "output_type": "stream",
       "stream": "stdout",
       "text": [
        " | 1096 853 389 | https://www.airbnb.com/rooms/908034\n",
        "166"
       ]
      },
      {
       "output_type": "stream",
       "stream": "stdout",
       "text": [
        " | 1101 858 427 | https://www.airbnb.com/rooms/1411381\n",
        "167"
       ]
      },
      {
       "output_type": "stream",
       "stream": "stdout",
       "text": [
        " | 1102 859 457 | https://www.airbnb.com/rooms/1920963\n",
        "168"
       ]
      },
      {
       "output_type": "stream",
       "stream": "stdout",
       "text": [
        " | 1106 863 496 | https://www.airbnb.com/rooms/1411348\n",
        "169"
       ]
      },
      {
       "output_type": "stream",
       "stream": "stdout",
       "text": [
        " | 1109 866 527 | https://www.airbnb.com/rooms/3120361\n",
        "170"
       ]
      },
      {
       "output_type": "stream",
       "stream": "stdout",
       "text": [
        " | 1109 866 587 | https://www.airbnb.com/users/show/1310218\n",
        "171"
       ]
      },
      {
       "output_type": "stream",
       "stream": "stdout",
       "text": [
        " | 1119 876 587 | https://www.airbnb.com/users/show/19071886\n",
        "172"
       ]
      },
      {
       "output_type": "stream",
       "stream": "stdout",
       "text": [
        " | 1119 876 587 | https://www.airbnb.com/users/show/168417\n",
        "173"
       ]
      },
      {
       "output_type": "stream",
       "stream": "stdout",
       "text": [
        " | 1134 885 591 | https://www.airbnb.com/users/show/597265\n",
        "174"
       ]
      },
      {
       "output_type": "stream",
       "stream": "stdout",
       "text": [
        " | 1154 901 594 | https://www.airbnb.com/users/show/459102\n",
        "175"
       ]
      },
      {
       "output_type": "stream",
       "stream": "stdout",
       "text": [
        " | 1172 915 596 | https://www.airbnb.com/users/show/194913\n",
        "176"
       ]
      },
      {
       "output_type": "stream",
       "stream": "stdout",
       "text": [
        " | 1182 922 596 | https://www.airbnb.com/users/show/524913\n",
        "177"
       ]
      },
      {
       "output_type": "stream",
       "stream": "stdout",
       "text": [
        " | 1185 925 597 | https://www.airbnb.com/users/show/153754\n",
        "178"
       ]
      },
      {
       "output_type": "stream",
       "stream": "stdout",
       "text": [
        " | 1210 949 599 | https://www.airbnb.com/users/show/161362\n",
        "179"
       ]
      },
      {
       "output_type": "stream",
       "stream": "stdout",
       "text": [
        " | 1224 963 599 | https://www.airbnb.com/users/show/474848\n",
        "180"
       ]
      },
      {
       "output_type": "stream",
       "stream": "stdout",
       "text": [
        " | 1245 978 604 | https://www.airbnb.com/users/show/1364835\n",
        "181"
       ]
      },
      {
       "output_type": "stream",
       "stream": "stdout",
       "text": [
        " | 1246 979 604 | https://www.airbnb.com/users/show/1039585\n",
        "182"
       ]
      },
      {
       "output_type": "stream",
       "stream": "stdout",
       "text": [
        " | 1266 995 605 | https://www.airbnb.com/users/show/6735404\n",
        "183"
       ]
      },
      {
       "output_type": "stream",
       "stream": "stdout",
       "text": [
        " | 1279 1007 606 | https://www.airbnb.com/users/show/6455315\n",
        "184"
       ]
      },
      {
       "output_type": "stream",
       "stream": "stdout",
       "text": [
        " | 1290 1016 608 | https://www.airbnb.com/users/show/1480293\n",
        "185"
       ]
      },
      {
       "output_type": "stream",
       "stream": "stdout",
       "text": [
        " | 1303 1025 609 | https://www.airbnb.com/users/show/3393312\n",
        "186"
       ]
      },
      {
       "output_type": "stream",
       "stream": "stdout",
       "text": [
        " | 1318 1038 610 | https://www.airbnb.com/users/show/4263764\n",
        "187"
       ]
      },
      {
       "output_type": "stream",
       "stream": "stdout",
       "text": [
        " | 1320 1039 611 | https://www.airbnb.com/users/show/5050600\n",
        "188"
       ]
      },
      {
       "output_type": "stream",
       "stream": "stdout",
       "text": [
        " | 1335 1053 612 | https://www.airbnb.com/users/show/3819052\n",
        "189"
       ]
      },
      {
       "output_type": "stream",
       "stream": "stdout",
       "text": [
        " | 1335 1053 612 | https://www.airbnb.com/users/show/135012\n",
        "190"
       ]
      },
      {
       "output_type": "stream",
       "stream": "stdout",
       "text": [
        " | 1350 1064 616 | https://www.airbnb.com/users/show/12865\n",
        "191"
       ]
      },
      {
       "output_type": "stream",
       "stream": "stdout",
       "text": [
        " | 1365 1072 618 | https://www.airbnb.com/users/show/4107993\n",
        "192"
       ]
      },
      {
       "output_type": "stream",
       "stream": "stdout",
       "text": [
        " | 1374 1078 621 | https://www.airbnb.com/users/show/709132\n",
        "193"
       ]
      },
      {
       "output_type": "stream",
       "stream": "stdout",
       "text": [
        " | 1390 1092 623 | https://www.airbnb.com/users/show/1282293\n",
        "194"
       ]
      },
      {
       "output_type": "stream",
       "stream": "stdout",
       "text": [
        " | 1399 1099 623 | https://www.airbnb.com/users/show/1672314\n",
        "195"
       ]
      },
      {
       "output_type": "stream",
       "stream": "stdout",
       "text": [
        " | 1414 1105 626 | https://www.airbnb.com/users/show/788493\n",
        "196"
       ]
      },
      {
       "output_type": "stream",
       "stream": "stdout",
       "text": [
        " | 1430 1112 630 | https://www.airbnb.com/users/show/1860339\n",
        "197"
       ]
      },
      {
       "output_type": "stream",
       "stream": "stdout",
       "text": [
        " | 1443 1121 634 | https://www.airbnb.com/users/show/8013018\n",
        "198"
       ]
      },
      {
       "output_type": "stream",
       "stream": "stdout",
       "text": [
        " | 1456 1132 636 | https://www.airbnb.com/users/show/1579659\n",
        "199"
       ]
      },
      {
       "output_type": "stream",
       "stream": "stdout",
       "text": [
        " | 1470 1143 638 | https://www.airbnb.com/users/show/1341170\n",
        "200"
       ]
      },
      {
       "output_type": "stream",
       "stream": "stdout",
       "text": [
        " | 1483 1149 641 | https://www.airbnb.com/users/show/1388900\n",
        "201"
       ]
      },
      {
       "output_type": "stream",
       "stream": "stdout",
       "text": [
        " | 1503 1167 644 | https://www.airbnb.com/users/show/11194155\n",
        "202"
       ]
      },
      {
       "output_type": "stream",
       "stream": "stdout",
       "text": [
        " | 1513 1175 645 | https://www.airbnb.com/users/show/12975060\n",
        "203"
       ]
      },
      {
       "output_type": "stream",
       "stream": "stdout",
       "text": [
        " | 1523 1182 646 | https://www.airbnb.com/users/show/2467508\n",
        "204"
       ]
      },
      {
       "output_type": "stream",
       "stream": "stdout",
       "text": [
        " | 1532 1192 646 | https://www.airbnb.com/users/show/13072271\n",
        "205"
       ]
      },
      {
       "output_type": "stream",
       "stream": "stdout",
       "text": [
        " | 1532 1192 647 | https://www.airbnb.com/users/show/11724021\n",
        "206"
       ]
      },
      {
       "output_type": "stream",
       "stream": "stdout",
       "text": [
        " | 1533 1193 647 | https://www.airbnb.com/users/show/16836803\n",
        "207"
       ]
      },
      {
       "output_type": "stream",
       "stream": "stdout",
       "text": [
        " | 1533 1193 648 | https://www.airbnb.com/users/show/12887481\n",
        "208"
       ]
      },
      {
       "output_type": "stream",
       "stream": "stdout",
       "text": [
        " | 1533 1193 651 | https://www.airbnb.com/users/show/16272050\n",
        "209"
       ]
      },
      {
       "output_type": "stream",
       "stream": "stdout",
       "text": [
        " | 1533 1193 651 | https://www.airbnb.com/users/show/16181526\n",
        "210"
       ]
      },
      {
       "output_type": "stream",
       "stream": "stdout",
       "text": [
        " | 1533 1193 651 | https://www.airbnb.com/users/show/1788830\n",
        "211"
       ]
      },
      {
       "output_type": "stream",
       "stream": "stdout",
       "text": [
        " | 1533 1193 651 | https://www.airbnb.com/users/show/42024\n",
        "212"
       ]
      },
      {
       "output_type": "stream",
       "stream": "stdout",
       "text": [
        " | 1554 1213 654 | https://www.airbnb.com/users/show/6957303\n",
        "213"
       ]
      },
      {
       "output_type": "stream",
       "stream": "stdout",
       "text": [
        " | 1554 1213 654 | https://www.airbnb.com/users/show/1788871\n",
        "214"
       ]
      },
      {
       "output_type": "stream",
       "stream": "stdout",
       "text": [
        " | 1568 1224 657 | https://www.airbnb.com/users/show/8527472\n",
        "215"
       ]
      },
      {
       "output_type": "stream",
       "stream": "stdout",
       "text": [
        " | 1580 1234 658 | https://www.airbnb.com/users/show/6659833\n",
        "216"
       ]
      },
      {
       "output_type": "stream",
       "stream": "stdout",
       "text": [
        " | 1593 1244 659 | https://www.airbnb.com/users/show/445508\n",
        "217"
       ]
      },
      {
       "output_type": "stream",
       "stream": "stdout",
       "text": [
        " | 1598 1249 659 | https://www.airbnb.com/users/show/15566758\n",
        "218"
       ]
      },
      {
       "output_type": "stream",
       "stream": "stdout",
       "text": [
        " | 1599 1250 661 | https://www.airbnb.com/users/show/16021141\n",
        "219"
       ]
      },
      {
       "output_type": "stream",
       "stream": "stdout",
       "text": [
        " | 1599 1250 661 | https://www.airbnb.com/users/show/13171012\n",
        "220"
       ]
      },
      {
       "output_type": "stream",
       "stream": "stdout",
       "text": [
        " | 1599 1250 661 | https://www.airbnb.com/users/show/1374150\n",
        "221"
       ]
      },
      {
       "output_type": "stream",
       "stream": "stdout",
       "text": [
        " | 1609 1256 661 | https://www.airbnb.com/users/show/102684\n",
        "222"
       ]
      },
      {
       "output_type": "stream",
       "stream": "stdout",
       "text": [
        " | 1631 1275 662 | https://www.airbnb.com/users/show/11674002\n",
        "223"
       ]
      },
      {
       "output_type": "stream",
       "stream": "stdout",
       "text": [
        " | 1632 1276 662 | https://www.airbnb.com/users/show/17107473\n",
        "224"
       ]
      },
      {
       "output_type": "stream",
       "stream": "stdout",
       "text": [
        " | 1634 1278 662 | https://www.airbnb.com/users/show/4459278\n",
        "225"
       ]
      },
      {
       "output_type": "stream",
       "stream": "stdout",
       "text": [
        " | 1641 1285 663 | https://www.airbnb.com/users/show/5221306\n",
        "226"
       ]
      },
      {
       "output_type": "stream",
       "stream": "stdout",
       "text": [
        " | 1653 1291 665 | https://www.airbnb.com/users/show/3857965\n",
        "227"
       ]
      },
      {
       "output_type": "stream",
       "stream": "stdout",
       "text": [
        " | 1655 1293 665 | https://www.airbnb.com/rooms/1123497\n",
        "228"
       ]
      },
      {
       "output_type": "stream",
       "stream": "stdout",
       "text": [
        " | 1655 1293 676 | https://www.airbnb.com/users/show/6225439\n",
        "229"
       ]
      },
      {
       "output_type": "stream",
       "stream": "stdout",
       "text": [
        " | 1672 1300 679 | https://www.airbnb.com/users/show/138416\n",
        "230"
       ]
      },
      {
       "output_type": "stream",
       "stream": "stdout",
       "text": [
        " | 1683 1310 679 | https://www.airbnb.com/users/show/2590300\n",
        "231"
       ]
      },
      {
       "output_type": "stream",
       "stream": "stdout",
       "text": [
        " | 1695 1322 679 | https://www.airbnb.com/users/show/6338303\n",
        "232"
       ]
      },
      {
       "output_type": "stream",
       "stream": "stdout",
       "text": [
        " | 1709 1335 680 | https://www.airbnb.com/users/show/684131\n",
        "233"
       ]
      },
      {
       "output_type": "stream",
       "stream": "stdout",
       "text": [
        " | 1725 1349 684 | https://www.airbnb.com/users/show/1936138\n",
        "234"
       ]
      },
      {
       "output_type": "stream",
       "stream": "stdout",
       "text": [
        " | 1736 1358 685 | https://www.airbnb.com/users/show/7779220\n",
        "235"
       ]
      },
      {
       "output_type": "stream",
       "stream": "stdout",
       "text": [
        " | 1741 1360 686 | https://www.airbnb.com/users/show/1414788\n",
        "236"
       ]
      },
      {
       "output_type": "stream",
       "stream": "stdout",
       "text": [
        " | 1754 1371 686 | https://www.airbnb.com/users/show/2357643\n",
        "237"
       ]
      },
      {
       "output_type": "stream",
       "stream": "stdout",
       "text": [
        " | 1778 1393 689 | https://www.airbnb.com/users/show/231074\n",
        "238"
       ]
      },
      {
       "output_type": "stream",
       "stream": "stdout",
       "text": [
        " | 1783 1398 693 | https://www.airbnb.com/users/show/459036\n",
        "239"
       ]
      },
      {
       "output_type": "stream",
       "stream": "stdout",
       "text": [
        " | 1803 1416 696 | https://www.airbnb.com/users/show/7207602\n",
        "240"
       ]
      },
      {
       "output_type": "stream",
       "stream": "stdout",
       "text": [
        " | 1813 1425 697 | https://www.airbnb.com/users/show/6798920\n",
        "241"
       ]
      },
      {
       "output_type": "stream",
       "stream": "stdout",
       "text": [
        " | 1820 1432 697 | https://www.airbnb.com/users/show/8677331\n",
        "242"
       ]
      },
      {
       "output_type": "stream",
       "stream": "stdout",
       "text": [
        " | 1824 1436 697 | https://www.airbnb.com/users/show/15904358\n",
        "243"
       ]
      },
      {
       "output_type": "stream",
       "stream": "stdout",
       "text": [
        " | 1824 1436 697 | https://www.airbnb.com/users/show/3949120\n",
        "244"
       ]
      },
      {
       "output_type": "stream",
       "stream": "stdout",
       "text": [
        " | 1834 1446 697 | https://www.airbnb.com/users/show/16756338\n",
        "245"
       ]
      },
      {
       "output_type": "stream",
       "stream": "stdout",
       "text": [
        " | 1834 1446 697 | https://www.airbnb.com/users/show/17347732\n",
        "246"
       ]
      },
      {
       "output_type": "stream",
       "stream": "stdout",
       "text": [
        " | 1834 1446 697 | https://www.airbnb.com/users/show/17124028\n",
        "247"
       ]
      },
      {
       "output_type": "stream",
       "stream": "stdout",
       "text": [
        " | 1834 1446 698 | https://www.airbnb.com/users/show/15977539\n",
        "248"
       ]
      },
      {
       "output_type": "stream",
       "stream": "stdout",
       "text": [
        " | 1834 1446 701 | https://www.airbnb.com/users/show/17258635\n",
        "249"
       ]
      },
      {
       "output_type": "stream",
       "stream": "stdout",
       "text": [
        " | 1834 1446 701 | https://www.airbnb.com/users/show/493904\n",
        "250"
       ]
      },
      {
       "output_type": "stream",
       "stream": "stdout",
       "text": [
        " | 1848 1457 704 | https://www.airbnb.com/users/show/7635768\n",
        "251"
       ]
      },
      {
       "output_type": "stream",
       "stream": "stdout",
       "text": [
        " | 1870 1476 707 | https://www.airbnb.com/users/show/3993620\n",
        "252"
       ]
      },
      {
       "output_type": "stream",
       "stream": "stdout",
       "text": [
        " | 1871 1477 708 | https://www.airbnb.com/rooms/1369384\n",
        "253"
       ]
      },
      {
       "output_type": "stream",
       "stream": "stdout",
       "text": [
        " | 1871 1477 728 | https://www.airbnb.com/users/show/7787676\n",
        "254"
       ]
      },
      {
       "output_type": "stream",
       "stream": "stdout",
       "text": [
        " | 1873 1479 728 | https://www.airbnb.com/users/show/1552994\n",
        "255"
       ]
      },
      {
       "output_type": "stream",
       "stream": "stdout",
       "text": [
        " | 1881 1487 732 | https://www.airbnb.com/users/show/1165322\n",
        "256"
       ]
      },
      {
       "output_type": "stream",
       "stream": "stdout",
       "text": [
        " | 1893 1496 733 | https://www.airbnb.com/users/show/1149170\n",
        "257"
       ]
      },
      {
       "output_type": "stream",
       "stream": "stdout",
       "text": [
        " | 1908 1503 738 | https://www.airbnb.com/users/show/2503766\n",
        "258"
       ]
      },
      {
       "output_type": "stream",
       "stream": "stdout",
       "text": [
        " | 1909 1504 738 | https://www.airbnb.com/users/show/6655340\n",
        "259"
       ]
      },
      {
       "output_type": "stream",
       "stream": "stdout",
       "text": [
        " | 1909 1504 738 | https://www.airbnb.com/users/show/6623712\n",
        "260"
       ]
      },
      {
       "output_type": "stream",
       "stream": "stdout",
       "text": [
        " | 1922 1512 740 | https://www.airbnb.com/users/show/9992597\n",
        "261"
       ]
      },
      {
       "output_type": "stream",
       "stream": "stdout",
       "text": [
        " | 1922 1512 740 | https://www.airbnb.com/users/show/5434772\n",
        "262"
       ]
      },
      {
       "output_type": "stream",
       "stream": "stdout",
       "text": [
        " | 1936 1523 745 | https://www.airbnb.com/users/show/1587864\n",
        "263"
       ]
      },
      {
       "output_type": "stream",
       "stream": "stdout",
       "text": [
        " | 1949 1534 748 | https://www.airbnb.com/users/show/10684780\n",
        "264"
       ]
      },
      {
       "output_type": "stream",
       "stream": "stdout",
       "text": [
        " | 1950 1534 750 | https://www.airbnb.com/users/show/7703533\n",
        "265"
       ]
      },
      {
       "output_type": "stream",
       "stream": "stdout",
       "text": [
        " | 1950 1534 750 | https://www.airbnb.com/users/show/12218910\n",
        "266"
       ]
      },
      {
       "output_type": "stream",
       "stream": "stdout",
       "text": [
        " | 1950 1534 750 | https://www.airbnb.com/users/show/7880025\n",
        "267"
       ]
      },
      {
       "output_type": "stream",
       "stream": "stdout",
       "text": [
        " | 1950 1534 751 | https://www.airbnb.com/users/show/1201085\n",
        "268"
       ]
      },
      {
       "output_type": "stream",
       "stream": "stdout",
       "text": [
        " | 1952 1536 752 | https://www.airbnb.com/rooms/226708\n",
        "269"
       ]
      },
      {
       "output_type": "stream",
       "stream": "stdout",
       "text": [
        " | 1956 1540 767 | https://www.airbnb.com/rooms/886116\n",
        "270"
       ]
      },
      {
       "output_type": "stream",
       "stream": "stdout",
       "text": [
        " | 1957 1541 785 | https://www.airbnb.com/rooms/688156\n",
        "271"
       ]
      },
      {
       "output_type": "stream",
       "stream": "stdout",
       "text": [
        " | 1959 1543 810 | https://www.airbnb.com/rooms/226674\n",
        "272"
       ]
      },
      {
       "output_type": "stream",
       "stream": "stdout",
       "text": [
        " | 1959 1543 835 | https://www.airbnb.com/rooms/224010\n",
        "273"
       ]
      },
      {
       "output_type": "stream",
       "stream": "stdout",
       "text": [
        " | 1959 1543 885 | https://www.airbnb.com/rooms/495343\n",
        "274"
       ]
      },
      {
       "output_type": "stream",
       "stream": "stdout",
       "text": [
        " | 1959 1546 936 | https://www.airbnb.com/users/show/205299\n",
        "275"
       ]
      },
      {
       "output_type": "stream",
       "stream": "stdout",
       "text": [
        " | 1978 1562 941 | https://www.airbnb.com/users/show/171505\n",
        "276"
       ]
      },
      {
       "output_type": "stream",
       "stream": "stdout",
       "text": [
        " | 1998 1580 943 | https://www.airbnb.com/users/show/2586055\n",
        "277"
       ]
      },
      {
       "output_type": "stream",
       "stream": "stdout",
       "text": [
        " | 2009 1587 946 | https://www.airbnb.com/users/show/4367137\n",
        "278"
       ]
      },
      {
       "output_type": "stream",
       "stream": "stdout",
       "text": [
        " | 2014 1589 947 | https://www.airbnb.com/users/show/3034025\n",
        "279"
       ]
      },
      {
       "output_type": "stream",
       "stream": "stdout",
       "text": [
        " | 2024 1599 948 | https://www.airbnb.com/users/show/1841207\n",
        "280"
       ]
      },
      {
       "output_type": "stream",
       "stream": "stdout",
       "text": [
        " | 2043 1614 951 | https://www.airbnb.com/users/show/683617\n",
        "281"
       ]
      },
      {
       "output_type": "stream",
       "stream": "stdout",
       "text": [
        " | 2058 1627 954 | https://www.airbnb.com/users/show/416155\n",
        "282"
       ]
      },
      {
       "output_type": "stream",
       "stream": "stdout",
       "text": [
        " | 2073 1640 955 | https://www.airbnb.com/users/show/504884\n",
        "283"
       ]
      },
      {
       "output_type": "stream",
       "stream": "stdout",
       "text": [
        " | 2091 1656 955 | https://www.airbnb.com/users/show/160250\n",
        "284"
       ]
      },
      {
       "output_type": "stream",
       "stream": "stdout",
       "text": [
        " | 2105 1668 958 | https://www.airbnb.com/users/show/6416229\n",
        "285"
       ]
      },
      {
       "output_type": "stream",
       "stream": "stdout",
       "text": [
        " | 2106 1669 960 | https://www.airbnb.com/users/show/16260809\n",
        "286"
       ]
      },
      {
       "output_type": "stream",
       "stream": "stdout",
       "text": [
        " | 2108 1671 960 | https://www.airbnb.com/users/show/6304077\n",
        "287"
       ]
      },
      {
       "output_type": "stream",
       "stream": "stdout",
       "text": [
        " | 2108 1671 960 | https://www.airbnb.com/users/show/17977576\n",
        "288"
       ]
      },
      {
       "output_type": "stream",
       "stream": "stdout",
       "text": [
        " | 2110 1673 961 | https://www.airbnb.com/users/show/18161365\n",
        "289"
       ]
      },
      {
       "output_type": "stream",
       "stream": "stdout",
       "text": [
        " | 2110 1673 961 | https://www.airbnb.com/users/show/16549948\n",
        "290"
       ]
      },
      {
       "output_type": "stream",
       "stream": "stdout",
       "text": [
        " | 2110 1673 961 | https://www.airbnb.com/users/show/12923793\n",
        "291"
       ]
      },
      {
       "output_type": "stream",
       "stream": "stdout",
       "text": [
        " | 2119 1683 965 | https://www.airbnb.com/users/show/6292692\n",
        "292"
       ]
      },
      {
       "output_type": "stream",
       "stream": "stdout",
       "text": [
        " | 2119 1683 965 | https://www.airbnb.com/users/show/7208871\n",
        "293"
       ]
      },
      {
       "output_type": "stream",
       "stream": "stdout",
       "text": [
        " | 2120 1684 966 | https://www.airbnb.com/users/show/15399610\n",
        "294"
       ]
      },
      {
       "output_type": "stream",
       "stream": "stdout",
       "text": [
        " | 2126 1690 967 | https://www.airbnb.com/users/show/14220794\n",
        "295"
       ]
      },
      {
       "output_type": "stream",
       "stream": "stdout",
       "text": [
        " | 2131 1695 967 | https://www.airbnb.com/users/show/5491318\n",
        "296"
       ]
      },
      {
       "output_type": "stream",
       "stream": "stdout",
       "text": [
        " | 2134 1698 968 | https://www.airbnb.com/users/show/6290940\n",
        "297"
       ]
      },
      {
       "output_type": "stream",
       "stream": "stdout",
       "text": [
        " | 2134 1698 968 | https://www.airbnb.com/users/show/3176842\n",
        "298"
       ]
      },
      {
       "output_type": "stream",
       "stream": "stdout",
       "text": [
        " | 2137 1701 968 | https://www.airbnb.com/rooms/1177580\n",
        "299"
       ]
      },
      {
       "output_type": "stream",
       "stream": "stdout",
       "text": [
        " | 2153 1707 968 | https://www.airbnb.com/rooms/1124031\n",
        "300"
       ]
      },
      {
       "output_type": "stream",
       "stream": "stdout",
       "text": [
        " | 2158 1712 983 | https://www.airbnb.com/rooms/1388509\n",
        "301"
       ]
      },
      {
       "output_type": "stream",
       "stream": "stdout",
       "text": [
        " | 2162 1716 983 | https://www.airbnb.com/users/show/3542878\n",
        "302"
       ]
      },
      {
       "output_type": "stream",
       "stream": "stdout",
       "text": [
        " | 2172 1726 984 | https://www.airbnb.com/users/show/44182\n",
        "303"
       ]
      },
      {
       "output_type": "stream",
       "stream": "stdout",
       "text": [
        " | 2188 1741 985 | https://www.airbnb.com/users/show/807838\n",
        "304"
       ]
      },
      {
       "output_type": "stream",
       "stream": "stdout",
       "text": [
        " | 2199 1750 985 | https://www.airbnb.com/users/show/12094965\n",
        "305"
       ]
      },
      {
       "output_type": "stream",
       "stream": "stdout",
       "text": [
        " | 2200 1751 985 | https://www.airbnb.com/users/show/8280415\n",
        "306"
       ]
      },
      {
       "output_type": "stream",
       "stream": "stdout",
       "text": [
        " | 2202 1753 985 | https://www.airbnb.com/users/show/1406019\n",
        "307"
       ]
      },
      {
       "output_type": "stream",
       "stream": "stdout",
       "text": [
        " | 2202 1753 985 | https://www.airbnb.com/users/show/64923\n",
        "308"
       ]
      },
      {
       "output_type": "stream",
       "stream": "stdout",
       "text": [
        " | 2204 1755 985 | https://www.airbnb.com/users/show/11110281\n",
        "309"
       ]
      },
      {
       "output_type": "stream",
       "stream": "stdout",
       "text": [
        " | 2204 1755 985 | https://www.airbnb.com/users/show/17251390\n",
        "310"
       ]
      },
      {
       "output_type": "stream",
       "stream": "stdout",
       "text": [
        " | 2205 1756 985 | https://www.airbnb.com/users/show/1383108\n",
        "311"
       ]
      },
      {
       "output_type": "stream",
       "stream": "stdout",
       "text": [
        " | 2206 1757 985 | https://www.airbnb.com/users/show/13244857\n",
        "312"
       ]
      },
      {
       "output_type": "stream",
       "stream": "stdout",
       "text": [
        " | 2206 1757 985 | https://www.airbnb.com/users/show/2724136\n",
        "313"
       ]
      },
      {
       "output_type": "stream",
       "stream": "stdout",
       "text": [
        " | 2219 1768 986 | https://www.airbnb.com/users/show/631941\n",
        "314"
       ]
      },
      {
       "output_type": "stream",
       "stream": "stdout",
       "text": [
        " | 2222 1771 987 | https://www.airbnb.com/users/show/10171811\n",
        "315"
       ]
      },
      {
       "output_type": "stream",
       "stream": "stdout",
       "text": [
        " | 2223 1772 987 | https://www.airbnb.com/users/show/16274379\n",
        "316"
       ]
      },
      {
       "output_type": "stream",
       "stream": "stdout",
       "text": [
        " | 2230 1779 988 | https://www.airbnb.com/users/show/5593849\n",
        "317"
       ]
      },
      {
       "output_type": "stream",
       "stream": "stdout",
       "text": [
        " | 2231 1780 988 | https://www.airbnb.com/rooms/261994\n"
       ]
      }
     ],
     "prompt_number": 17
    },
    {
     "cell_type": "code",
     "collapsed": false,
     "input": [
      "import urllib"
     ],
     "language": "python",
     "metadata": {},
     "outputs": [],
     "prompt_number": 108
    },
    {
     "cell_type": "code",
     "collapsed": false,
     "input": [
      "import pandas as pd"
     ],
     "language": "python",
     "metadata": {},
     "outputs": [],
     "prompt_number": 114
    },
    {
     "cell_type": "code",
     "collapsed": false,
     "input": [
      "uplist = list( USER_PHOTOS )\n",
      "uplist[:10]"
     ],
     "language": "python",
     "metadata": {},
     "outputs": [
      {
       "metadata": {},
       "output_type": "pyout",
       "prompt_number": 22,
       "text": [
        "['https://a0.muscache.com/ic/users/12975060/profile_pic/1394512722/original.jpg',\n",
        " 'https://a2.muscache.com/ic/users/10252955/profile_pic/1385574038/original.jpg',\n",
        " 'https://a2.muscache.com/ic/users/1089526/profile_pic/1352929642/original.jpg',\n",
        " 'https://a0.muscache.com/ic/users/1177169/profile_pic/1316385681/original.jpg',\n",
        " 'https://a2.muscache.com/ic/users/7936696/profile_pic/1375650125/original.jpg',\n",
        " 'https://a0.muscache.com/ic/users/83598/profile_pic/1367544017/original.jpg',\n",
        " 'https://a0.muscache.com/ic/users/178043/profile_pic/1293838129/original.jpg',\n",
        " 'https://a0.muscache.com/ic/users/15902177/profile_pic/1402343805/original.jpg',\n",
        " 'https://a2.muscache.com/ic/users/5672996/profile_pic/1369621443/original.jpg',\n",
        " 'https://a1.muscache.com/ic/users/1324242/profile_pic/1400536015/original.jpg']"
       ]
      }
     ],
     "prompt_number": 22
    },
    {
     "cell_type": "code",
     "collapsed": false,
     "input": [
      "upindex = [ int( url.split('/')[-2] ) for url in uplist ]\n",
      "upindex[:10]"
     ],
     "language": "python",
     "metadata": {},
     "outputs": [
      {
       "metadata": {},
       "output_type": "pyout",
       "prompt_number": 23,
       "text": [
        "[1394512722,\n",
        " 1385574038,\n",
        " 1352929642,\n",
        " 1316385681,\n",
        " 1375650125,\n",
        " 1367544017,\n",
        " 1293838129,\n",
        " 1402343805,\n",
        " 1369621443,\n",
        " 1400536015]"
       ]
      }
     ],
     "prompt_number": 23
    },
    {
     "cell_type": "code",
     "collapsed": false,
     "input": [
      "rplist = list( ROOM_PHOTOS )\n",
      "rplist[:10]"
     ],
     "language": "python",
     "metadata": {},
     "outputs": [
      {
       "metadata": {},
       "output_type": "pyout",
       "prompt_number": 21,
       "text": [
        "['https://a2.muscache.com/pictures/33542397/medium.jpg',\n",
        " 'https://a0.muscache.com/pictures/1708955/small.jpg',\n",
        " 'https://a1.muscache.com/pictures/36966291/small.jpg',\n",
        " 'https://a1.muscache.com/pictures/27581725/small.jpg',\n",
        " 'https://a2.muscache.com/pictures/42504268/small.jpg',\n",
        " 'https://a1.muscache.com/pictures/9814758/small.jpg',\n",
        " 'https://a2.muscache.com/pictures/475063/large.jpg',\n",
        " 'https://a0.muscache.com/pictures/29110159/small.jpg',\n",
        " 'https://a2.muscache.com/pictures/33688136/medium.jpg',\n",
        " 'https://a1.muscache.com/pictures/27440169/medium.jpg']"
       ]
      }
     ],
     "prompt_number": 21
    },
    {
     "cell_type": "code",
     "collapsed": false,
     "input": [
      "import urlparse"
     ],
     "language": "python",
     "metadata": {},
     "outputs": [],
     "prompt_number": 26
    },
    {
     "cell_type": "code",
     "collapsed": false,
     "input": [
      "urlparse.urljoin( rplist[0], 'x_large.jpg' )"
     ],
     "language": "python",
     "metadata": {},
     "outputs": [
      {
       "metadata": {},
       "output_type": "pyout",
       "prompt_number": 31,
       "text": [
        "'https://a2.muscache.com/pictures/33542397/large.jpg'"
       ]
      }
     ],
     "prompt_number": 31
    },
    {
     "cell_type": "code",
     "collapsed": false,
     "input": [
      "rplist = [ urlparse.urljoin( url, 'x_large.jpg' ) for url in rplist ]\n",
      "rplist[:10]"
     ],
     "language": "python",
     "metadata": {},
     "outputs": [
      {
       "metadata": {},
       "output_type": "pyout",
       "prompt_number": 33,
       "text": [
        "['https://a2.muscache.com/pictures/33542397/x_large.jpg',\n",
        " 'https://a0.muscache.com/pictures/1708955/x_large.jpg',\n",
        " 'https://a1.muscache.com/pictures/36966291/x_large.jpg',\n",
        " 'https://a1.muscache.com/pictures/27581725/x_large.jpg',\n",
        " 'https://a2.muscache.com/pictures/42504268/x_large.jpg',\n",
        " 'https://a1.muscache.com/pictures/9814758/x_large.jpg',\n",
        " 'https://a2.muscache.com/pictures/475063/x_large.jpg',\n",
        " 'https://a0.muscache.com/pictures/29110159/x_large.jpg',\n",
        " 'https://a2.muscache.com/pictures/33688136/x_large.jpg',\n",
        " 'https://a1.muscache.com/pictures/27440169/x_large.jpg']"
       ]
      }
     ],
     "prompt_number": 33
    },
    {
     "cell_type": "code",
     "collapsed": false,
     "input": [
      "rpindex = [ int( url.split('/')[-2] ) for url in rplist ]\n",
      "rpindex[:10]"
     ],
     "language": "python",
     "metadata": {},
     "outputs": [
      {
       "metadata": {},
       "output_type": "pyout",
       "prompt_number": 34,
       "text": [
        "[33542397,\n",
        " 1708955,\n",
        " 36966291,\n",
        " 27581725,\n",
        " 42504268,\n",
        " 9814758,\n",
        " 475063,\n",
        " 29110159,\n",
        " 33688136,\n",
        " 27440169]"
       ]
      }
     ],
     "prompt_number": 34
    },
    {
     "cell_type": "code",
     "collapsed": false,
     "input": [
      "user_files = [ 'users/{}.jpg'.format( i ) for i in upindex ]\n",
      "room_files = [ 'rooms/{}.jpg'.format( i ) for i in rpindex ]"
     ],
     "language": "python",
     "metadata": {},
     "outputs": [],
     "prompt_number": 35
    },
    {
     "cell_type": "code",
     "collapsed": false,
     "input": [
      "import pandas as pd"
     ],
     "language": "python",
     "metadata": {},
     "outputs": [],
     "prompt_number": 36
    },
    {
     "cell_type": "code",
     "collapsed": false,
     "input": [
      "user_series = pd.Series( uplist, )"
     ],
     "language": "python",
     "metadata": {},
     "outputs": []
    },
    {
     "cell_type": "code",
     "collapsed": false,
     "input": [
      "user_photos = pd.DataFrame( { 'url':      pd.Series( uplist, index=upindex ), \n",
      "                              'filename': pd.Series(user_files, index=upindex ) } )\n",
      "room_photos = pd.DataFrame( { 'url':      pd.Series( rplist, index=rpindex ), \n",
      "                              'filename': pd.Series(room_files, index=rpindex ) } )"
     ],
     "language": "python",
     "metadata": {},
     "outputs": [],
     "prompt_number": 37
    },
    {
     "cell_type": "code",
     "collapsed": false,
     "input": [
      "user_photos.head()"
     ],
     "language": "python",
     "metadata": {},
     "outputs": [
      {
       "html": [
        "<div style=\"max-height:1000px;max-width:1500px;overflow:auto;\">\n",
        "<table border=\"1\" class=\"dataframe\">\n",
        "  <thead>\n",
        "    <tr style=\"text-align: right;\">\n",
        "      <th></th>\n",
        "      <th>filename</th>\n",
        "      <th>url</th>\n",
        "    </tr>\n",
        "  </thead>\n",
        "  <tbody>\n",
        "    <tr>\n",
        "      <th>1394512722</th>\n",
        "      <td> users/1394512722.jpg</td>\n",
        "      <td> https://a0.muscache.com/ic/users/12975060/prof...</td>\n",
        "    </tr>\n",
        "    <tr>\n",
        "      <th>1385574038</th>\n",
        "      <td> users/1385574038.jpg</td>\n",
        "      <td> https://a2.muscache.com/ic/users/10252955/prof...</td>\n",
        "    </tr>\n",
        "    <tr>\n",
        "      <th>1352929642</th>\n",
        "      <td> users/1352929642.jpg</td>\n",
        "      <td> https://a2.muscache.com/ic/users/1089526/profi...</td>\n",
        "    </tr>\n",
        "    <tr>\n",
        "      <th>1316385681</th>\n",
        "      <td> users/1316385681.jpg</td>\n",
        "      <td> https://a0.muscache.com/ic/users/1177169/profi...</td>\n",
        "    </tr>\n",
        "    <tr>\n",
        "      <th>1375650125</th>\n",
        "      <td> users/1375650125.jpg</td>\n",
        "      <td> https://a2.muscache.com/ic/users/7936696/profi...</td>\n",
        "    </tr>\n",
        "  </tbody>\n",
        "</table>\n",
        "</div>"
       ],
       "metadata": {},
       "output_type": "pyout",
       "prompt_number": 38,
       "text": [
        "                        filename  \\\n",
        "1394512722  users/1394512722.jpg   \n",
        "1385574038  users/1385574038.jpg   \n",
        "1352929642  users/1352929642.jpg   \n",
        "1316385681  users/1316385681.jpg   \n",
        "1375650125  users/1375650125.jpg   \n",
        "\n",
        "                                                          url  \n",
        "1394512722  https://a0.muscache.com/ic/users/12975060/prof...  \n",
        "1385574038  https://a2.muscache.com/ic/users/10252955/prof...  \n",
        "1352929642  https://a2.muscache.com/ic/users/1089526/profi...  \n",
        "1316385681  https://a0.muscache.com/ic/users/1177169/profi...  \n",
        "1375650125  https://a2.muscache.com/ic/users/7936696/profi...  "
       ]
      }
     ],
     "prompt_number": 38
    },
    {
     "cell_type": "code",
     "collapsed": false,
     "input": [
      "room_photos.head()"
     ],
     "language": "python",
     "metadata": {},
     "outputs": [
      {
       "html": [
        "<div style=\"max-height:1000px;max-width:1500px;overflow:auto;\">\n",
        "<table border=\"1\" class=\"dataframe\">\n",
        "  <thead>\n",
        "    <tr style=\"text-align: right;\">\n",
        "      <th></th>\n",
        "      <th>filename</th>\n",
        "      <th>url</th>\n",
        "    </tr>\n",
        "  </thead>\n",
        "  <tbody>\n",
        "    <tr>\n",
        "      <th>33542397</th>\n",
        "      <td> rooms/33542397.jpg</td>\n",
        "      <td> https://a2.muscache.com/pictures/33542397/x_la...</td>\n",
        "    </tr>\n",
        "    <tr>\n",
        "      <th>1708955 </th>\n",
        "      <td>  rooms/1708955.jpg</td>\n",
        "      <td> https://a0.muscache.com/pictures/1708955/x_lar...</td>\n",
        "    </tr>\n",
        "    <tr>\n",
        "      <th>36966291</th>\n",
        "      <td> rooms/36966291.jpg</td>\n",
        "      <td> https://a1.muscache.com/pictures/36966291/x_la...</td>\n",
        "    </tr>\n",
        "    <tr>\n",
        "      <th>27581725</th>\n",
        "      <td> rooms/27581725.jpg</td>\n",
        "      <td> https://a1.muscache.com/pictures/27581725/x_la...</td>\n",
        "    </tr>\n",
        "    <tr>\n",
        "      <th>42504268</th>\n",
        "      <td> rooms/42504268.jpg</td>\n",
        "      <td> https://a2.muscache.com/pictures/42504268/x_la...</td>\n",
        "    </tr>\n",
        "  </tbody>\n",
        "</table>\n",
        "</div>"
       ],
       "metadata": {},
       "output_type": "pyout",
       "prompt_number": 39,
       "text": [
        "                    filename  \\\n",
        "33542397  rooms/33542397.jpg   \n",
        "1708955    rooms/1708955.jpg   \n",
        "36966291  rooms/36966291.jpg   \n",
        "27581725  rooms/27581725.jpg   \n",
        "42504268  rooms/42504268.jpg   \n",
        "\n",
        "                                                        url  \n",
        "33542397  https://a2.muscache.com/pictures/33542397/x_la...  \n",
        "1708955   https://a0.muscache.com/pictures/1708955/x_lar...  \n",
        "36966291  https://a1.muscache.com/pictures/36966291/x_la...  \n",
        "27581725  https://a1.muscache.com/pictures/27581725/x_la...  \n",
        "42504268  https://a2.muscache.com/pictures/42504268/x_la...  "
       ]
      }
     ],
     "prompt_number": 39
    },
    {
     "cell_type": "code",
     "collapsed": false,
     "input": [
      "user_photos.to_csv( 'user_photos.csv' )"
     ],
     "language": "python",
     "metadata": {},
     "outputs": [],
     "prompt_number": 40
    },
    {
     "cell_type": "code",
     "collapsed": false,
     "input": [
      "room_photos.to_csv( 'room_photos.csv' )"
     ],
     "language": "python",
     "metadata": {},
     "outputs": [],
     "prompt_number": 41
    },
    {
     "cell_type": "code",
     "collapsed": false,
     "input": [
      "import urllib"
     ],
     "language": "python",
     "metadata": {},
     "outputs": [],
     "prompt_number": 43
    },
    {
     "cell_type": "code",
     "collapsed": false,
     "input": [
      "for index, row in user_photos.iterrows():\n",
      "    urllib.urlretrieve( row['url'], row['filename'] )"
     ],
     "language": "python",
     "metadata": {},
     "outputs": [],
     "prompt_number": 44
    },
    {
     "cell_type": "code",
     "collapsed": false,
     "input": [
      "for index, row in room_photos.iterrows():\n",
      "    urllib.urlretrieve( row['url'], row['filename'] )"
     ],
     "language": "python",
     "metadata": {},
     "outputs": [],
     "prompt_number": 45
    },
    {
     "cell_type": "code",
     "collapsed": false,
     "input": [
      "len( user_photos )"
     ],
     "language": "python",
     "metadata": {},
     "outputs": [
      {
       "metadata": {},
       "output_type": "pyout",
       "prompt_number": 46,
       "text": [
        "1780"
       ]
      }
     ],
     "prompt_number": 46
    },
    {
     "cell_type": "code",
     "collapsed": false,
     "input": [
      "len( room_photos )"
     ],
     "language": "python",
     "metadata": {},
     "outputs": [
      {
       "metadata": {},
       "output_type": "pyout",
       "prompt_number": 47,
       "text": [
        "1014"
       ]
      }
     ],
     "prompt_number": 47
    },
    {
     "cell_type": "code",
     "collapsed": false,
     "input": [],
     "language": "python",
     "metadata": {},
     "outputs": []
    }
   ],
   "metadata": {}
  }
 ]
}