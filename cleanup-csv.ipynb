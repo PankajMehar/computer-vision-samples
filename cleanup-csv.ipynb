{
 "metadata": {
  "name": "",
  "signature": "sha256:be0b8019dc59e719f5d6c0e2b7e1cfb2e0072eaef42718cce93de6fa86b46b40"
 },
 "nbformat": 3,
 "nbformat_minor": 0,
 "worksheets": [
  {
   "cells": [
    {
     "cell_type": "code",
     "collapsed": false,
     "input": [
      "import numpy as np\n",
      "import scipy as sp\n",
      "import pandas as pd"
     ],
     "language": "python",
     "metadata": {},
     "outputs": [],
     "prompt_number": 1
    },
    {
     "cell_type": "code",
     "collapsed": false,
     "input": [
      "room_df = pd.read_csv( 'room_photos.csv' )\n",
      "user_df = pd.read_csv( 'user_photos.csv' )"
     ],
     "language": "python",
     "metadata": {},
     "outputs": [],
     "prompt_number": 28
    },
    {
     "cell_type": "code",
     "collapsed": false,
     "input": [
      "room_df.head()"
     ],
     "language": "python",
     "metadata": {},
     "outputs": [
      {
       "html": [
        "<div style=\"max-height:1000px;max-width:1500px;overflow:auto;\">\n",
        "<table border=\"1\" class=\"dataframe\">\n",
        "  <thead>\n",
        "    <tr style=\"text-align: right;\">\n",
        "      <th></th>\n",
        "      <th>Unnamed: 0</th>\n",
        "      <th>filename</th>\n",
        "      <th>url</th>\n",
        "    </tr>\n",
        "  </thead>\n",
        "  <tbody>\n",
        "    <tr>\n",
        "      <th>0</th>\n",
        "      <td> 33542397</td>\n",
        "      <td> rooms/33542397.jpg</td>\n",
        "      <td> https://a2.muscache.com/pictures/33542397/x_la...</td>\n",
        "    </tr>\n",
        "    <tr>\n",
        "      <th>1</th>\n",
        "      <td>  1708955</td>\n",
        "      <td>  rooms/1708955.jpg</td>\n",
        "      <td> https://a0.muscache.com/pictures/1708955/x_lar...</td>\n",
        "    </tr>\n",
        "    <tr>\n",
        "      <th>2</th>\n",
        "      <td> 36966291</td>\n",
        "      <td> rooms/36966291.jpg</td>\n",
        "      <td> https://a1.muscache.com/pictures/36966291/x_la...</td>\n",
        "    </tr>\n",
        "    <tr>\n",
        "      <th>3</th>\n",
        "      <td> 27581725</td>\n",
        "      <td> rooms/27581725.jpg</td>\n",
        "      <td> https://a1.muscache.com/pictures/27581725/x_la...</td>\n",
        "    </tr>\n",
        "    <tr>\n",
        "      <th>4</th>\n",
        "      <td> 42504268</td>\n",
        "      <td> rooms/42504268.jpg</td>\n",
        "      <td> https://a2.muscache.com/pictures/42504268/x_la...</td>\n",
        "    </tr>\n",
        "  </tbody>\n",
        "</table>\n",
        "</div>"
       ],
       "metadata": {},
       "output_type": "pyout",
       "prompt_number": 29,
       "text": [
        "   Unnamed: 0            filename  \\\n",
        "0    33542397  rooms/33542397.jpg   \n",
        "1     1708955   rooms/1708955.jpg   \n",
        "2    36966291  rooms/36966291.jpg   \n",
        "3    27581725  rooms/27581725.jpg   \n",
        "4    42504268  rooms/42504268.jpg   \n",
        "\n",
        "                                                 url  \n",
        "0  https://a2.muscache.com/pictures/33542397/x_la...  \n",
        "1  https://a0.muscache.com/pictures/1708955/x_lar...  \n",
        "2  https://a1.muscache.com/pictures/36966291/x_la...  \n",
        "3  https://a1.muscache.com/pictures/27581725/x_la...  \n",
        "4  https://a2.muscache.com/pictures/42504268/x_la...  "
       ]
      }
     ],
     "prompt_number": 29
    },
    {
     "cell_type": "code",
     "collapsed": false,
     "input": [
      "index = room_df['Unnamed: 0'].tolist()"
     ],
     "language": "python",
     "metadata": {},
     "outputs": [],
     "prompt_number": 30
    },
    {
     "cell_type": "code",
     "collapsed": false,
     "input": [
      "del room_df['Unnamed: 0']"
     ],
     "language": "python",
     "metadata": {},
     "outputs": [],
     "prompt_number": 31
    },
    {
     "cell_type": "code",
     "collapsed": false,
     "input": [
      "room_df.index = index"
     ],
     "language": "python",
     "metadata": {},
     "outputs": [],
     "prompt_number": 32
    },
    {
     "cell_type": "code",
     "collapsed": false,
     "input": [
      "room_df.head()"
     ],
     "language": "python",
     "metadata": {},
     "outputs": [
      {
       "html": [
        "<div style=\"max-height:1000px;max-width:1500px;overflow:auto;\">\n",
        "<table border=\"1\" class=\"dataframe\">\n",
        "  <thead>\n",
        "    <tr style=\"text-align: right;\">\n",
        "      <th></th>\n",
        "      <th>filename</th>\n",
        "      <th>url</th>\n",
        "    </tr>\n",
        "  </thead>\n",
        "  <tbody>\n",
        "    <tr>\n",
        "      <th>33542397</th>\n",
        "      <td> rooms/33542397.jpg</td>\n",
        "      <td> https://a2.muscache.com/pictures/33542397/x_la...</td>\n",
        "    </tr>\n",
        "    <tr>\n",
        "      <th>1708955 </th>\n",
        "      <td>  rooms/1708955.jpg</td>\n",
        "      <td> https://a0.muscache.com/pictures/1708955/x_lar...</td>\n",
        "    </tr>\n",
        "    <tr>\n",
        "      <th>36966291</th>\n",
        "      <td> rooms/36966291.jpg</td>\n",
        "      <td> https://a1.muscache.com/pictures/36966291/x_la...</td>\n",
        "    </tr>\n",
        "    <tr>\n",
        "      <th>27581725</th>\n",
        "      <td> rooms/27581725.jpg</td>\n",
        "      <td> https://a1.muscache.com/pictures/27581725/x_la...</td>\n",
        "    </tr>\n",
        "    <tr>\n",
        "      <th>42504268</th>\n",
        "      <td> rooms/42504268.jpg</td>\n",
        "      <td> https://a2.muscache.com/pictures/42504268/x_la...</td>\n",
        "    </tr>\n",
        "  </tbody>\n",
        "</table>\n",
        "</div>"
       ],
       "metadata": {},
       "output_type": "pyout",
       "prompt_number": 33,
       "text": [
        "                    filename  \\\n",
        "33542397  rooms/33542397.jpg   \n",
        "1708955    rooms/1708955.jpg   \n",
        "36966291  rooms/36966291.jpg   \n",
        "27581725  rooms/27581725.jpg   \n",
        "42504268  rooms/42504268.jpg   \n",
        "\n",
        "                                                        url  \n",
        "33542397  https://a2.muscache.com/pictures/33542397/x_la...  \n",
        "1708955   https://a0.muscache.com/pictures/1708955/x_lar...  \n",
        "36966291  https://a1.muscache.com/pictures/36966291/x_la...  \n",
        "27581725  https://a1.muscache.com/pictures/27581725/x_la...  \n",
        "42504268  https://a2.muscache.com/pictures/42504268/x_la...  "
       ]
      }
     ],
     "prompt_number": 33
    },
    {
     "cell_type": "code",
     "collapsed": false,
     "input": [
      "user_df.head()"
     ],
     "language": "python",
     "metadata": {},
     "outputs": [
      {
       "html": [
        "<div style=\"max-height:1000px;max-width:1500px;overflow:auto;\">\n",
        "<table border=\"1\" class=\"dataframe\">\n",
        "  <thead>\n",
        "    <tr style=\"text-align: right;\">\n",
        "      <th></th>\n",
        "      <th>Unnamed: 0</th>\n",
        "      <th>filename</th>\n",
        "      <th>url</th>\n",
        "    </tr>\n",
        "  </thead>\n",
        "  <tbody>\n",
        "    <tr>\n",
        "      <th>0</th>\n",
        "      <td> 1394512722</td>\n",
        "      <td> users/1394512722.jpg</td>\n",
        "      <td> https://a0.muscache.com/ic/users/12975060/prof...</td>\n",
        "    </tr>\n",
        "    <tr>\n",
        "      <th>1</th>\n",
        "      <td> 1385574038</td>\n",
        "      <td> users/1385574038.jpg</td>\n",
        "      <td> https://a2.muscache.com/ic/users/10252955/prof...</td>\n",
        "    </tr>\n",
        "    <tr>\n",
        "      <th>2</th>\n",
        "      <td> 1352929642</td>\n",
        "      <td> users/1352929642.jpg</td>\n",
        "      <td> https://a2.muscache.com/ic/users/1089526/profi...</td>\n",
        "    </tr>\n",
        "    <tr>\n",
        "      <th>3</th>\n",
        "      <td> 1316385681</td>\n",
        "      <td> users/1316385681.jpg</td>\n",
        "      <td> https://a0.muscache.com/ic/users/1177169/profi...</td>\n",
        "    </tr>\n",
        "    <tr>\n",
        "      <th>4</th>\n",
        "      <td> 1375650125</td>\n",
        "      <td> users/1375650125.jpg</td>\n",
        "      <td> https://a2.muscache.com/ic/users/7936696/profi...</td>\n",
        "    </tr>\n",
        "  </tbody>\n",
        "</table>\n",
        "</div>"
       ],
       "metadata": {},
       "output_type": "pyout",
       "prompt_number": 34,
       "text": [
        "   Unnamed: 0              filename  \\\n",
        "0  1394512722  users/1394512722.jpg   \n",
        "1  1385574038  users/1385574038.jpg   \n",
        "2  1352929642  users/1352929642.jpg   \n",
        "3  1316385681  users/1316385681.jpg   \n",
        "4  1375650125  users/1375650125.jpg   \n",
        "\n",
        "                                                 url  \n",
        "0  https://a0.muscache.com/ic/users/12975060/prof...  \n",
        "1  https://a2.muscache.com/ic/users/10252955/prof...  \n",
        "2  https://a2.muscache.com/ic/users/1089526/profi...  \n",
        "3  https://a0.muscache.com/ic/users/1177169/profi...  \n",
        "4  https://a2.muscache.com/ic/users/7936696/profi...  "
       ]
      }
     ],
     "prompt_number": 34
    },
    {
     "cell_type": "code",
     "collapsed": false,
     "input": [
      "index = user_df['Unnamed: 0'].tolist()"
     ],
     "language": "python",
     "metadata": {},
     "outputs": [],
     "prompt_number": 35
    },
    {
     "cell_type": "code",
     "collapsed": false,
     "input": [
      "del user_df['Unnamed: 0']"
     ],
     "language": "python",
     "metadata": {},
     "outputs": [],
     "prompt_number": 36
    },
    {
     "cell_type": "code",
     "collapsed": false,
     "input": [
      "user_df.index = index"
     ],
     "language": "python",
     "metadata": {},
     "outputs": [],
     "prompt_number": 37
    },
    {
     "cell_type": "code",
     "collapsed": false,
     "input": [
      "user_df.head()"
     ],
     "language": "python",
     "metadata": {},
     "outputs": [
      {
       "html": [
        "<div style=\"max-height:1000px;max-width:1500px;overflow:auto;\">\n",
        "<table border=\"1\" class=\"dataframe\">\n",
        "  <thead>\n",
        "    <tr style=\"text-align: right;\">\n",
        "      <th></th>\n",
        "      <th>filename</th>\n",
        "      <th>url</th>\n",
        "    </tr>\n",
        "  </thead>\n",
        "  <tbody>\n",
        "    <tr>\n",
        "      <th>1394512722</th>\n",
        "      <td> users/1394512722.jpg</td>\n",
        "      <td> https://a0.muscache.com/ic/users/12975060/prof...</td>\n",
        "    </tr>\n",
        "    <tr>\n",
        "      <th>1385574038</th>\n",
        "      <td> users/1385574038.jpg</td>\n",
        "      <td> https://a2.muscache.com/ic/users/10252955/prof...</td>\n",
        "    </tr>\n",
        "    <tr>\n",
        "      <th>1352929642</th>\n",
        "      <td> users/1352929642.jpg</td>\n",
        "      <td> https://a2.muscache.com/ic/users/1089526/profi...</td>\n",
        "    </tr>\n",
        "    <tr>\n",
        "      <th>1316385681</th>\n",
        "      <td> users/1316385681.jpg</td>\n",
        "      <td> https://a0.muscache.com/ic/users/1177169/profi...</td>\n",
        "    </tr>\n",
        "    <tr>\n",
        "      <th>1375650125</th>\n",
        "      <td> users/1375650125.jpg</td>\n",
        "      <td> https://a2.muscache.com/ic/users/7936696/profi...</td>\n",
        "    </tr>\n",
        "  </tbody>\n",
        "</table>\n",
        "</div>"
       ],
       "metadata": {},
       "output_type": "pyout",
       "prompt_number": 38,
       "text": [
        "                        filename  \\\n",
        "1394512722  users/1394512722.jpg   \n",
        "1385574038  users/1385574038.jpg   \n",
        "1352929642  users/1352929642.jpg   \n",
        "1316385681  users/1316385681.jpg   \n",
        "1375650125  users/1375650125.jpg   \n",
        "\n",
        "                                                          url  \n",
        "1394512722  https://a0.muscache.com/ic/users/12975060/prof...  \n",
        "1385574038  https://a2.muscache.com/ic/users/10252955/prof...  \n",
        "1352929642  https://a2.muscache.com/ic/users/1089526/profi...  \n",
        "1316385681  https://a0.muscache.com/ic/users/1177169/profi...  \n",
        "1375650125  https://a2.muscache.com/ic/users/7936696/profi...  "
       ]
      }
     ],
     "prompt_number": 38
    },
    {
     "cell_type": "code",
     "collapsed": false,
     "input": [
      "room_df.to_hdf( 'room_photos.h5', 'df' )"
     ],
     "language": "python",
     "metadata": {},
     "outputs": [],
     "prompt_number": 39
    },
    {
     "cell_type": "code",
     "collapsed": false,
     "input": [
      "user_df.to_hdf( 'user_photos.h5', 'df' )"
     ],
     "language": "python",
     "metadata": {},
     "outputs": [],
     "prompt_number": 41
    }
   ],
   "metadata": {}
  }
 ]
}