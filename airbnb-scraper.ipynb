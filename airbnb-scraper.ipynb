{
 "metadata": {
  "name": "",
  "signature": "sha256:203abfc3028a2678e86ce15ee60c2707fc21d0cb58c48743cefe87078c56e9f3"
 },
 "nbformat": 3,
 "nbformat_minor": 0,
 "worksheets": [
  {
   "cells": [
    {
     "cell_type": "code",
     "collapsed": false,
     "input": [
      "import re\n",
      "import requests\n",
      "from bs4 import BeautifulSoup"
     ],
     "language": "python",
     "metadata": {},
     "outputs": [],
     "prompt_number": 3
    },
    {
     "cell_type": "code",
     "collapsed": false,
     "input": [
      "PAGES = [ 'https://www.airbnb.com/users/show/100900' ]"
     ],
     "language": "python",
     "metadata": {},
     "outputs": [],
     "prompt_number": 51
    },
    {
     "cell_type": "code",
     "collapsed": false,
     "input": [
      "SEEN_PAGES  = set()\n",
      "USER_PHOTOS = set()\n",
      "ROOM_PHOTOS = set()"
     ],
     "language": "python",
     "metadata": {},
     "outputs": [],
     "prompt_number": 60
    },
    {
     "cell_type": "code",
     "collapsed": false,
     "input": [
      "user_re = re.compile( '^(https://www\\.airbnb\\.com)?/users/show/\\d*' )\n",
      "room_re = re.compile( '^(https://www\\.airbnb\\.com)?/rooms/\\d*' )\n",
      "\n",
      "user_photo_re = re.compile( '^https://.*\\.muscache\\.com/ic/users/\\d*/profile_pic/\\d*/original\\.jpg\\?.*' )\n",
      "room_photo_re = re.compile( '^https://.*\\.muscache\\.com/pictures/\\d*/large\\.jpg' )"
     ],
     "language": "python",
     "metadata": {},
     "outputs": [],
     "prompt_number": 105
    },
    {
     "cell_type": "code",
     "collapsed": false,
     "input": [
      "'https://.*\\.muscache\\.com/ic/users/\\d*/profile_pic/\\d*/original.jpg.*'"
     ],
     "language": "python",
     "metadata": {},
     "outputs": []
    },
    {
     "cell_type": "code",
     "collapsed": false,
     "input": [
      "response = requests.get( PAGES[0] )"
     ],
     "language": "python",
     "metadata": {},
     "outputs": [],
     "prompt_number": 12
    },
    {
     "cell_type": "code",
     "collapsed": false,
     "input": [
      "response.text"
     ],
     "language": "python",
     "metadata": {},
     "outputs": [
      {
       "metadata": {},
       "output_type": "pyout",
       "prompt_number": 32,
       "text": [
        "u'<!DOCTYPE html>\\n\\n<!--[if lt IE 8]>\\n\\n<html lang=\"en\"\\n      \\n      xmlns:fb=\"http://ogp.me/ns/fb#\"\\n      class=\"ie\">\\n\\n<![endif]-->\\n\\n<!--[if IE 8]>\\n\\n<html lang=\"en\"\\n      \\n      xmlns:fb=\"http://ogp.me/ns/fb#\"\\n      class=\"ie ie8\">\\n\\n<![endif]-->\\n\\n<!--[if IE 9]>\\n\\n  <html lang=\"en\"\\n      \\n      xmlns:fb=\"http://ogp.me/ns/fb#\"\\n      class=\"ie ie9\">\\n\\n<![endif]-->\\n\\n<!--[if (gt IE 9)|!(IE)]><!-->\\n<html lang=\"en\"\\n      \\n      xmlns:fb=\"http://ogp.me/ns/fb#\">\\n\\n<!--<![endif]-->\\n\\n  <head>\\n    <link rel=\"dns-prefetch\" href=\"//maps.googleapis.com\">\\n    <link rel=\"dns-prefetch\" href=\"//maps.gstatic.com\">\\n    <link rel=\"dns-prefetch\" href=\"//mts0.googleapis.com\">\\n    <link rel=\"dns-prefetch\" href=\"//mts1.googleapis.com\">\\n\\n    <!--[if IE]><![endif]-->\\n    <meta charset=\"utf-8\">\\n\\n    <!--[if IE 8]>\\n      <link href=\"https://a1.muscache.com/airbnb/static/packages/common_o2.1_ie8-29940048895cc09d1f583a47014883d7.css\" media=\"all\" rel=\"stylesheet\" type=\"text/css\" />\\n    <![endif]-->\\n    <!--[if !(IE 8)]><!-->\\n      <link href=\"https://a1.muscache.com/airbnb/static/packages/common_o2.1-e487d3aedf3e09630cba435fe39abbff.css\" media=\"all\" rel=\"stylesheet\" type=\"text/css\" />\\n    <!--<![endif]-->\\n\\n    <link href=\"https://a0.muscache.com/airbnb/static/packages/profile-5325665de646d95d59617da5882423fc.css\" media=\"screen\" rel=\"stylesheet\" type=\"text/css\" />\\n    \\n\\n    <style>\\n      \\n    </style>\\n\\n    <meta id=\"csrf-param-meta-tag\" name=\"csrf-param\" content=\"authenticity_token\"/>\\n    <meta id=\"csrf-token-meta-tag\" name=\"csrf-token\" content=\"\"/>\\n\\n    <script>\\n      var sherlock_firstbyte = Number(new Date());\\n      var googleMapsUrl = \\'//maps.googleapis.com/maps/api/js?language=en&sensor=false&v=3.13&libraries=places&client=gme-airbnbinc&channel=monorail-prod\\';\\n      var userAttributeCookies = {\\n        flags_name: \\'flags\\',\\n        roles_name: \\'roles\\',\\n        flags: {\"can_see_community\":2,\"og_publish\":16,\"has_wishlisted\":32,\"update_cached\":64,\"revert_to_admin\":128,\"facebook_connected\":256,\"has_search\":1024,\"search_help_dropdown\":2048,\"has_dates\":4096,\"can_send_profile_messages\":32768,\"just_logged_in\":65536,\"has_been_host\":131072,\"should_drop_pellet\":262144,\"is_active_host\":1048576,\"can_see_meetups\":134217728,\"should_drop_sift_pellet\":268435456,\"can_see_groups\":536870912,\"has_verified_phone\":1073741824,\"has_profile_pic\":2147483648},\\n        roles: {\"is_admin\":1,\"is_aircrew\":8,\"is_content_manager\":1048576,\"is_stats_admin\":16777216},\\n        cookie_name: \"_user_attributes\"\\n      };\\n    </script>\\n\\n\\n    <title>Matthew&#x27;s Profile - Airbnb</title>\\n\\n    <meta http-equiv=\"X-UA-Compatible\" content=\"IE=edge,chrome=1\">\\n\\n      <link rel=\"canonical\" href=\"https://www.airbnb.com/users/show/100900\">\\n          <link rel=\"alternate\" href=\"https://www.airbnb.com/users/show/100900\" hreflang=\"en\">\\n          <link rel=\"alternate\" href=\"https://www.airbnb.co.uk/users/show/100900\" hreflang=\"en-GB\">\\n          <link rel=\"alternate\" href=\"https://www.airbnb.com.sg/users/show/100900\" hreflang=\"en-SG\">\\n          <link rel=\"alternate\" href=\"https://www.airbnb.com.au/users/show/100900\" hreflang=\"en-AU\">\\n          <link rel=\"alternate\" href=\"https://www.airbnb.co.nz/users/show/100900\" hreflang=\"en-NZ\">\\n          <link rel=\"alternate\" href=\"https://www.airbnb.ca/users/show/100900\" hreflang=\"en-CA\">\\n          <link rel=\"alternate\" href=\"https://www.airbnb.ie/users/show/100900\" hreflang=\"en-IE\">\\n          <link rel=\"alternate\" href=\"https://www.airbnb.co.in/users/show/100900\" hreflang=\"en-IN\">\\n          <link rel=\"alternate\" href=\"https://www.airbnb.com.mt/users/show/100900\" hreflang=\"en\">\\n          <link rel=\"alternate\" href=\"https://www.airbnb.gy/users/show/100900\" hreflang=\"en\">\\n\\n      <link rel=\"alternate\" media=\"only screen and (max-width: 640px)\" href=\"https://m.airbnb.com/users/100900\">\\n      <link rel=\"alternate\" href=\"android-app://com.airbnb.android/airbnb/users/100900\">\\n\\n      <meta name=\"description\" content=\"For the last 8 years I was a grad student. I&amp;#x27;ve been an American living in Canada. I just completed my PhD in computer science, and neither of...\">\\n\\n\\n\\n\\n      <meta property=\"fb:app_id\" content=\"138566025676\">\\n      <meta property=\"og:site_name\" content=\"Airbnb\">\\n      <meta property=\"og:type\" content=\"airbedandbreakfast:person\">\\n      <meta property=\"og:image\" content=\"https://a2.muscache.com/ic/users/100900/profile_pic/1319163349/original.jpg?interpolation=lanczos-none&amp;crop=w:w;*,*&amp;crop=h:h;*,*&amp;resize=225:*&amp;output-format=jpg&amp;output-quality=70\">\\n      <meta property=\"og:url\" content=\"https://www.airbnb.com/users/show/100900\">\\n      <meta property=\"og:title\" content=\"Matthew&#x27;s Profile - Airbnb\">\\n      <meta property=\"og:description\" content=\"For the last 8 years I was a grad student. I&amp;#x27;ve been an American living in Canada. I just completed my PhD in computer science, and neither of...\">\\n      <meta property=\"og:locale\" content=\"en_US\">\\n\\n\\n\\n    <meta name=\"viewport\" content=\"width=1045\">\\n    <link rel=\"image_src\" href=\"https://a1.muscache.com/airbnb/static/logos/belo-200x200-4a7e6c09014b7a277e15d15ba893501b.png\">\\n    <link rel=\"search\" type=\"application/opensearchdescription+xml\" href=\"/opensearch.xml\" title=\"Airbnb\">\\n\\n    <!--[if lt IE 9]>\\n      <script src=\"https://a0.muscache.com/airbnb/static/vendor/html5shiv-0a40ea6da13a87025857458fc1fc35fe.js\" type=\"text/javascript\"></script>\\n    <![endif]-->\\n    <link rel=\"shortcut icon\" type=\"image/x-icon\" href=\"https://a2.muscache.com/airbnb/static/logotype_favicon-8ddd5c4b2544bd415bd76df2bfb291ea.ico\">\\n    <script>\\n  (function(i,s,o,g,r,a,m){i[\\'GoogleAnalyticsObject\\']=r;i[r]=i[r]||function(){\\n  (i[r].q=i[r].q||[]).push(arguments)},i[r].l=1*new Date();a=s.createElement(o),\\n  m=s.getElementsByTagName(o)[0];a.async=1;a.src=g;m.parentNode.insertBefore(a,m)\\n  })(window,document,\\'script\\',\\'//www.google-analytics.com/analytics.js\\',\\'ga\\');\\n\\n  ga(\\'create\\', \\'UA-2725447-1\\', \\'auto\\');\\n  ga(\\'require\\', \\'displayfeatures\\');\\n  ga(\\'send\\', \\'pageview\\');\\n</script>\\n\\n  </head>\\n  <body class=\"\">\\n    <noscript><iframe src=\"//www.googletagmanager.com/ns.html?id=GTM-46MK\"\\nheight=\"0\" width=\"0\" style=\"display:none;visibility:hidden\"></iframe></noscript>\\n<script>(function(w,d,s,l,i){w[l]=w[l]||[];w[l].push({\\'gtm.start\\':\\nnew Date().getTime(),event:\\'gtm.js\\'});var f=d.getElementsByTagName(s)[0],\\nj=d.createElement(s),dl=l!=\\'dataLayer\\'?\\'&l=\\'+l:\\'\\';j.async=true;j.src=\\n\\'//www.googletagmanager.com/gtm.js?id=\\'+i+dl;f.parentNode.insertBefore(j,f);\\n})(window,document,\\'script\\',\\'dataLayer\\',\\'GTM-46MK\\');</script>\\n\\n\\n\\n    <div id=\"header\" class=\"navbar navbar-top\">\\n  <div class=\"page-container-full airbnb-header clearfix\">\\n    <a href=\"/\" class=\"header-belo pull-left\"></a>\\n    <ul class=\"nav pull-left hide-phone\" id=\"search-form-header\">\\n      <li id=\"header-search\">\\n       <form action=\"/s\" id=\"search-form\" class=\"search-form\">\\n         <div class=\"search-bar\">\\n           <i class=\"icon icon-search icon-gray h4\"></i>\\n           <input type=\"text\" placeholder=\"Where are you going?\" autocomplete=\"off\" name=\"location\" id=\"header-location\" class=\"location\">\\n           <input type=\"hidden\" name=\"source\" value=\"hdr\">\\n         </div>\\n         <div id=\"header-search-settings\">\\n           <label class=\"checkin\">Check in <input type=\"text\" id=\"header-search-checkin\" name=\"checkin\" class=\"checkin\" placeholder=\"mm/dd/yyyy\"/></label>\\n           <label class=\"checkout\">Check out <input type=\"text\" id=\"header-search-checkout\" class=\"checkout\" name=\"checkout\" placeholder=\"mm/dd/yyyy\"/></label>\\n           <label class=\"guests\">Guests\\n             <div class=\"select select-block\">\\n               <select id=\"header-search-guests\" name=\"guests\">\\n                 <option value=\"1\">1</option><option value=\"2\">2</option><option value=\"3\">3</option><option value=\"4\">4</option><option value=\"5\">5</option><option value=\"6\">6</option><option value=\"7\">7</option><option value=\"8\">8</option><option value=\"9\">9</option><option value=\"10\">10</option><option value=\"11\">11</option><option value=\"12\">12</option><option value=\"13\">13</option><option value=\"14\">14</option><option value=\"15\">15</option><option value=\"16\">16</option>\\n               </select>\\n             </div>\\n           </label>\\n           <label>Room type</label>\\n           <label class=\"checkbox\" for=\"room_type_0\"><input type=\"checkbox\" id=\"room_type_0\" name=\"room_types[]\" value=\"Entire home/apt\"/> Entire home/apt</label>\\n           <label class=\"checkbox\" for=\"room_type_1\"><input type=\"checkbox\" id=\"room_type_1\" name=\"room_types[]\" value=\"Private room\"/> Private room</label>\\n           <label class=\"checkbox\" for=\"room_type_2\"><input type=\"checkbox\" id=\"room_type_2\" name=\"room_types[]\" value=\"Shared room\"/> Shared room</label>\\n           <button type=\"submit\" class=\"btn btn-primary btn-block\">\\n             <i class=\"icon icon-search\"></i>\\n             Find a place\\n           </button>\\n         </div>\\n       </form>\\n      </li>\\n      <li class=\"dropdown item_explore\">\\n        <a class=\"dropdown-toggle link-reset\" href=\"javascript:void(0)\">\\n          Browse\\n          <i class=\"icon icon-caret-down icon-light-gray\"></i>\\n          <i class=\"icon icon-caret-up icon-light-gray hide\"></i>\\n        </a>\\n        <ul class=\"dropdown-menu dropdown-bordered\">\\n          <li><a href=\"/wishlists/popular\">Popular</a></li>\\n          <li><a href=\"/wishlists/friends\">Friends</a></li>\\n          <li><a href=\"/locations\">Neighborhoods</a></li>\\n          <li class=\"groups\"><a href=\"/groups\">Groups</a></li>\\n        </ul>\\n      </li>\\n    </ul>\\n\\n    <ul class=\"nav pull-right help-menu hide-phone\" style=\"margin-left:0;\">\\n      <li class=\"dropdown\" data-dropdown-sticky=\"true\">\\n        <a id=\"help_dropdown\" class=\"dropdown-toggle help-toggle link-reset\" href=\"javascript:void(0)\">\\n          Help\\n          <i class=\"icon icon-caret-down icon-light-gray\"></i>\\n          <i class=\"icon icon-caret-up icon-light-gray hide\"></i>\\n        </a>\\n        <div class=\"dropdown-menu help-dropdown dropdown-bordered\">\\n          <div class=\"nav-header\">\\n            <a href=\"/help?ref=help-dropdown\" class=\"help-center-link\">Visit the Help Center &#187;</a>\\n          </div>\\n          <ul class=\"list-unstyled\">\\n            <li class=\"loading\"></li>\\n            <li class=\"hidden\">\\n              <a href=\"/safety?ref=help-dropdown\" class=\"\">Visit our Trust & Safety Center</a>\\n            </li>\\n            <li class=\"all_faqs hidden\">\\n              <a href=\"/help/topic/hosting?ref=help-dropdown\">See all FAQs</a>\\n            </li>\\n          </ul>\\n        </div>\\n      </li>\\n      <li class=\"list-your-space hide-phone\">\\n        <a id=\"list-your-space\" class=\"btn btn-special\" href=\"/rooms/new\">List Your Space</a>\\n      </li>\\n    </ul>\\n\\n    <ul class=\"nav pull-right logged-out\">\\n      <li id=\"sign_up\"><a data-signup-modal href=\"https://www.airbnb.com/signup_login?redirect_params[action]=show&amp;redirect_params[controller]=users&amp;redirect_params[id]=100900\" class=\"link-reset\">Sign Up</a></li>\\n      <li id=\"login\"><a data-login-modal href=\"https://www.airbnb.com/login?redirect_params[action]=show&amp;redirect_params[controller]=users&amp;redirect_params[id]=100900\" class=\"link-reset\">Log In</a></li>\\n    </ul>\\n\\n    <ul class=\"nav pull-right logged-in\">\\n      <li class=\"dropdown user-item\">\\n        <a class=\"dropdown-toggle link-reset\" href=\"javascript:void(0)\">\\n          <div class=\"media-photo media-round user-profile-image\"></div>\\n          <span class=\"hide-phone value_name\">User</span>\\n          <i class=\"icon icon-caret-down icon-light-gray\"></i>\\n          <i class=\"icon icon-caret-up icon-light-gray hide\"></i>\\n        </a>\\n        <ul class=\"dropdown-menu dropdown-bordered header-dropdown\">\\n          <li><a href=\"/home/dashboard\">Dashboard</a></li>\\n          <li class=\"listings\">\\n            <a href=\"/rooms\">\\n              <span class=\"singular\" style=\"display: none;\">Your Listing</span>\\n              <span class=\"plural\">Your Listings</span>\\n            </a>\\n          </li>\\n          <li class=\"reservations\" style=\"display: none;\">\\n            <a href=\"/my_listings\">Your Reservations</a>\\n          </li>\\n          <li><a href=\"/trips/upcoming\">Your Trips</a></li>\\n          <li><a href=\"/wishlists/my\" id=\"wishlists\">Wish Lists</a></li>\\n          <li class=\"groups\">\\n            <a href=\"/groups\">Groups</a>\\n          </li>\\n          <li>\\n            <a href=\"/invite?r=3\">\\n              Give Travel Credit\\n              <span class=\"label label-pink label-new\">New</span>\\n            </a>\\n          </li>\\n          <li><a href=\"/users/edit\">Edit Profile</a></li>\\n          <li><a href=\"/account\">Account</a></li>\\n          <li><a href=\"/logout\" id=\"header-logout\">Log Out</a></li>\\n        </ul>\\n      </li>\\n      <li id=\"inbox-item\">\\n        <a href=\"/inbox\" class=\"link-reset inbox-icon\">\\n          <i class=\"alert-count position-super fade\">0</i>\\n          <i class=\"icon icon-envelope icon-gray\">\\n            <span class=\"text-hide hide\">Inbox</span>\\n          </i>\\n        </a>\\n      </li>\\n    </ul>\\n  </div>\\n</div>\\n\\n\\n    <script src=\"https://a1.muscache.com/airbnb/static/header_cookie-938ab882c4ca8b513c84a403f4e6f049.js\" type=\"text/javascript\"></script>\\n\\n    <script>new HeaderPreload();</script>\\n\\n      <div class=\\'span12 flash-container\\'>\\n      </div>\\n\\n    \\n\\n\\n\\n<div id=\"recommendation_container\" class=\"clearfix container\">\\n</div>\\n\\n\\n\\n<div class=\"page-container row-space-top-4 row-space-8\">\\n  <div class=\"row\">\\n    <div class=\"col-3\">\\n      <div id=\"user\" class=\"row-space-4 \">\\n        <div>\\n          <div class=\"row-space-2\" id=\"user-media-container\">\\n            <div id=\"slideshow\" class=\"slideshow\">\\n              <div class=\"slideshow-preload\"></div>\\n              <ul class=\"slideshow-images\">\\n                <li class=\"active media-photo media-photo-block\">\\n                  <img alt=\"Matthew\" class=\"img-responsive\" height=\"225\" src=\"https://a2.muscache.com/ic/users/100900/profile_pic/1319163349/original.jpg?interpolation=lanczos-none&amp;crop=w:w;*,*&amp;crop=h:h;*,*&amp;resize=225:*&amp;output-format=jpg&amp;output-quality=70\" title=\"Matthew\" width=\"225\" />\\n                </li>\\n                <li class=\"media-photo media-photo-block\"></li>\\n              </ul>\\n                <ul class=\"slideshow-thumbnails text-center\">\\n                  <li>\\n                    <a href=\"https://a2.muscache.com/ic/users/100900/profile_pic/1319163349/original.jpg?interpolation=lanczos-none&amp;crop=w:w;*,*&amp;crop=h:h;*,*&amp;resize=225:*&amp;output-format=jpg&amp;output-quality=70\"\\n                       class=\"dot dot-ebisu dot-new link-reset\">&nbsp;</a>\\n                  </li>\\n                  <li>\\n                    <a href=\"https://a2.muscache.com/ic/users/100900/profile_pic/1310787348/original.jpg?interpolation=lanczos-none&amp;crop=w:w;*,*&amp;crop=h:h;*,*&amp;resize=225:*&amp;output-format=jpg&amp;output-quality=70\"\\n                       class=\"dot  link-reset\">&nbsp;</a>\\n                  </li>\\n                </ul>\\n                <i class=\"icon icon-chevron-left icon-size-2 icon-light-gray slideshow-cursor slideshow-cursor-prev\" data-slideshow-prev=\"true\"></i>\\n                <i class=\"icon icon-chevron-right icon-size-2 icon-light-gray slideshow-cursor slideshow-cursor-next\" data-slideshow-next=\"true\"></i>\\n            </div>\\n          </div>\\n        </div>\\n      </div>\\n\\n      <div class=\"panel verifications row-space-4\">\\n        <div class=\"panel-header\">\\n          Verifications\\n        </div>\\n        <div class=\"panel-body\">\\n          <ul class=\"list-unstyled\">\\n    <li class=\"row row-condensed \">\\n      <div class=\"col-2\">\\n        <i class=\"icon icon-ok icon-pink icon-lima h3\"></i>\\n      </div>\\n      <div class=\"col-10\">\\n        <div>\\n          Email Address\\n        </div>\\n        <div class=\"text-muted\">\\n          Verified\\n        </div>\\n      </div>\\n    </li>\\n    <li class=\"row row-condensed row-space-top-2\">\\n      <div class=\"col-2\">\\n        <i class=\"icon icon-ok icon-pink icon-lima h3\"></i>\\n      </div>\\n      <div class=\"col-10\">\\n        <div>\\n          Phone Number\\n        </div>\\n        <div class=\"text-muted\">\\n                  (&blk12;&blk12;&blk12;)\\n        &blk12;&blk12;&blk12;-\\n        &blk12;&blk12;\\n03\\n        </div>\\n      </div>\\n    </li>\\n    <li class=\"row row-condensed row-space-top-2\">\\n      <div class=\"col-2\">\\n        <i class=\"icon icon-ok icon-pink icon-lima h3\"></i>\\n      </div>\\n      <div class=\"col-10\">\\n        <div>\\n          Facebook\\n        </div>\\n        <div class=\"text-muted\">\\n          1091 Friends\\n        </div>\\n      </div>\\n    </li>\\n    <li class=\"row row-condensed row-space-top-2\">\\n      <div class=\"col-2\">\\n        <i class=\"icon icon-ok icon-pink icon-lima h3\"></i>\\n      </div>\\n      <div class=\"col-10\">\\n        <div>\\n          Reviewed\\n        </div>\\n        <div class=\"text-muted\">\\n          6 Reviews\\n        </div>\\n      </div>\\n    </li>\\n</ul>\\n\\n        </div>\\n      </div>\\n\\n      <div class=\"panel row-space-4\">\\n        <div class=\"panel-header\">\\n          About Me\\n        </div>\\n        <div class=\"panel-body\">\\n          <dl>\\n              <dt>School</dt>\\n              <dd>Carnegie Mellon University, University of British Columbia</dd>\\n              <dt>Work</dt>\\n              <dd>Software developer</dd>\\n            <dt>Languages</dt>\\n            <dd>English</dd>\\n\\n            <dt class=\"airbnb-symbol-hidden hide row-space-1\">Matthew\\'s Airbnb Symbol</dt>\\n            <dd class=\"airbnb-symbol-hidden hide\">\\n              \\n<div class=\"user-profile-symbol loading\" data-user-id=\"100900\">\\n  <img  src=\"https://a1.muscache.com/airbnb/static/profile/symbol-empty-state-9957db13ac16747def3d6d7bc119106f.png\"\\n        data-default-url=\"https://a1.muscache.com/airbnb/static/profile/symbol-empty-state-9957db13ac16747def3d6d7bc119106f.png\"\\n        data-base-url=\\'https://create.airbnb.com/\\'\\n        data-src-url=\\'https://create.airbnb.com/100900/symbol\\'\\n        alt=\"Matthew\" class=\"img-responsive\" />\\n\\n  <form class=\"remove-user-profile-symbol hide\" action=\\'https://create.airbnb.com/100900/symbol/delete\\' method=\"GET\">\\n    <button class=\"btn btn-small\">Remove</button>\\n  </form>\\n</div>\\n\\n              <p><a href=\"#\" class=\"airbnb-symbol-link\" target=\"_blank\">Visit create.airbnb.com</a> &raquo;</p>\\n            </dd>\\n          </dl>\\n        </div>\\n      </div>\\n    </div>\\n\\n    <div class=\"col-9\">\\n      <div class=\"row-space-4 row-space-top-4\">\\n        <span class=\"h1\">\\n          Hey, I\\'m Matthew!\\n        </span>\\n        <div class=\"flag_controls hide\">\\n          \\n    <a href=\"#\" id=\"flag-for-user-100900\" class=\"flag-trigger link-reset\" data-behavior=\\'tooltip\\' title=\\'Report this user\\'>\\n      <i class=\"icon icon-flag h3\"></i>\\n    </a>\\n<div class=\"modal flag-modal\" role=\"dialog\" data-trigger=\"#flag-for-user-100900\" aria-hidden=\"true\">\\n  <div class=\"modal-table\">\\n    <div class=\"modal-cell\">\\n      <div class=\"modal-content\">\\n        <form accept-charset=\"UTF-8\" action=\"/user_flags\" class=\"new_user_flag\" id=\"new_user_flag\" method=\"post\"><div style=\"margin:0;padding:0;display:inline\"><input name=\"utf8\" type=\"hidden\" value=\"&#x2713;\" /><input name=\"authenticity_token\" type=\"hidden\" value=\"V4$.airbnb.com$qlNvRiKzF8c$Amw09fB4p4_lrxt7tRQmtiGEB2HXR3q6yf6d8qiIEUM=\" /></div>\\n        <div class=\"panel-header main-header\">\\n          <a href=\"#\" class=\"modal-close\" data-behavior=\"modal-close\"></a>\\n          Do you want to anonymously report this user?\\n        </div>\\n        <div class=\"panel-header thanks-header hide\">\\n          Thank You!\\n        </div>\\n        <div class=\"panel-body flag-form\">\\n            If so, please choose one of the following reasons and\\n                                    our dedicated Trust and Safety team will look into it.<br/><br/>\\n            <ul class=\"list-unstyled\">\\n                <li class=\"row-space-2\">\\n                  <a href=\"#\" class=\"flag-reasons btn btn-large btn-block\\n                                         \" data-reason-id=\"This profile shouldn&#x27;t be on Airbnb\">This profile shouldn\\'t be on Airbnb <i class=\\'icon icon-question flag-question h5\\' data-behavior=\\'tooltip\\'\\n                                       data-position=\\'right\\' title=\\'This profile may belong to a scammer, criminal offender, or exist for other\\n                        malicious purposes.\\'></i></a>\\n                </li>\\n                <li class=\"row-space-2\">\\n                  <a href=\"#\" class=\"flag-reasons btn btn-large btn-block\\n                                         \" data-reason-id=\"Attempt to share contact information\">Attempt to share contact information <i class=\\'icon icon-question flag-question h5\\' data-behavior=\\'tooltip\\'\\n                                       data-position=\\'right\\' title=\\'There is an email address, phone number, or website address hidden in this\\n                      profile.\\'></i></a>\\n                </li>\\n                <li class=\"row-space-2\">\\n                  <a href=\"#\" class=\"flag-reasons btn btn-large btn-block\\n                                         \" data-reason-id=\"Inappropriate content or spam\">Inappropriate content or spam <i class=\\'icon icon-question flag-question h5\\' data-behavior=\\'tooltip\\'\\n                                       data-position=\\'right\\' title=\\'The profile photos or description contain violent, graphic, promotional,\\n                            or otherwise offensive content.\\'></i></a>\\n                </li>\\n                <li class=\"row-space-2 other\">\\n                  <a href=\"#\" class=\"flag-reasons btn btn-large btn-block\\n                                         row-space-2\" data-reason-id=\"Other\">Other <i class=\\'icon icon-question flag-question h5\\' data-behavior=\\'tooltip\\'\\n                                       data-position=\\'right\\' title=\\'None of the above reasons apply.\\'></i></a>\\n                    <div class=\"other-container hide\">\\n                      <textarea class=\"row-space-2\" cols=\"40\" id=\"user_flag_other_note\" name=\"user_flag[other_note]\" placeholder=\"Please describe a reason\" required=\"required\" rows=\"3\"></textarea>\\n                    </div>\\n                </li>\\n            </ul>\\n            <input id=\"user_flag_flaggable_type\" name=\"user_flag[flaggable_type]\" type=\"hidden\" value=\"user\" />\\n            <input id=\"user_flag_flaggable_id\" name=\"user_flag[flaggable_id]\" type=\"hidden\" value=\"100900\" />\\n            <input id=\"user_flag_name\" name=\"user_flag[name]\" type=\"hidden\" />\\n            <input id=\"user_flag_id\" name=\"user_flag[id]\" type=\"hidden\" />\\n        </div>\\n            <div class=\"panel-body flag-thank-you hide\">\\n                <p>\\n                  Thanks for taking the time to report this user.\\n                  Your participation helps keep Airbnb a safe and trusted\\n                        community, and it doesn\\'t go unnoticed!\\n                </p>\\n                <a href=\"#\" class=\"btn btn-small btn-block\">Close</a>\\n            </div>\\n        <div class=\"panel-footer hide\">\\n          <input class=\"btn btn-primary btn-large\" id=\"user_flag_submit\" name=\"commit\" type=\"submit\" value=\"Submit\" />\\n        </div>\\n</form>      </div>\\n    </div>\\n  </div>\\n</div>\\n\\n        </div>\\n        <div class=\"h5 row-space-top-2\">\\n          San Francisco, California, United States\\n        &middot;\\n          <span class=\"text-normal\">\\n            Member since March 2010\\n          </span>\\n        </div>\\n            <div class=\"already-flagged text-muted row-space-top-2 hide\">\\n  You have reported this user.\\n      <a href=\\'#\\' class=\\'undo_flag\\'>\\n        Undo?\\n      </a>\\n</div>\\n\\n        <div class=\"edit_profile_container row-space-3\">\\n        </div>\\n        <div class=\"row-space-top-2\">\\n          <p>For the last 8 years I was a grad student. I\\'ve been an American living in Canada. I just completed my PhD in computer science, and neither of those are the case anymore. I\\'m on the move, exploring a number of places before eventually moving to Spain for a job in computer graphics research. These days I do iPhone development. I\\'m a fan of cooking, photography, travel and martial arts.</p>\\n        </div>\\n      </div>\\n\\n        <div class=\"row-space-6 row-space-top-6 row row-condensed\">\\n      <div class=\"col-3\">\\n        <a class=\"link-reset\"\\n   href=\"/users/show/100900#reviews\">\\n\\n  <div class=\"text-center text-wrap\"\\n       >\\n\\n      \\n      <div class=\"badge-pill h3\">\\n        <span class=\"badge-pill-count\">6</span>\\n      </div>\\n    <div class=\"row-space-top-1\">Reviews</div>\\n  </div>\\n</a>\\n\\n      </div>\\n\\n    <div role=\"tooltip\"\\n     aria-hidden=\"true\"\\n     data-trigger=\"#verified-id-icon\"\\n     data-sticky=\"true\"\\n     class=\"tooltip tooltip-bottom-middle tooltip-panel-light tooltip-panel-collapse fade\"\\n     id=\"verifications-tooltip\">\\n  <div class=\"panel-header panel-header-gray\">\\n    Verifications\\n  </div>\\n  <div class=\"panel-padding panel-body\">\\n    <p>\\n    Matthew has completed online and offline ID verification.\\n    </p>\\n    <p>\\n      <a href=\"/help/article/450\">\\n        Learn more &raquo;\\n      </a>\\n    </p>\\n  </div>\\n</div>\\n\\n  </div>\\n\\n\\n      <div class=\"social_connections_and_reviews\">\\n        <div class=\"row-space-6\">\\n          <h2 class=\"row-space-3\">\\n            Wish Lists\\n            <small>(1)</small>\\n          </h2>\\n          <div class=\"row\">\\n              <div class=\"col-3\">\\n                <a href=\"/wishlists/5549226\" class=\"media-photo media-photo-block\">\\n                  <img alt=\"Medium\" class=\"img-responsive\" height=\"100\" src=\"https://a0.muscache.com/pictures/20081616/medium.jpg\" width=\"150\" />\\n                  <div class=\"media-caption\">\\n                    <div>\\n                      Vacation Places\\n                    </div>\\n                    <div class=\"text-normal\">\\n                      2 Listings\\n                    </div>\\n                  </div>\\n</a>              </div>\\n          </div>\\n          <div class=\"row-space-top-2\">\\n          </div>\\n        </div>\\n\\n        <div class=\"reviews row-space-4\" id=\"reviews\">\\n          <h2>\\n            Reviews\\n            <small>(6)</small>\\n          </h2>\\n          <div>\\n            <div class=\"reviews_section as_guest row-space-top-3\">\\n              <h4 class=\"row-space-4\">\\n                Reviews From Hosts\\n              </h4>\\n              <div class=\"reviews\">\\n                \\n  <div class=\"row\">\\n    <div class=\"col-2\">\\n      <div class=\"pull-right\">\\n        <a href=\"/users/show/1561605\" class=\"media-photo media-round row-space-1\"><img alt=\"Phillip\" class=\"lazy\" data-original=\"https://a2.muscache.com/ic/users/1561605/profile_pic/1334009435/original.jpg?interpolation=lanczos-none&amp;crop=w:w;*,*&amp;crop=h:h;*,*&amp;resize=68:*&amp;output-format=jpg&amp;output-quality=70\" height=\"68\" src=\"https://a0.muscache.com/defaults/user_pic-68x68.png?v=2\" title=\"Phillip\" width=\"68\" /></a>\\n          <div class=\"text-center profile-name\">\\n            <a href=\"/users/show/1561605\" class=\"text-muted\">Phillip</a>\\n          </div>\\n      </div>\\n    </div>\\n    <div class=\"col-10\">\\n      <div class=\"row-space-2\">\\n        <div class=\"comment-container  row-space-2\" %>\\n          <p>\\n            Super easy guest and very nice gentleman. The apt was left as clean as when he checked in. \\n          </p>\\n        </div>\\n        <div class=\"text-muted date\">November 2013</div>\\n      </div>\\n\\n    </div>\\n  </div>\\n\\n  <div class=\"row row-space-2 line-separation\">\\n    <div class=\"col-10 col-offset-2\">\\n      <hr>\\n    </div>\\n  </div>\\n\\n  <div class=\"row\">\\n    <div class=\"col-2\">\\n      <div class=\"pull-right\">\\n        <a href=\"/users/show/41932\" class=\"media-photo media-round row-space-1\"><img alt=\"Lane\" class=\"lazy\" data-original=\"https://a2.muscache.com/ic/users/41932/profile_pic/1267127993/original.jpg?interpolation=lanczos-none&amp;crop=w:w;*,*&amp;crop=h:h;*,*&amp;resize=68:*&amp;output-format=jpg&amp;output-quality=70\" height=\"68\" src=\"https://a0.muscache.com/defaults/user_pic-68x68.png?v=2\" title=\"Lane\" width=\"68\" /></a>\\n          <div class=\"text-center profile-name\">\\n            <a href=\"/users/show/41932\" class=\"text-muted\">Lane</a>\\n          </div>\\n      </div>\\n    </div>\\n    <div class=\"col-10\">\\n      <div class=\"row-space-2\">\\n        <div class=\"comment-container  row-space-2\" %>\\n          <p>\\n            No problems. Easy hosting experience.\\n          </p>\\n        </div>\\n        <div class=\"text-muted date\">September 2012</div>\\n      </div>\\n\\n    </div>\\n  </div>\\n\\n  <div class=\"row row-space-2 line-separation\">\\n    <div class=\"col-10 col-offset-2\">\\n      <hr>\\n    </div>\\n  </div>\\n\\n  <div class=\"row\">\\n    <div class=\"col-2\">\\n      <div class=\"pull-right\">\\n        <a href=\"/users/show/175522\" class=\"media-photo media-round row-space-1\"><img alt=\"Donna\" class=\"lazy\" data-original=\"https://a1.muscache.com/ic/users/175522/profile_pic/1292122121/original.jpg?interpolation=lanczos-none&amp;crop=w:w;*,*&amp;crop=h:h;*,*&amp;resize=68:*&amp;output-format=jpg&amp;output-quality=70\" height=\"68\" src=\"https://a0.muscache.com/defaults/user_pic-68x68.png?v=2\" title=\"Donna\" width=\"68\" /></a>\\n          <div class=\"text-center profile-name\">\\n            <a href=\"/users/show/175522\" class=\"text-muted\">Donna</a>\\n          </div>\\n      </div>\\n    </div>\\n    <div class=\"col-10\">\\n      <div class=\"row-space-2\">\\n        <div class=\"comment-container  row-space-2\" %>\\n          <p>\\n            Matthew was a great guest! Friendly and considerate.\\n          </p>\\n        </div>\\n        <div class=\"text-muted date\">January 2012</div>\\n      </div>\\n\\n    </div>\\n  </div>\\n\\n  <div class=\"row row-space-2 line-separation\">\\n    <div class=\"col-10 col-offset-2\">\\n      <hr>\\n    </div>\\n  </div>\\n\\n  <div class=\"row\">\\n    <div class=\"col-2\">\\n      <div class=\"pull-right\">\\n        <a href=\"/users/show/212740\" class=\"media-photo media-round row-space-1\"><img alt=\"Shalini\" class=\"lazy\" data-original=\"https://a2.muscache.com/ic/users/212740/profile_pic/1282760781/original.jpg?interpolation=lanczos-none&amp;crop=w:w;*,*&amp;crop=h:h;*,*&amp;resize=68:*&amp;output-format=jpg&amp;output-quality=70\" height=\"68\" src=\"https://a0.muscache.com/defaults/user_pic-68x68.png?v=2\" title=\"Shalini\" width=\"68\" /></a>\\n          <div class=\"text-center profile-name\">\\n            <a href=\"/users/show/212740\" class=\"text-muted\">Shalini</a>\\n          </div>\\n      </div>\\n    </div>\\n    <div class=\"col-10\">\\n      <div class=\"row-space-2\">\\n        <div class=\"comment-container  row-space-2\" %>\\n          <p>\\n            Matt&#x27;s a sweet, smart guy from our brief conversation with him. He left the place really clean.\\n          </p>\\n        </div>\\n        <div class=\"text-muted date\">December 2011</div>\\n      </div>\\n\\n    </div>\\n  </div>\\n\\n  <div class=\"row row-space-2 line-separation\">\\n    <div class=\"col-10 col-offset-2\">\\n      <hr>\\n    </div>\\n  </div>\\n\\n  <div class=\"row\">\\n    <div class=\"col-2\">\\n      <div class=\"pull-right\">\\n        <a href=\"/users/show/934641\" class=\"media-photo media-round row-space-1\"><img alt=\"Nick\" class=\"lazy\" data-original=\"https://a0.muscache.com/ic/users/934641/profile_pic/1350913492/original.jpg?interpolation=lanczos-none&amp;crop=w:w;*,*&amp;crop=h:h;*,*&amp;resize=68:*&amp;output-format=jpg&amp;output-quality=70\" height=\"68\" src=\"https://a0.muscache.com/defaults/user_pic-68x68.png?v=2\" title=\"Nick\" width=\"68\" /></a>\\n          <div class=\"text-center profile-name\">\\n            <a href=\"/users/show/934641\" class=\"text-muted\">Nick</a>\\n          </div>\\n      </div>\\n    </div>\\n    <div class=\"col-10\">\\n      <div class=\"row-space-2\">\\n        <div class=\"comment-container  row-space-2\" %>\\n          <p>\\n            Matthew was a great guest. Kind and respectful, he was very easy to get in touch with and had a very easygoing vibe about him. He left the place in get condition and was very flexible with his schedule on any things regarding the apartment. I would gladly host him again if he&#x27;s ever in town and I&#x27;d recommend him for anywhere else he goes in the future.\\n          </p>\\n        </div>\\n        <div class=\"text-muted date\">December 2011</div>\\n      </div>\\n\\n    </div>\\n  </div>\\n\\n  <div class=\"row row-space-2 line-separation\">\\n    <div class=\"col-10 col-offset-2\">\\n      <hr>\\n    </div>\\n  </div>\\n\\n  <div class=\"row\">\\n    <div class=\"col-2\">\\n      <div class=\"pull-right\">\\n        <a href=\"/users/show/367871\" class=\"media-photo media-round row-space-1\"><img alt=\"Laura\" class=\"lazy\" data-original=\"https://a0.muscache.com/ic/users/367871/profile_pic/1296353708/original.jpg?interpolation=lanczos-none&amp;crop=w:w;*,*&amp;crop=h:h;*,*&amp;resize=68:*&amp;output-format=jpg&amp;output-quality=70\" height=\"68\" src=\"https://a0.muscache.com/defaults/user_pic-68x68.png?v=2\" title=\"Laura\" width=\"68\" /></a>\\n          <div class=\"text-center profile-name\">\\n            <a href=\"/users/show/367871\" class=\"text-muted\">Laura</a>\\n          </div>\\n      </div>\\n    </div>\\n    <div class=\"col-10\">\\n      <div class=\"row-space-2\">\\n        <div class=\"comment-container  row-space-2\" %>\\n          <p>\\n            Matt was a great guest! All the best!\\n          </p>\\n        </div>\\n        <div class=\"text-muted date\">July 2011</div>\\n      </div>\\n\\n    </div>\\n  </div>\\n\\n  <div class=\"row row-space-2 line-separation\">\\n    <div class=\"col-10 col-offset-2\">\\n      <hr>\\n    </div>\\n  </div>\\n\\n              </div>\\n            </div>\\n          </div>\\n        </div>\\n\\n      </div>\\n    </div>\\n  </div>\\n</div>\\n\\n\\n\\n<div id=\"staged-photos\"></div>\\n\\n\\n      <div id=\"footer\" class=\"container-brand-dark footer-surround footer-container\">\\n        <div class=\"footer-content-container container page-container page-container-responsive\">\\n  <div class=\"row row-condensed\">\\n    <div class=\"span3 col-3\">\\n      <div class=\"row row-condensed\">\\n        <div class=\"span9 col-9\">\\n          <div class=\"language-curr-picker clearfix\">\\n            <div class=\"language-picker\"></div>\\n              <div class=\"currency-picker\"></div>\\n          </div>\\n        </div>\\n      </div>\\n    </div>\\n\\n    <div class=\"span3 col-3 hide-phone\">\\n      <h5>Company</h5>\\n      <ul class=\"unstyled list-layout\">\\n        <li><a href=\"/about/about-us\" class=\"link-contrast\">About</a></li>\\n        <li><a href=\"/jobs\" class=\"link-contrast\">Jobs</a></li>\\n        <li><a href=\"/press/news\" class=\"link-contrast\">Press</a></li>\\n        <li><a href=\"http://blog.airbnb.com\" class=\"link-contrast\">Blog</a></li>\\n        <li><a href=\"/help\" class=\"link-contrast\">Help</a></li>\\n        <li><a href=\"/policies\" class=\"link-contrast\">Policies</a></li>\\n        <li><a href=\"/disaster-response\" class=\"link-contrast\">Disaster Response</a></li>\\n        <li><a href=\"/terms\" class=\"link-contrast\">Terms & Privacy</a></li>\\n      </ul>\\n    </div>\\n\\n    <div class=\"span3 col-3 hide-phone\">\\n      <h5>Discover</h5>\\n      <ul class=\"unstyled list-layout\">\\n        <li><a href=\"/trust\" class=\"link-contrast\">Trust & Safety</a></li>\\n        <li><a href=\"/invite?r=6\" class=\"link-contrast\">Give Travel Credit</a></li>\\n        <li><a href=\"/wishlists/airbnb_picks\" class=\"link-contrast\">Airbnb Picks</a></li>\\n        <li><a href=\"/mobile\" class=\"link-contrast\">Mobile</a></li>\\n        <li><a href=\"https://www.airbnbnyc.com\" class=\"link-contrast\">Support NYC</a></li>\\n        <li><a href=\"/business-travel\" class=\"link-contrast\">Business Travel</a></li>\\n        <li><a href=\"/sitemaps\" class=\"link-contrast\">Site Map</a></li>\\n      </ul>\\n    </div>\\n\\n    <div class=\"span3 col-3 hide-phone\">\\n      <h5>Hosting</h5>\\n      <ul class=\"unstyled list-layout\">\\n        <li><a href=\"/info/why_host\" class=\"link-contrast\">Why Host</a></li>\\n        <li><a href=\"/hospitality\" class=\"link-contrast\">Hospitality</a></li>\\n        <li><a href=\"/help/responsible-hosting\" class=\"link-contrast\">Responsible Hosting</a></li>\\n        <li><a href=\"/stories\" class=\"link-contrast\">Stories</a></li>\\n      </ul>\\n    </div>\\n  </div>\\n\\n  <hr class=\"footer-divider row-space-top-8 row-space-4 hide-phone\">\\n\\n  <div class=\"social-media text-center\">\\n    <h5 class=\"row-space-4 hide-phone\">Join Us On</h5>\\n    <ul class=\"unstyled list-layout list-inline\">\\n        <li>\\n          <a href=\"//www.facebook.com/airbnb\" class=\"link-contrast footer-icon-container\" target=\"_blank\">\\n            <i class=\\'icon footer-icon icon-facebook\\'></i>\\n</a>        </li>\\n        <li>\\n          <a href=\"https://plus.google.com/+airbnb\" class=\"link-contrast footer-icon-container\" target=\"_blank\">\\n            <i class=\\'icon footer-icon icon-google-plus\\'></i>\\n</a>        </li>\\n\\n        <li>\\n          <a href=\"//twitter.com/airbnb\" class=\"link-contrast footer-icon-container\" target=\"_blank\">\\n            <i class=\\'icon footer-icon icon-twitter\\'></i>\\n</a>        </li>\\n\\n      <li>\\n        <a href=\"http://www.linkedin.com/company/airbnb\" class=\"link-contrast footer-icon-container\" target=\"_blank\">\\n          <i class=\\'icon footer-icon icon-linkedin\\'></i>\\n</a>      </li>\\n\\n        <li>\\n          <a href=\"http://www.pinterest.com/airbnb/\" class=\"link-contrast footer-icon-container\" target=\"_blank\">\\n            <i class=\\'icon footer-icon icon-pinterest\\'></i>\\n</a>        </li>\\n        <li>\\n          <a href=\"http://www.youtube.com/airbnb\" class=\"link-contrast footer-icon-container\" target=\"_blank\">\\n            <i class=\\'icon footer-icon icon-youtube\\'></i>\\n</a>        </li>\\n    </ul>\\n    <div id=\"copyright\" class=\"row-space-top-2 text-muted\">\\n      &copy; Airbnb, Inc.\\n    </div>\\n  </div>\\n</div>\\n\\n      </div>\\n\\n      <div id=\"fb-root\"></div>\\n\\n    <div id=\"gmap-preload\" class=\"hide\"></div>\\n    <!--[if lt IE 9]>\\n      <script src=\"https://a1.muscache.com/airbnb/static/libs_jquery_1x-e7a078a56c26a6fc7770dcf80673b06c.js\" type=\"text/javascript\"></script>\\n    <![endif]-->\\n    <!--[if gte IE 9]><!-->\\n      <script src=\"https://a1.muscache.com/airbnb/static/libs_jquery_2x-28730027aee01fc98ecee586a11190ba.js\" type=\"text/javascript\"></script>\\n    <!--<![endif]-->\\n    <script src=\"https://a0.muscache.com/airbnb/static/o2.1-02dff59e7e0e2770c64bb35dc8513589.js\" type=\"text/javascript\"></script>\\n    <script src=\"https://a0.muscache.com/airbnb/static/core-6ff71566a4f71817bc1e997ded9ca7a4.js\" type=\"text/javascript\"></script>\\n\\n    <script>\\n      if (Airbnb.Tracking) {\\n        Airbnb.Tracking.setBev();\\n      }\\n\\n      I18n.init(\\n        {\"country\":\"US\",\"currencies\":{\"ARS\":{\"symbol\":\"$\",\"code_required\":true,\"options\":null},\"AUD\":{\"symbol\":\"$\",\"code_required\":true,\"options\":null},\"BRL\":{\"symbol\":\"R$\",\"code_required\":false,\"options\":{\"space_between_price_and_symbol\":true}},\"CAD\":{\"symbol\":\"$\",\"code_required\":true,\"options\":null},\"CHF\":{\"symbol\":\"CHF\",\"code_required\":false,\"options\":{\"position\":\"after\",\"space_between_price_and_symbol\":true}},\"CNY\":{\"symbol\":\"&yen;\",\"code_required\":false,\"options\":{\"unicode_symbol\":\"\\xa5\"}},\"CZK\":{\"symbol\":\"&#75;&#269;\",\"code_required\":false,\"options\":{\"unicode_symbol\":\"K\\u010d\"}},\"DKK\":{\"symbol\":\"kr\",\"code_required\":true,\"options\":{\"position\":\"after\",\"space_between_price_and_symbol\":true,\"explicit_currency_not_aesthetic\":true}},\"EUR\":{\"symbol\":\"&euro;\",\"code_required\":false,\"options\":{\"unicode_symbol\":\"\\u20ac\",\"position\":\"special\"}},\"GBP\":{\"symbol\":\"&pound;\",\"code_required\":false,\"options\":{\"unicode_symbol\":\"\\xa3\"}},\"HKD\":{\"symbol\":\"$\",\"code_required\":true,\"options\":null},\"HUF\":{\"symbol\":\"Ft\",\"code_required\":false,\"options\":null},\"IDR\":{\"symbol\":\"Rp\",\"code_required\":false,\"options\":null},\"ILS\":{\"symbol\":\"&#8362;\",\"code_required\":false,\"options\":{\"unicode_symbol\":\"\\u20aa\",\"space_between_price_and_symbol\":true}},\"INR\":{\"symbol\":\"&#8377;\",\"code_required\":false,\"options\":{\"unicode_symbol\":\"\\u20b9\"}},\"JPY\":{\"symbol\":\"&yen;\",\"code_required\":false,\"options\":{\"unicode_symbol\":\"\\xa5\",\"space_between_price_and_symbol\":true}},\"KRW\":{\"symbol\":\"&#8361;\",\"code_required\":false,\"options\":{\"unicode_symbol\":\"\\u20a9\"}},\"MYR\":{\"symbol\":\"&#82;&#77;\",\"code_required\":false,\"options\":{\"unicode_symbol\":\"RM\"}},\"MXN\":{\"symbol\":\"$\",\"code_required\":true,\"options\":null},\"NOK\":{\"symbol\":\"kr\",\"code_required\":true,\"options\":{\"position\":\"after\",\"space_between_price_and_symbol\":true,\"explicit_currency_not_aesthetic\":true}},\"NZD\":{\"symbol\":\"$\",\"code_required\":true,\"options\":null},\"PHP\":{\"symbol\":\"&#8369;\",\"code_required\":false,\"options\":{\"unicode_symbol\":\"\\u20b1\"}},\"PLN\":{\"symbol\":\"z&#22;&#322;\",\"code_required\":false,\"options\":{\"unicode_symbol\":\"z\\u0142\",\"position\":\"after\",\"space_between_price_and_symbol\":true}},\"RUB\":{\"symbol\":\"&#1088;\",\"code_required\":false,\"options\":{\"unicode_symbol\":\"\\u0440\",\"position\":\"after\"}},\"SEK\":{\"symbol\":\"kr\",\"code_required\":true,\"options\":{\"position\":\"after\",\"space_between_price_and_symbol\":true,\"explicit_currency_not_aesthetic\":true}},\"SGD\":{\"symbol\":\"$\",\"code_required\":true,\"options\":null},\"THB\":{\"symbol\":\"&#3647;\",\"code_required\":false,\"options\":{\"unicode_symbol\":\"\\u0e3f\"}},\"TRY\":{\"symbol\":\"&#84;&#76;\",\"code_required\":false,\"options\":{\"unicode_symbol\":\"TL\",\"position\":\"after\",\"space_between_price_and_symbol\":true}},\"TWD\":{\"symbol\":\"$\",\"code_required\":true,\"options\":null},\"USD\":{\"symbol\":\"$\",\"code_required\":false,\"options\":null},\"VND\":{\"symbol\":\"&#8363;\",\"code_required\":false,\"options\":{\"unicode_symbol\":\"\\u20ab\"}},\"ZAR\":{\"symbol\":\"R\",\"code_required\":true,\"options\":null}},\"current_locale_name\":\"English\",\"languages\":[{\"locale_name\":\"Bahasa Indonesia\",\"locale\":\"id\"},{\"locale_name\":\"Bahasa Melayu\",\"locale\":\"ms\"},{\"locale_name\":\"Catal\\xe0\",\"locale\":\"ca\"},{\"locale_name\":\"Dansk\",\"locale\":\"da\"},{\"locale_name\":\"Deutsch\",\"locale\":\"de\"},{\"locale_name\":\"English\",\"locale\":\"en\"},{\"locale_name\":\"Espa\\xf1ol\",\"locale\":\"es\"},{\"locale_name\":\"E\\u03bb\\u03bb\\u03b7\\u03bd\\u03b9\\u03ba\\u03ac\",\"locale\":\"el\"},{\"locale_name\":\"Fran\\xe7ais\",\"locale\":\"fr\"},{\"locale_name\":\"Italiano\",\"locale\":\"it\"},{\"locale_name\":\"Magyar\",\"locale\":\"hu\"},{\"locale_name\":\"Nederlands\",\"locale\":\"nl\"},{\"locale_name\":\"Norsk\",\"locale\":\"no\"},{\"locale_name\":\"Polski\",\"locale\":\"pl\"},{\"locale_name\":\"Portugu\\xeas\",\"locale\":\"pt\"},{\"locale_name\":\"Suomi\",\"locale\":\"fi\"},{\"locale_name\":\"Svenska\",\"locale\":\"sv\"},{\"locale_name\":\"T\\xfcrk\\xe7e\",\"locale\":\"tr\"},{\"locale_name\":\"\\xcdslenska\",\"locale\":\"is\"},{\"locale_name\":\"\\u010ce\\u0161tina\",\"locale\":\"cs\"},{\"locale_name\":\"\\u0420\\u0443\\u0441\\u0441\\u043a\\u0438\\u0439\",\"locale\":\"ru\"},{\"locale_name\":\"\\u0e20\\u0e32\\u0e29\\u0e32\\u0e44\\u0e17\\u0e22\",\"locale\":\"th\"},{\"locale_name\":\"\\u4e2d\\u6587 (\\u7b80\\u4f53)\",\"locale\":\"zh\"},{\"locale_name\":\"\\u4e2d\\u6587 (\\u7e41\\u9ad4)\",\"locale\":\"zh-TW\"},{\"locale_name\":\"\\u65e5\\u672c\\u8a9e\",\"locale\":\"ja\"},{\"locale_name\":\"\\ud55c\\uad6d\\uc5b4\",\"locale\":\"ko\"}]}\\n      );\\n      I18n.extend({\"Password\":\"Password\",\"users.Confirm_Password_to_Continue\":\"Confirm Password to Continue\",\"users.Confirm_Password\":\"Confirm Password\",\"users.Cancel\":\"Cancel\",\"users.Please_enter_your_Airbnb_password_to_continue.\":\"For your security, please enter your Airbnb password to continue.\",\"user.signup.forgot_password\":\"Forgot password?\",\"users.Confirm_Facebook_Password\":\"Confirm Facebook Password\",\"choose_language\":\"Choose language\",\"choose_currency\":\"Choose currency\",\"clear_dates\":\"Clear Dates\",\"datepicker_updated_years_ago\":\"Updated %{smart_count} year ago |||| Updated %{smart_count} years ago\",\"datepicker_updated_months_ago\":\"Updated %{smart_count} month ago |||| Updated %{smart_count} months ago\",\"datepicker_updated_days_ago\":\"Updated %{smart_count} day ago |||| Updated %{smart_count} days ago\",\"datepicker_updated_today\":\"Updated today\",\"datepicker_never_updated\":\"Never updated\",\"datepicker_min_nights\":\"%{smart_count} night minimum stay |||| %{smart_count} night minimum stay\"});\\n    </script>\\n\\n\\n    <script>\\n  (function(c,a){window.mixpanel=a;var b,d,h,e;\\n  a._i=[];a.init=function(b,c,f){function d(a,b){var c=b.split(\".\");2==c.length&&(a=a[c[0]],b=c[1]);a[b]=function(){a.push([b].concat(Array.prototype.slice.call(arguments,0)))}}var g=a;\"undefined\"!==typeof f?g=a[f]=[]:f=\"mixpanel\";g.people=g.people||[];h=[\\'disable\\',\\'track\\',\\'track_pageview\\',\\'track_links\\',\\'track_forms\\',\\'register\\',\\'register_once\\',\\'unregister\\',\\'identify\\',\\'name_tag\\',\\'set_config\\',\\'people.identify\\',\\'people.set\\',\\'people.increment\\'];for(e=0;e<h.length;e++)d(g,h[e]);a._i.push([b,c,f])};a.__SV=1.1;})(document,window.mixpanel||[]);mixpanel.init(\"871bd83d174bd67e8c8643e833a4514d\");\\n</script>\\n\\n\\n      <script>\\n        !function() {\\n          var Facebook = require(\\'airbnb.facebook\\');\\n          Facebook.init({\"appId\":\"138566025676\",\"scope\":\"email,user_birthday,user_likes,user_education_history,user_hometown,user_interests,user_activities,user_location,user_friends\"});\\n        }();\\n      </script>\\n\\n    \\n    <script src=\"https://a2.muscache.com/airbnb/static/profile-c9d87214b8f1bb2b44cdec608b60a26c.js\" type=\"text/javascript\"></script>\\n    \\n\\n    <script>\\n      window.___gcfg = {lang: \\'en\\', parsetags: \\'onload\\'};\\n\\n      var initOptions = {\"canonical_host\":\"www.airbnb.com\",\"canonical_url\":\"https://www.airbnb.com/users/show/100900\",\"language\":\"en\",\"locale\":\"en\"};\\n      Airbnb.init(initOptions);\\n      var userID = Airbnb.userAttributes.id || null;\\n      (function() {\\n        Airbnb.o2Version = \"o2.1\";\\n\\n        Airbnb.LangCurrPicker.init();\\n\\n        Airbnb.header = new Airbnb.Header();\\n\\n        if (Airbnb.Tracking) {\\n          var roleType = \"production\";\\n\\n          Airbnb.addInitHook(function() {\\n            Airbnb.Tracking.init();\\n\\n            Airbnb.Tracking.addDefaultContext();\\n            Airbnb.Tracking.addContext(\\n              _.extend({\"o2Version\":\"o2.1\",\"source\":\"monorail\",\"platform\":\"js\",\"version\":\"7ba2141cb38bec2272819b0918daaa1c9487d523\",\"controller\":\"users\",\"action\":\"show\",\"req_uuid\":\"7269fdc3-98a5-4152-a415-1b4a4f260547\"}, {\\n                user_id: userID\\n              }));\\n          });\\n        }\\n\\n      })();\\n\\n      Airbnb.Api.configure({\"baseUrl\":\"https://www.airbnb.com/api\",\"key\":\"d306zoyjsyarp7ifhu67rjxn52tv0t20\"});\\n\\n\\n        (function() {\\n          var flash = require(\\'o2-flash\\');\\n          flash.display();\\n        })();\\n\\n      \\n    I18n.extend({\"editProfile\":\"Edit Profile\",\"response_from_you\":\"Response from you:\",\"error_saving_your_response\":\"Sorry, there has been an error replying to this review.\",\"response_tooltip_title\":\"If you disagree with this review or would like to address concerns raised by the user, you may leave a response. Please be sure to follow our Review Guidelines.\"});\\n\\n  Airbnb.Profile.init({\\n    hasProfileVideo: false,\\n    userId: 100900\\n  });\\n\\n    </script>\\n\\n    <script>\\n(function($, ua) {\\n  $(window).on(\\'load.pellet\\', function(){\\n    if(ua.should_drop_pellet){\\n      Airbnb.Pellet.drop(\\'kfgn8s24\\');\\n    }\\n  });\\n\\n  if (ua.should_drop_sift_pellet) {\\n    $(window).on(\\'load\\', function(){\\n      window._sift = window._sift || [];\\n      _sift.push([\\'_setAccount\\', \\'5d704de7e8\\']);\\n      _sift.push([\\'_setUserId\\', ua.eid || \\'\\']);\\n      _sift.push([\\'_setSessionId\\', Airbnb.Utils.readCookie(\\'esid\\')]);\\n      _sift.push([\\'_trackPageview\\']);\\n      LazyLoad.js(\\'//cdn.siftscience.com/s.js\\');\\n    });\\n  }\\n\\n})(jQuery, Airbnb.userAttributes);\\n\\n</script>\\n\\n\\n    <script>\\n      LazyLoad.js(\\'//a0.muscache.com/3p/_latest/abb_combo_all_fb_locale-en_US.js\\');\\n    </script>\\n\\n  </body>\\n</html>\\n<!-- ver. 7ba2141cb38bec2272819b0918daaa1c9487d523 -->\\n'"
       ]
      }
     ],
     "prompt_number": 32
    },
    {
     "cell_type": "code",
     "collapsed": false,
     "input": [
      "soup = BeautifulSoup( response.text )"
     ],
     "language": "python",
     "metadata": {},
     "outputs": [],
     "prompt_number": 22
    },
    {
     "cell_type": "code",
     "collapsed": false,
     "input": [
      "test = soup.find_all( 'a', href=user_re )\n",
      "test"
     ],
     "language": "python",
     "metadata": {},
     "outputs": [
      {
       "metadata": {},
       "output_type": "pyout",
       "prompt_number": 24,
       "text": [
        "[<a class=\"link-reset\" href=\"/users/show/100900#reviews\">\n",
        " <div class=\"text-center text-wrap\">\n",
        " <div class=\"badge-pill h3\">\n",
        " <span class=\"badge-pill-count\">6</span>\n",
        " </div>\n",
        " <div class=\"row-space-top-1\">Reviews</div>\n",
        " </div>\n",
        " </a>,\n",
        " <a class=\"media-photo media-round row-space-1\" href=\"/users/show/1561605\"><img alt=\"Phillip\" class=\"lazy\" data-original=\"https://a2.muscache.com/ic/users/1561605/profile_pic/1334009435/original.jpg?interpolation=lanczos-none&amp;crop=w:w;*,*&amp;crop=h:h;*,*&amp;resize=68:*&amp;output-format=jpg&amp;output-quality=70\" height=\"68\" src=\"https://a0.muscache.com/defaults/user_pic-68x68.png?v=2\" title=\"Phillip\" width=\"68\"/></a>,\n",
        " <a class=\"text-muted\" href=\"/users/show/1561605\">Phillip</a>,\n",
        " <a class=\"media-photo media-round row-space-1\" href=\"/users/show/41932\"><img alt=\"Lane\" class=\"lazy\" data-original=\"https://a2.muscache.com/ic/users/41932/profile_pic/1267127993/original.jpg?interpolation=lanczos-none&amp;crop=w:w;*,*&amp;crop=h:h;*,*&amp;resize=68:*&amp;output-format=jpg&amp;output-quality=70\" height=\"68\" src=\"https://a0.muscache.com/defaults/user_pic-68x68.png?v=2\" title=\"Lane\" width=\"68\"/></a>,\n",
        " <a class=\"text-muted\" href=\"/users/show/41932\">Lane</a>,\n",
        " <a class=\"media-photo media-round row-space-1\" href=\"/users/show/175522\"><img alt=\"Donna\" class=\"lazy\" data-original=\"https://a1.muscache.com/ic/users/175522/profile_pic/1292122121/original.jpg?interpolation=lanczos-none&amp;crop=w:w;*,*&amp;crop=h:h;*,*&amp;resize=68:*&amp;output-format=jpg&amp;output-quality=70\" height=\"68\" src=\"https://a0.muscache.com/defaults/user_pic-68x68.png?v=2\" title=\"Donna\" width=\"68\"/></a>,\n",
        " <a class=\"text-muted\" href=\"/users/show/175522\">Donna</a>,\n",
        " <a class=\"media-photo media-round row-space-1\" href=\"/users/show/212740\"><img alt=\"Shalini\" class=\"lazy\" data-original=\"https://a2.muscache.com/ic/users/212740/profile_pic/1282760781/original.jpg?interpolation=lanczos-none&amp;crop=w:w;*,*&amp;crop=h:h;*,*&amp;resize=68:*&amp;output-format=jpg&amp;output-quality=70\" height=\"68\" src=\"https://a0.muscache.com/defaults/user_pic-68x68.png?v=2\" title=\"Shalini\" width=\"68\"/></a>,\n",
        " <a class=\"text-muted\" href=\"/users/show/212740\">Shalini</a>,\n",
        " <a class=\"media-photo media-round row-space-1\" href=\"/users/show/934641\"><img alt=\"Nick\" class=\"lazy\" data-original=\"https://a0.muscache.com/ic/users/934641/profile_pic/1350913492/original.jpg?interpolation=lanczos-none&amp;crop=w:w;*,*&amp;crop=h:h;*,*&amp;resize=68:*&amp;output-format=jpg&amp;output-quality=70\" height=\"68\" src=\"https://a0.muscache.com/defaults/user_pic-68x68.png?v=2\" title=\"Nick\" width=\"68\"/></a>,\n",
        " <a class=\"text-muted\" href=\"/users/show/934641\">Nick</a>,\n",
        " <a class=\"media-photo media-round row-space-1\" href=\"/users/show/367871\"><img alt=\"Laura\" class=\"lazy\" data-original=\"https://a0.muscache.com/ic/users/367871/profile_pic/1296353708/original.jpg?interpolation=lanczos-none&amp;crop=w:w;*,*&amp;crop=h:h;*,*&amp;resize=68:*&amp;output-format=jpg&amp;output-quality=70\" height=\"68\" src=\"https://a0.muscache.com/defaults/user_pic-68x68.png?v=2\" title=\"Laura\" width=\"68\"/></a>,\n",
        " <a class=\"text-muted\" href=\"/users/show/367871\">Laura</a>]"
       ]
      }
     ],
     "prompt_number": 24
    },
    {
     "cell_type": "code",
     "collapsed": false,
     "input": [
      "test1 = test[1]"
     ],
     "language": "python",
     "metadata": {},
     "outputs": [],
     "prompt_number": 18
    },
    {
     "cell_type": "code",
     "collapsed": false,
     "input": [
      "test1"
     ],
     "language": "python",
     "metadata": {},
     "outputs": [
      {
       "metadata": {},
       "output_type": "pyout",
       "prompt_number": 19,
       "text": [
        "<a class=\"media-photo media-round row-space-1\" href=\"/users/show/1561605\"><img alt=\"Phillip\" class=\"lazy\" data-original=\"https://a2.muscache.com/ic/users/1561605/profile_pic/1334009435/original.jpg?interpolation=lanczos-none&amp;crop=w:w;*,*&amp;crop=h:h;*,*&amp;resize=68:*&amp;output-format=jpg&amp;output-quality=70\" height=\"68\" src=\"https://a0.muscache.com/defaults/user_pic-68x68.png?v=2\" title=\"Phillip\" width=\"68\"/></a>"
       ]
      }
     ],
     "prompt_number": 19
    },
    {
     "cell_type": "code",
     "collapsed": false,
     "input": [
      "test1['href']"
     ],
     "language": "python",
     "metadata": {},
     "outputs": [
      {
       "metadata": {},
       "output_type": "pyout",
       "prompt_number": 20,
       "text": [
        "'/users/show/1561605'"
       ]
      }
     ],
     "prompt_number": 20
    },
    {
     "cell_type": "code",
     "collapsed": false,
     "input": [
      "soup.find_all( 'img', src=user_photo_re )"
     ],
     "language": "python",
     "metadata": {},
     "outputs": [
      {
       "metadata": {},
       "output_type": "pyout",
       "prompt_number": 31,
       "text": [
        "[<img alt=\"Matthew\" class=\"img-responsive\" height=\"225\" src=\"https://a2.muscache.com/ic/users/100900/profile_pic/1319163349/original.jpg?interpolation=lanczos-none&amp;crop=w:w;*,*&amp;crop=h:h;*,*&amp;resize=225:*&amp;output-format=jpg&amp;output-quality=70\" title=\"Matthew\" width=\"225\"/>]"
       ]
      }
     ],
     "prompt_number": 31
    },
    {
     "cell_type": "code",
     "collapsed": false,
     "input": [
      "soup.find_all( 'img', attrs= {'data-original' : user_photo_re} )"
     ],
     "language": "python",
     "metadata": {},
     "outputs": [
      {
       "metadata": {},
       "output_type": "pyout",
       "prompt_number": 33,
       "text": [
        "[<img alt=\"Phillip\" class=\"lazy\" data-original=\"https://a2.muscache.com/ic/users/1561605/profile_pic/1334009435/original.jpg?interpolation=lanczos-none&amp;crop=w:w;*,*&amp;crop=h:h;*,*&amp;resize=68:*&amp;output-format=jpg&amp;output-quality=70\" height=\"68\" src=\"https://a0.muscache.com/defaults/user_pic-68x68.png?v=2\" title=\"Phillip\" width=\"68\"/>,\n",
        " <img alt=\"Lane\" class=\"lazy\" data-original=\"https://a2.muscache.com/ic/users/41932/profile_pic/1267127993/original.jpg?interpolation=lanczos-none&amp;crop=w:w;*,*&amp;crop=h:h;*,*&amp;resize=68:*&amp;output-format=jpg&amp;output-quality=70\" height=\"68\" src=\"https://a0.muscache.com/defaults/user_pic-68x68.png?v=2\" title=\"Lane\" width=\"68\"/>,\n",
        " <img alt=\"Donna\" class=\"lazy\" data-original=\"https://a1.muscache.com/ic/users/175522/profile_pic/1292122121/original.jpg?interpolation=lanczos-none&amp;crop=w:w;*,*&amp;crop=h:h;*,*&amp;resize=68:*&amp;output-format=jpg&amp;output-quality=70\" height=\"68\" src=\"https://a0.muscache.com/defaults/user_pic-68x68.png?v=2\" title=\"Donna\" width=\"68\"/>,\n",
        " <img alt=\"Shalini\" class=\"lazy\" data-original=\"https://a2.muscache.com/ic/users/212740/profile_pic/1282760781/original.jpg?interpolation=lanczos-none&amp;crop=w:w;*,*&amp;crop=h:h;*,*&amp;resize=68:*&amp;output-format=jpg&amp;output-quality=70\" height=\"68\" src=\"https://a0.muscache.com/defaults/user_pic-68x68.png?v=2\" title=\"Shalini\" width=\"68\"/>,\n",
        " <img alt=\"Nick\" class=\"lazy\" data-original=\"https://a0.muscache.com/ic/users/934641/profile_pic/1350913492/original.jpg?interpolation=lanczos-none&amp;crop=w:w;*,*&amp;crop=h:h;*,*&amp;resize=68:*&amp;output-format=jpg&amp;output-quality=70\" height=\"68\" src=\"https://a0.muscache.com/defaults/user_pic-68x68.png?v=2\" title=\"Nick\" width=\"68\"/>,\n",
        " <img alt=\"Laura\" class=\"lazy\" data-original=\"https://a0.muscache.com/ic/users/367871/profile_pic/1296353708/original.jpg?interpolation=lanczos-none&amp;crop=w:w;*,*&amp;crop=h:h;*,*&amp;resize=68:*&amp;output-format=jpg&amp;output-quality=70\" height=\"68\" src=\"https://a0.muscache.com/defaults/user_pic-68x68.png?v=2\" title=\"Laura\" width=\"68\"/>]"
       ]
      }
     ],
     "prompt_number": 33
    },
    {
     "cell_type": "code",
     "collapsed": false,
     "input": [
      "user_pages = soup.find_all( 'a', href=user_re )\n",
      "user_pages = [ page['href'] for page in user_pages ]\n",
      "user_pages"
     ],
     "language": "python",
     "metadata": {},
     "outputs": [
      {
       "metadata": {},
       "output_type": "pyout",
       "prompt_number": 36,
       "text": [
        "['/users/show/100900#reviews',\n",
        " '/users/show/1561605',\n",
        " '/users/show/1561605',\n",
        " '/users/show/41932',\n",
        " '/users/show/41932',\n",
        " '/users/show/175522',\n",
        " '/users/show/175522',\n",
        " '/users/show/212740',\n",
        " '/users/show/212740',\n",
        " '/users/show/934641',\n",
        " '/users/show/934641',\n",
        " '/users/show/367871',\n",
        " '/users/show/367871']"
       ]
      }
     ],
     "prompt_number": 36
    },
    {
     "cell_type": "code",
     "collapsed": false,
     "input": [
      "room_pages = soup.find_all( 'a', href=room_re )\n",
      "room_pages = [ page['href'] for page in room_pages ]\n",
      "room_pages"
     ],
     "language": "python",
     "metadata": {},
     "outputs": [
      {
       "metadata": {},
       "output_type": "pyout",
       "prompt_number": 37,
       "text": [
        "['/rooms/new']"
       ]
      }
     ],
     "prompt_number": 37
    },
    {
     "cell_type": "code",
     "collapsed": false,
     "input": [
      "main_photos = soup.find_all( 'img', src=user_photo_re )\n",
      "main_photos = [ link['src'].split('?')[0] for link in main_photos ]\n",
      "main_photos"
     ],
     "language": "python",
     "metadata": {},
     "outputs": [
      {
       "metadata": {},
       "output_type": "pyout",
       "prompt_number": 41,
       "text": [
        "['https://a2.muscache.com/ic/users/100900/profile_pic/1319163349/original.jpg']"
       ]
      }
     ],
     "prompt_number": 41
    },
    {
     "cell_type": "code",
     "collapsed": false,
     "input": [
      "user_photos = soup.find_all( 'img', attrs= {'data-original' : user_photo_re} )\n",
      "user_photos = [ link['data-original'].split('?')[0] for link in user_photos ]\n",
      "user_photos"
     ],
     "language": "python",
     "metadata": {},
     "outputs": [
      {
       "metadata": {},
       "output_type": "pyout",
       "prompt_number": 42,
       "text": [
        "['https://a2.muscache.com/ic/users/1561605/profile_pic/1334009435/original.jpg',\n",
        " 'https://a2.muscache.com/ic/users/41932/profile_pic/1267127993/original.jpg',\n",
        " 'https://a1.muscache.com/ic/users/175522/profile_pic/1292122121/original.jpg',\n",
        " 'https://a2.muscache.com/ic/users/212740/profile_pic/1282760781/original.jpg',\n",
        " 'https://a0.muscache.com/ic/users/934641/profile_pic/1350913492/original.jpg',\n",
        " 'https://a0.muscache.com/ic/users/367871/profile_pic/1296353708/original.jpg']"
       ]
      }
     ],
     "prompt_number": 42
    },
    {
     "cell_type": "code",
     "collapsed": false,
     "input": [
      "room_photos = soup.find_all( 'img', src=room_photo_re )\n",
      "room_photos = [ link['src'].split('?')[0] for link in room_photos ]\n",
      "room_photos"
     ],
     "language": "python",
     "metadata": {},
     "outputs": [
      {
       "metadata": {},
       "output_type": "pyout",
       "prompt_number": 38,
       "text": [
        "['https://a0.muscache.com/pictures/20081616/medium.jpg']"
       ]
      }
     ],
     "prompt_number": 38
    },
    {
     "cell_type": "code",
     "collapsed": false,
     "input": [
      "def process_page( url ):\n",
      "    \n",
      "    response = requests.get( url )\n",
      "    soup = BeautifulSoup( response.text )\n",
      "    \n",
      "    user_pages = soup.find_all( 'a', href=user_re )\n",
      "    user_pages = [ page['href'].split('#')[0] for page in user_pages ]\n",
      "    \n",
      "    room_pages = soup.find_all( 'a', href=room_re )\n",
      "    room_pages = [ page['href'] for page in room_pages ]\n",
      "    \n",
      "    main_photos = soup.find_all( 'img', src=user_photo_re )\n",
      "    main_photos = [ link['src'].split('?')[0] for link in main_photos ]\n",
      "    user_photos = soup.find_all( 'img', attrs= {'data-original' : user_photo_re} )\n",
      "    user_photos = [ link['data-original'].split('?')[0] for link in user_photos ]\n",
      "    user_photos = main_photos + user_photos\n",
      "\n",
      "    room_photos = soup.find_all( 'img', src=room_photo_re )\n",
      "    room_photos = [ link['src'].split('?')[0] for link in room_photos ]\n",
      "    \n",
      "    return user_pages, room_pages, user_photos, room_photos"
     ],
     "language": "python",
     "metadata": {},
     "outputs": [],
     "prompt_number": 80
    },
    {
     "cell_type": "code",
     "collapsed": false,
     "input": [
      "def abs_url( url ):\n",
      "    if 'airbnb' not in url:\n",
      "        return 'https://www.airbnb.com' + url \n",
      "    return url"
     ],
     "language": "python",
     "metadata": {},
     "outputs": [],
     "prompt_number": 81
    },
    {
     "cell_type": "code",
     "collapsed": false,
     "input": [
      "PAGES = [ 'https://www.airbnb.com/users/show/100900' ]"
     ],
     "language": "python",
     "metadata": {},
     "outputs": [],
     "prompt_number": 98
    },
    {
     "cell_type": "code",
     "collapsed": false,
     "input": [
      "SEEN_PAGES  = set()\n",
      "USER_PHOTOS = set()\n",
      "ROOM_PHOTOS = set()"
     ],
     "language": "python",
     "metadata": {},
     "outputs": [],
     "prompt_number": 99
    },
    {
     "cell_type": "code",
     "collapsed": false,
     "input": [
      "count = 150\n",
      "while count < len( PAGES ) and count < 200:\n",
      "    \n",
      "    print count, '|',\n",
      "    print len( PAGES ), len( USER_PHOTOS ), len( ROOM_PHOTOS ), '|',\n",
      "    print PAGES[count]\n",
      "    user_pages, room_pages, user_photos, room_photos = process_page( PAGES[count] )\n",
      "#     print user_pages\n",
      "#     print room_pages\n",
      "#     print user_photos\n",
      "#     print room_photos\n",
      "\n",
      "#     print PAGES\n",
      "#     print SEEN_PAGES\n",
      "    \n",
      "    user_pages = [ abs_url( p ) for p in user_pages ]\n",
      "    room_pages = [ abs_url( p ) for p in room_pages ]\n",
      "    \n",
      "    user_pages = list( set( user_pages ) )\n",
      "    room_pages = list( set( room_pages ) )\n",
      "    \n",
      "    PAGES += [ p for p in user_pages if p not in SEEN_PAGES ]\n",
      "    PAGES += [ p for p in room_pages if p not in SEEN_PAGES ]\n",
      "    SEEN_PAGES.update( user_pages )\n",
      "    SEEN_PAGES.update( room_pages )\n",
      "    \n",
      "    USER_PHOTOS.update( user_photos )\n",
      "    ROOM_PHOTOS.update( room_photos )\n",
      "    \n",
      "    if len( USER_PHOTOS ) >= 500 and len( ROOM_PHOTOS ) >= 500:\n",
      "        break\n",
      "        \n",
      "    count += 1"
     ],
     "language": "python",
     "metadata": {},
     "outputs": [
      {
       "output_type": "stream",
       "stream": "stdout",
       "text": [
        "150 |\n",
        "987 732 20 | https://www.airbnb.com/users/show/4137814\n",
        "151"
       ]
      },
      {
       "output_type": "stream",
       "stream": "stdout",
       "text": [
        " |\n",
        "1002 744 20 | https://www.airbnb.com/users/show/15846857\n",
        "152"
       ]
      },
      {
       "output_type": "stream",
       "stream": "stdout",
       "text": [
        " |\n",
        "1003 745 20 | https://www.airbnb.com/users/show/12404807\n",
        "153"
       ]
      },
      {
       "output_type": "stream",
       "stream": "stdout",
       "text": [
        " |\n",
        "1018 753 20 | https://www.airbnb.com/users/show/2795092\n",
        "154"
       ]
      },
      {
       "output_type": "stream",
       "stream": "stdout",
       "text": [
        " |\n",
        "1040 769 20 | https://www.airbnb.com/users/show/17940339\n",
        "155"
       ]
      },
      {
       "output_type": "stream",
       "stream": "stdout",
       "text": [
        " |\n",
        "1040 769 20 | https://www.airbnb.com/users/show/11694095\n",
        "156"
       ]
      },
      {
       "output_type": "stream",
       "stream": "stdout",
       "text": [
        " |\n",
        "1040 769 20 | https://www.airbnb.com/users/show/10099617\n",
        "157"
       ]
      },
      {
       "output_type": "stream",
       "stream": "stdout",
       "text": [
        " |\n",
        "1045 774 20 | https://www.airbnb.com/users/show/2329311\n",
        "158"
       ]
      },
      {
       "output_type": "stream",
       "stream": "stdout",
       "text": [
        " |\n",
        "1061 790 20 | https://www.airbnb.com/users/show/13774836\n",
        "159"
       ]
      },
      {
       "output_type": "stream",
       "stream": "stdout",
       "text": [
        " |\n",
        "1064 793 20 | https://www.airbnb.com/users/show/1549357\n",
        "160"
       ]
      },
      {
       "output_type": "stream",
       "stream": "stdout",
       "text": [
        " |\n",
        "1066 795 20 | https://www.airbnb.com/users/show/12749174\n",
        "161"
       ]
      },
      {
       "output_type": "stream",
       "stream": "stdout",
       "text": [
        " |\n",
        "1071 800 20 | https://www.airbnb.com/users/show/42725\n",
        "162"
       ]
      },
      {
       "output_type": "stream",
       "stream": "stdout",
       "text": [
        " |\n",
        "1086 814 20 | https://www.airbnb.com/users/show/16973066\n",
        "163"
       ]
      },
      {
       "output_type": "stream",
       "stream": "stdout",
       "text": [
        " |\n",
        "1086 814 20 | https://www.airbnb.com/users/show/4403132\n",
        "164"
       ]
      },
      {
       "output_type": "stream",
       "stream": "stdout",
       "text": [
        " |\n",
        "1086 814 20 | https://www.airbnb.com/users/show/6134016\n",
        "165"
       ]
      },
      {
       "output_type": "stream",
       "stream": "stdout",
       "text": [
        " |\n",
        "1090 818 20 | https://www.airbnb.com/users/show/1560741\n",
        "166"
       ]
      },
      {
       "output_type": "stream",
       "stream": "stdout",
       "text": [
        " |\n",
        "1109 834 20 | https://www.airbnb.com/users/show/10463352\n",
        "167"
       ]
      },
      {
       "output_type": "stream",
       "stream": "stdout",
       "text": [
        " |\n",
        "1111 836 20 | https://www.airbnb.com/users/show/4264872\n",
        "168"
       ]
      },
      {
       "output_type": "stream",
       "stream": "stdout",
       "text": [
        " |\n",
        "1125 846 20 | https://www.airbnb.com/users/show/7389282\n",
        "169"
       ]
      },
      {
       "output_type": "stream",
       "stream": "stdout",
       "text": [
        " |\n",
        "1136 854 20 | https://www.airbnb.com/rooms/908034\n",
        "170"
       ]
      },
      {
       "output_type": "stream",
       "stream": "stdout",
       "text": [
        " |\n",
        "1141 859 22 | https://www.airbnb.com/rooms/1411381\n",
        "171"
       ]
      },
      {
       "output_type": "stream",
       "stream": "stdout",
       "text": [
        " |\n",
        "1142 860 24 | https://www.airbnb.com/rooms/1920963\n",
        "172"
       ]
      },
      {
       "output_type": "stream",
       "stream": "stdout",
       "text": [
        " |\n",
        "1146 864 26 | https://www.airbnb.com/rooms/1411348\n",
        "173"
       ]
      },
      {
       "output_type": "stream",
       "stream": "stdout",
       "text": [
        " |\n",
        "1149 867 28 | https://www.airbnb.com/rooms/3120361\n",
        "174"
       ]
      },
      {
       "output_type": "stream",
       "stream": "stdout",
       "text": [
        " |\n",
        "1149 867 30 | https://www.airbnb.com/users/show/1310218\n",
        "175"
       ]
      },
      {
       "output_type": "stream",
       "stream": "stdout",
       "text": [
        " |\n",
        "1159 877 30 | https://www.airbnb.com/users/show/19071886\n",
        "176"
       ]
      },
      {
       "output_type": "stream",
       "stream": "stdout",
       "text": [
        " |\n",
        "1159 877 30 | https://www.airbnb.com/users/show/168417\n",
        "177"
       ]
      },
      {
       "output_type": "stream",
       "stream": "stdout",
       "text": [
        " |\n",
        "1174 886 30 | https://www.airbnb.com/users/show/597265\n",
        "178"
       ]
      },
      {
       "output_type": "stream",
       "stream": "stdout",
       "text": [
        " |\n",
        "1194 902 30 | https://www.airbnb.com/users/show/459102\n",
        "179"
       ]
      },
      {
       "output_type": "stream",
       "stream": "stdout",
       "text": [
        " |\n",
        "1212 916 30 | https://www.airbnb.com/users/show/194913\n",
        "180"
       ]
      },
      {
       "output_type": "stream",
       "stream": "stdout",
       "text": [
        " |\n",
        "1222 923 30 | https://www.airbnb.com/users/show/524913\n",
        "181"
       ]
      },
      {
       "output_type": "stream",
       "stream": "stdout",
       "text": [
        " |\n",
        "1225 926 30 | https://www.airbnb.com/users/show/153754\n",
        "182"
       ]
      },
      {
       "output_type": "stream",
       "stream": "stdout",
       "text": [
        " |\n",
        "1250 950 30 | https://www.airbnb.com/users/show/161362\n",
        "183"
       ]
      },
      {
       "output_type": "stream",
       "stream": "stdout",
       "text": [
        " |\n",
        "1264 964 30 | https://www.airbnb.com/users/show/474848\n",
        "184"
       ]
      },
      {
       "output_type": "stream",
       "stream": "stdout",
       "text": [
        " |\n",
        "1285 979 30 | https://www.airbnb.com/users/show/1364835\n",
        "185"
       ]
      },
      {
       "output_type": "stream",
       "stream": "stdout",
       "text": [
        " |\n",
        "1286 980 30 | https://www.airbnb.com/users/show/1039585\n",
        "186"
       ]
      },
      {
       "output_type": "stream",
       "stream": "stdout",
       "text": [
        " |\n",
        "1306 996 30 | https://www.airbnb.com/users/show/6735404\n",
        "187"
       ]
      },
      {
       "output_type": "stream",
       "stream": "stdout",
       "text": [
        " |\n",
        "1319 1008 30 | https://www.airbnb.com/users/show/6455315\n",
        "188"
       ]
      },
      {
       "output_type": "stream",
       "stream": "stdout",
       "text": [
        " |\n",
        "1330 1017 30 | https://www.airbnb.com/users/show/1480293\n",
        "189"
       ]
      },
      {
       "output_type": "stream",
       "stream": "stdout",
       "text": [
        " |\n",
        "1343 1026 30 | https://www.airbnb.com/users/show/3393312\n",
        "190"
       ]
      },
      {
       "output_type": "stream",
       "stream": "stdout",
       "text": [
        " |\n",
        "1358 1039 30 | https://www.airbnb.com/users/show/4263764\n",
        "191"
       ]
      },
      {
       "output_type": "stream",
       "stream": "stdout",
       "text": [
        " |\n",
        "1360 1040 30 | https://www.airbnb.com/users/show/5050600\n",
        "192"
       ]
      },
      {
       "output_type": "stream",
       "stream": "stdout",
       "text": [
        " |\n",
        "1375 1054 30 | https://www.airbnb.com/users/show/3819052\n",
        "193"
       ]
      },
      {
       "output_type": "stream",
       "stream": "stdout",
       "text": [
        " |\n",
        "1375 1054 30 | https://www.airbnb.com/users/show/135012\n",
        "194"
       ]
      },
      {
       "output_type": "stream",
       "stream": "stdout",
       "text": [
        " |\n",
        "1390 1065 30 | https://www.airbnb.com/users/show/12865\n",
        "195"
       ]
      },
      {
       "output_type": "stream",
       "stream": "stdout",
       "text": [
        " |\n",
        "1405 1073 30 | https://www.airbnb.com/users/show/4107993\n",
        "196"
       ]
      },
      {
       "output_type": "stream",
       "stream": "stdout",
       "text": [
        " |\n",
        "1414 1079 30 | https://www.airbnb.com/users/show/709132\n",
        "197"
       ]
      },
      {
       "output_type": "stream",
       "stream": "stdout",
       "text": [
        " |\n",
        "1430 1093 30 | https://www.airbnb.com/users/show/1282293\n",
        "198"
       ]
      },
      {
       "output_type": "stream",
       "stream": "stdout",
       "text": [
        " |\n",
        "1439 1100 30 | https://www.airbnb.com/users/show/1672314\n",
        "199"
       ]
      },
      {
       "output_type": "stream",
       "stream": "stdout",
       "text": [
        " |\n",
        "1454 1106 30 | https://www.airbnb.com/users/show/788493\n"
       ]
      }
     ],
     "prompt_number": 107
    },
    {
     "cell_type": "code",
     "collapsed": false,
     "input": [
      "PAGES"
     ],
     "language": "python",
     "metadata": {},
     "outputs": [
      {
       "metadata": {},
       "output_type": "pyout",
       "prompt_number": 101,
       "text": [
        "['https://www.airbnb.com/users/show/100900',\n",
        " 'https://www.airbnb.com/users/show/1561605',\n",
        " 'https://www.airbnb.com/users/show/934641',\n",
        " 'https://www.airbnb.com/users/show/175522',\n",
        " 'https://www.airbnb.com/users/show/212740',\n",
        " 'https://www.airbnb.com/users/show/367871',\n",
        " 'https://www.airbnb.com/users/show/41932',\n",
        " 'https://www.airbnb.com/users/show/100900',\n",
        " 'https://www.airbnb.com/rooms/new',\n",
        " 'https://www.airbnb.com/users/show/516718',\n",
        " 'https://www.airbnb.com/users/show/1581968',\n",
        " 'https://www.airbnb.com/users/show/16778298',\n",
        " 'https://www.airbnb.com/users/show/905532',\n",
        " 'https://www.airbnb.com/users/show/1591886',\n",
        " 'https://www.airbnb.com/users/show/1577198',\n",
        " 'https://www.airbnb.com/users/show/3258382',\n",
        " 'https://www.airbnb.com/users/show/1575044',\n",
        " 'https://www.airbnb.com/users/show/17166823',\n",
        " 'https://www.airbnb.com/users/show/12943207',\n",
        " 'https://www.airbnb.com/users/show/14558400',\n",
        " 'https://www.airbnb.com/users/show/1324242',\n",
        " 'https://www.airbnb.com/users/show/377432',\n",
        " 'https://www.airbnb.com/users/show/3862999',\n",
        " 'https://www.airbnb.com/users/show/1577680',\n",
        " 'https://www.airbnb.com/users/show/11775078',\n",
        " 'https://www.airbnb.com/users/show/6769265',\n",
        " 'https://www.airbnb.com/rooms/303354',\n",
        " 'https://www.airbnb.com/users/show/15116751',\n",
        " 'https://www.airbnb.com/users/show/540171',\n",
        " 'https://www.airbnb.com/users/show/17570070',\n",
        " 'https://www.airbnb.com/users/show/4022627',\n",
        " 'https://www.airbnb.com/users/show/13046427',\n",
        " 'https://www.airbnb.com/users/show/1339249',\n",
        " 'https://www.airbnb.com/users/show/12454883',\n",
        " 'https://www.airbnb.com/users/show/361183',\n",
        " 'https://www.airbnb.com/users/show/847242',\n",
        " 'https://www.airbnb.com/users/show/13525095',\n",
        " 'https://www.airbnb.com/users/show/13850055',\n",
        " 'https://www.airbnb.com/users/show/510922',\n",
        " 'https://www.airbnb.com/users/show/2163024',\n",
        " 'https://www.airbnb.com/rooms/258571',\n",
        " 'https://www.airbnb.com/rooms/882274',\n",
        " 'https://www.airbnb.com/rooms/719233',\n",
        " 'https://www.airbnb.com/users/show/1806034',\n",
        " 'https://www.airbnb.com/users/show/7524222',\n",
        " 'https://www.airbnb.com/users/show/7385510',\n",
        " 'https://www.airbnb.com/users/show/1165352',\n",
        " 'https://www.airbnb.com/users/show/5640853',\n",
        " 'https://www.airbnb.com/users/show/3212200',\n",
        " 'https://www.airbnb.com/users/show/7007442',\n",
        " 'https://www.airbnb.com/users/show/6761319',\n",
        " 'https://www.airbnb.com/users/show/6165974',\n",
        " 'https://www.airbnb.com/users/show/7152038',\n",
        " 'https://www.airbnb.com/users/show/6473595',\n",
        " 'https://www.airbnb.com/users/show/1374638',\n",
        " 'https://www.airbnb.com/users/show/5806052',\n",
        " 'https://www.airbnb.com/users/show/2242950',\n",
        " 'https://www.airbnb.com/users/show/5369902',\n",
        " 'https://www.airbnb.com/users/show/15199080',\n",
        " 'https://www.airbnb.com/users/show/13483840',\n",
        " 'https://www.airbnb.com/users/show/287991',\n",
        " 'https://www.airbnb.com/users/show/1492103',\n",
        " 'https://www.airbnb.com/users/show/17119577',\n",
        " 'https://www.airbnb.com/users/show/3882432',\n",
        " 'https://www.airbnb.com/users/show/2628526',\n",
        " 'https://www.airbnb.com/users/show/14489605',\n",
        " 'https://www.airbnb.com/users/show/8478093',\n",
        " 'https://www.airbnb.com/users/show/667238',\n",
        " 'https://www.airbnb.com/users/show/13934036',\n",
        " 'https://www.airbnb.com/users/show/178043',\n",
        " 'https://www.airbnb.com/users/show/11216884',\n",
        " 'https://www.airbnb.com/users/show/18426665',\n",
        " 'https://www.airbnb.com/rooms/47196',\n",
        " 'https://www.airbnb.com/users/show/195747',\n",
        " 'https://www.airbnb.com/users/show/88067',\n",
        " 'https://www.airbnb.com/users/show/82827',\n",
        " 'https://www.airbnb.com/users/show/2835209',\n",
        " 'https://www.airbnb.com/users/show/7538',\n",
        " 'https://www.airbnb.com/users/show/134850',\n",
        " 'https://www.airbnb.com/users/show/84704',\n",
        " 'https://www.airbnb.com/users/show/440552',\n",
        " 'https://www.airbnb.com/users/show/1597202',\n",
        " 'https://www.airbnb.com/users/show/4010218',\n",
        " 'https://www.airbnb.com/users/show/120279',\n",
        " 'https://www.airbnb.com/users/show/376110',\n",
        " 'https://www.airbnb.com/users/show/7877',\n",
        " 'https://www.airbnb.com/users/show/108106',\n",
        " 'https://www.airbnb.com/users/show/2319',\n",
        " 'https://www.airbnb.com/users/show/2370685',\n",
        " 'https://www.airbnb.com/users/show/5676026',\n",
        " 'https://www.airbnb.com/users/show/3003735',\n",
        " 'https://www.airbnb.com/users/show/4061847',\n",
        " 'https://www.airbnb.com/users/show/6465430',\n",
        " 'https://www.airbnb.com/users/show/89398',\n",
        " 'https://www.airbnb.com/users/show/1089526',\n",
        " 'https://www.airbnb.com/users/show/5996091',\n",
        " 'https://www.airbnb.com/rooms/24525',\n",
        " 'https://www.airbnb.com/rooms/26078',\n",
        " 'https://www.airbnb.com/rooms/32544',\n",
        " 'https://www.airbnb.com/rooms/154628',\n",
        " 'https://www.airbnb.com/rooms/214656',\n",
        " 'https://www.airbnb.com/rooms/28229',\n",
        " 'https://www.airbnb.com/users/show/239712',\n",
        " 'https://www.airbnb.com/users/show/4469148',\n",
        " 'https://www.airbnb.com/users/show/68342',\n",
        " 'https://www.airbnb.com/users/show/10261',\n",
        " 'https://www.airbnb.com/users/show/60940',\n",
        " 'https://www.airbnb.com/users/show/689713',\n",
        " 'https://www.airbnb.com/users/show/2279300',\n",
        " 'https://www.airbnb.com/users/show/849519',\n",
        " 'https://www.airbnb.com/users/show/4126686',\n",
        " 'https://www.airbnb.com/users/show/5555669',\n",
        " 'https://www.airbnb.com/users/show/6107504',\n",
        " 'https://www.airbnb.com/users/show/234088',\n",
        " 'https://www.airbnb.com/users/show/1164019',\n",
        " 'https://www.airbnb.com/users/show/13425018',\n",
        " 'https://www.airbnb.com/users/show/3530170',\n",
        " 'https://www.airbnb.com/users/show/941913',\n",
        " 'https://www.airbnb.com/users/show/1845744',\n",
        " 'https://www.airbnb.com/users/show/12853974',\n",
        " 'https://www.airbnb.com/users/show/10926276',\n",
        " 'https://www.airbnb.com/users/show/11010151',\n",
        " 'https://www.airbnb.com/users/show/58357',\n",
        " 'https://www.airbnb.com/users/show/12605002',\n",
        " 'https://www.airbnb.com/users/show/11918023',\n",
        " 'https://www.airbnb.com/users/show/3272433',\n",
        " 'https://www.airbnb.com/users/show/11651440',\n",
        " 'https://www.airbnb.com/users/show/974933',\n",
        " 'https://www.airbnb.com/users/show/197237',\n",
        " 'https://www.airbnb.com/users/show/15657777',\n",
        " 'https://www.airbnb.com/users/show/377652',\n",
        " 'https://www.airbnb.com/users/show/1363039',\n",
        " 'https://www.airbnb.com/users/show/15231885',\n",
        " 'https://www.airbnb.com/users/show/13566359',\n",
        " 'https://www.airbnb.com/rooms/146076',\n",
        " 'https://www.airbnb.com/rooms/213591',\n",
        " 'https://www.airbnb.com/rooms/1252843',\n",
        " 'https://www.airbnb.com/rooms/72682',\n",
        " 'https://www.airbnb.com/rooms/922798',\n",
        " 'https://www.airbnb.com/users/show/307296',\n",
        " 'https://www.airbnb.com/users/show/3681463',\n",
        " 'https://www.airbnb.com/users/show/5810834',\n",
        " 'https://www.airbnb.com/users/show/3724398',\n",
        " 'https://www.airbnb.com/users/show/10464188',\n",
        " 'https://www.airbnb.com/users/show/3007659',\n",
        " 'https://www.airbnb.com/users/show/6851408',\n",
        " 'https://twitter.com/intent/tweet?source=tweetbutton&text=Love%20this!%20%22Cozy%201BR%20apt%20located%20in%20Nolita%2FSoho%20in%20New%20York%22%20%40airbnb%20%23NYC%20%23Travel&url=https://www.airbnb.com/rooms/303354&related=airbnb',\n",
        " 'http://www.facebook.com/sharer.php?u=https://www.airbnb.com/rooms/303354',\n",
        " 'https://plus.google.com/share?url=https://www.airbnb.com/rooms/303354',\n",
        " '//www.pinterest.com/pin/create/button/?url=https://www.airbnb.com/rooms/303354&media=https://a0.muscache.com/ic/pictures/18901398/0feab805_original.jpg?interpolation=lanczos-none&size=x_medium&output-format=jpg&output-quality=70&description=Check out this awesome listing on Airbnb: Cozy 1BR apt located in Nolita/Soho in New York',\n",
        " 'https://www.airbnb.com/users/show/4137814',\n",
        " 'https://www.airbnb.com/users/show/15846857',\n",
        " 'https://www.airbnb.com/users/show/12404807',\n",
        " 'https://www.airbnb.com/users/show/2795092',\n",
        " 'https://www.airbnb.com/users/show/17940339',\n",
        " 'https://www.airbnb.com/users/show/11694095',\n",
        " 'https://www.airbnb.com/users/show/10099617',\n",
        " 'https://www.airbnb.com/users/show/2329311',\n",
        " 'https://www.airbnb.com/users/show/13774836',\n",
        " 'https://www.airbnb.com/users/show/1549357',\n",
        " 'https://www.airbnb.com/users/show/12749174',\n",
        " 'https://www.airbnb.com/users/show/42725',\n",
        " 'https://www.airbnb.com/users/show/16973066',\n",
        " 'https://www.airbnb.com/users/show/4403132',\n",
        " 'https://www.airbnb.com/users/show/6134016',\n",
        " 'https://www.airbnb.com/users/show/1560741',\n",
        " 'https://www.airbnb.com/users/show/10463352',\n",
        " 'https://www.airbnb.com/users/show/4264872',\n",
        " 'https://www.airbnb.com/users/show/7389282',\n",
        " 'https://www.airbnb.com/rooms/908034',\n",
        " 'https://www.airbnb.com/rooms/1411381',\n",
        " 'https://www.airbnb.com/rooms/1920963',\n",
        " 'https://www.airbnb.com/rooms/1411348',\n",
        " 'https://www.airbnb.com/rooms/3120361',\n",
        " 'https://www.airbnb.com/users/show/1310218',\n",
        " 'https://www.airbnb.com/users/show/19071886',\n",
        " 'https://www.airbnb.com/users/show/168417',\n",
        " 'https://www.airbnb.com/users/show/597265',\n",
        " 'https://www.airbnb.com/users/show/459102',\n",
        " 'https://www.airbnb.com/users/show/194913',\n",
        " 'https://www.airbnb.com/users/show/524913',\n",
        " 'https://www.airbnb.com/users/show/153754',\n",
        " 'https://www.airbnb.com/users/show/161362',\n",
        " 'https://www.airbnb.com/users/show/474848',\n",
        " 'https://www.airbnb.com/users/show/1364835',\n",
        " 'https://www.airbnb.com/users/show/1039585',\n",
        " 'https://www.airbnb.com/users/show/6735404',\n",
        " 'https://www.airbnb.com/users/show/6455315',\n",
        " 'https://www.airbnb.com/users/show/1480293',\n",
        " 'https://www.airbnb.com/users/show/3393312',\n",
        " 'https://www.airbnb.com/users/show/4263764',\n",
        " 'https://www.airbnb.com/users/show/5050600',\n",
        " 'https://www.airbnb.com/users/show/3819052',\n",
        " 'https://www.airbnb.com/users/show/135012',\n",
        " 'https://www.airbnb.com/users/show/12865',\n",
        " 'https://www.airbnb.com/users/show/4107993',\n",
        " 'https://www.airbnb.com/users/show/709132',\n",
        " 'https://www.airbnb.com/users/show/1282293',\n",
        " 'https://www.airbnb.com/users/show/1672314',\n",
        " 'https://www.airbnb.com/users/show/788493',\n",
        " 'https://www.airbnb.com/users/show/1860339',\n",
        " 'https://www.airbnb.com/users/show/8013018',\n",
        " 'https://www.airbnb.com/users/show/1579659',\n",
        " 'https://www.airbnb.com/users/show/1341170',\n",
        " 'https://www.airbnb.com/users/show/1388900',\n",
        " 'https://www.airbnb.com/users/show/11194155',\n",
        " 'https://www.airbnb.com/users/show/12975060',\n",
        " 'https://www.airbnb.com/users/show/2467508',\n",
        " 'https://www.airbnb.com/users/show/13072271',\n",
        " 'https://www.airbnb.com/users/show/11724021',\n",
        " 'https://www.airbnb.com/users/show/16836803',\n",
        " 'https://twitter.com/intent/tweet?source=tweetbutton&text=Love%20this!%20%22Melrose%20Court%20Apartment%20-%20107%20%20in%20Seattle%22%20%40airbnb%20%23Travel&url=https://www.airbnb.com/rooms/258571&related=airbnb',\n",
        " 'https://plus.google.com/share?url=https://www.airbnb.com/rooms/258571',\n",
        " 'http://www.facebook.com/sharer.php?u=https://www.airbnb.com/rooms/258571',\n",
        " '//www.pinterest.com/pin/create/button/?url=https://www.airbnb.com/rooms/258571&media=https://a1.muscache.com/ic/pictures/15231188/24ff896d_original.jpg?interpolation=lanczos-none&size=x_medium&output-format=jpg&output-quality=70&description=Check out this awesome listing on Airbnb: Melrose Court Apartment - 107  in Seattle',\n",
        " 'https://www.airbnb.com/users/show/12887481',\n",
        " 'https://www.airbnb.com/users/show/16272050',\n",
        " 'https://www.airbnb.com/users/show/16181526',\n",
        " 'https://twitter.com/intent/tweet?source=tweetbutton&text=Love%20this!%20%22Melrose%20Court%20Apartment%20-%20304%20in%20Seattle%22%20%40airbnb%20%23Travel&url=https://www.airbnb.com/rooms/882274&related=airbnb',\n",
        " 'https://plus.google.com/share?url=https://www.airbnb.com/rooms/882274',\n",
        " '//www.pinterest.com/pin/create/button/?url=https://www.airbnb.com/rooms/882274&media=https://a0.muscache.com/ic/pictures/13640044/4cec5238_original.jpg?interpolation=lanczos-none&size=x_medium&output-format=jpg&output-quality=70&description=Check out this awesome listing on Airbnb: Melrose Court Apartment - 304 in Seattle',\n",
        " 'http://www.facebook.com/sharer.php?u=https://www.airbnb.com/rooms/882274',\n",
        " 'https://www.airbnb.com/users/show/1788830',\n",
        " 'https://plus.google.com/share?url=https://www.airbnb.com/rooms/719233',\n",
        " 'https://twitter.com/intent/tweet?source=tweetbutton&text=Love%20this!%20%22Melrose%20Court%20Apartment%20-%20307%20in%20Seattle%22%20%40airbnb%20%23Travel&url=https://www.airbnb.com/rooms/719233&related=airbnb',\n",
        " 'http://www.facebook.com/sharer.php?u=https://www.airbnb.com/rooms/719233',\n",
        " '//www.pinterest.com/pin/create/button/?url=https://www.airbnb.com/rooms/719233&media=https://a2.muscache.com/ic/pictures/9983935/979bc5bb_original.jpg?interpolation=lanczos-none&size=x_medium&output-format=jpg&output-quality=70&description=Check out this awesome listing on Airbnb: Melrose Court Apartment - 307 in Seattle',\n",
        " 'https://www.airbnb.com/users/show/42024',\n",
        " 'https://www.airbnb.com/users/show/6957303',\n",
        " 'https://www.airbnb.com/users/show/1788871',\n",
        " 'https://www.airbnb.com/users/show/8527472',\n",
        " 'https://www.airbnb.com/users/show/6659833',\n",
        " 'https://www.airbnb.com/users/show/445508',\n",
        " 'https://www.airbnb.com/users/show/15566758',\n",
        " 'https://www.airbnb.com/users/show/16021141',\n",
        " 'https://www.airbnb.com/users/show/13171012',\n",
        " 'https://www.airbnb.com/users/show/1374150',\n",
        " 'https://www.airbnb.com/users/show/102684',\n",
        " 'https://www.airbnb.com/users/show/11674002',\n",
        " 'https://www.airbnb.com/users/show/17107473',\n",
        " 'https://www.airbnb.com/users/show/4459278',\n",
        " 'https://www.airbnb.com/users/show/5221306',\n",
        " 'https://www.airbnb.com/users/show/3857965',\n",
        " 'https://www.airbnb.com/rooms/1123497',\n",
        " 'https://www.airbnb.com/users/show/6225439',\n",
        " 'https://www.airbnb.com/users/show/138416',\n",
        " 'https://www.airbnb.com/users/show/2590300',\n",
        " 'https://www.airbnb.com/users/show/6338303',\n",
        " 'https://www.airbnb.com/users/show/684131',\n",
        " 'https://www.airbnb.com/users/show/1936138',\n",
        " 'https://www.airbnb.com/users/show/7779220',\n",
        " 'https://www.airbnb.com/users/show/1414788',\n",
        " 'https://www.airbnb.com/users/show/2357643',\n",
        " 'https://www.airbnb.com/users/show/231074',\n",
        " 'https://www.airbnb.com/users/show/459036',\n",
        " 'https://www.airbnb.com/users/show/7207602',\n",
        " 'https://www.airbnb.com/users/show/6798920',\n",
        " 'https://www.airbnb.com/users/show/8677331',\n",
        " 'https://www.airbnb.com/users/show/15904358',\n",
        " 'https://www.airbnb.com/users/show/3949120',\n",
        " 'https://www.airbnb.com/users/show/16756338',\n",
        " 'https://www.airbnb.com/users/show/17347732',\n",
        " 'https://www.airbnb.com/users/show/17124028',\n",
        " 'https://www.airbnb.com/users/show/15977539',\n",
        " 'https://www.airbnb.com/users/show/17258635',\n",
        " 'https://www.airbnb.com/users/show/493904',\n",
        " 'https://www.airbnb.com/users/show/7635768',\n",
        " 'https://www.airbnb.com/users/show/3993620',\n",
        " 'https://www.airbnb.com/rooms/1369384',\n",
        " 'https://www.airbnb.com/users/show/7787676',\n",
        " 'https://www.airbnb.com/users/show/1552994',\n",
        " 'https://www.airbnb.com/users/show/1165322',\n",
        " 'https://www.airbnb.com/users/show/1149170',\n",
        " 'https://www.airbnb.com/users/show/2503766',\n",
        " 'https://www.airbnb.com/users/show/6655340',\n",
        " 'https://www.airbnb.com/users/show/6623712',\n",
        " 'https://www.airbnb.com/users/show/9992597',\n",
        " 'https://www.airbnb.com/users/show/5434772',\n",
        " 'https://www.airbnb.com/users/show/1587864',\n",
        " 'https://www.airbnb.com/users/show/10684780',\n",
        " 'https://www.airbnb.com/users/show/7703533',\n",
        " 'https://www.airbnb.com/users/show/12218910',\n",
        " 'https://www.airbnb.com/users/show/7880025',\n",
        " 'https://www.airbnb.com/users/show/1201085',\n",
        " 'https://www.airbnb.com/rooms/226708',\n",
        " 'https://www.airbnb.com/rooms/886116',\n",
        " 'https://www.airbnb.com/rooms/688156',\n",
        " 'https://www.airbnb.com/rooms/226674',\n",
        " 'https://www.airbnb.com/rooms/224010',\n",
        " 'https://www.airbnb.com/rooms/495343',\n",
        " 'https://www.airbnb.com/users/show/205299',\n",
        " 'https://www.airbnb.com/users/show/171505',\n",
        " 'https://www.airbnb.com/users/show/2586055',\n",
        " 'https://www.airbnb.com/users/show/4367137',\n",
        " 'https://www.airbnb.com/users/show/3034025',\n",
        " 'https://www.airbnb.com/users/show/1841207',\n",
        " 'https://www.airbnb.com/users/show/683617',\n",
        " 'https://www.airbnb.com/users/show/416155',\n",
        " 'https://www.airbnb.com/users/show/504884']"
       ]
      }
     ],
     "prompt_number": 101
    },
    {
     "cell_type": "code",
     "collapsed": false,
     "input": [
      "USER_PHOTOS"
     ],
     "language": "python",
     "metadata": {},
     "outputs": [
      {
       "metadata": {},
       "output_type": "pyout",
       "prompt_number": 102,
       "text": [
        "{'https://a0.muscache.com/ic/users/10684780/profile_pic/1387337633/original.jpg',\n",
        " 'https://a0.muscache.com/ic/users/108106/profile_pic/1403152692/original.jpg',\n",
        " 'https://a0.muscache.com/ic/users/1164019/profile_pic/1385016172/original.jpg',\n",
        " 'https://a0.muscache.com/ic/users/11775078/profile_pic/1399875865/original.jpg',\n",
        " 'https://a0.muscache.com/ic/users/12218910/profile_pic/1392331693/original.jpg',\n",
        " 'https://a0.muscache.com/ic/users/12454883/profile_pic/1397926935/original.jpg',\n",
        " 'https://a0.muscache.com/ic/users/1282293/profile_pic/1318907503/original.jpg',\n",
        " 'https://a0.muscache.com/ic/users/12975060/profile_pic/1394512722/original.jpg',\n",
        " 'https://a0.muscache.com/ic/users/13072271/profile_pic/1404225119/original.jpg',\n",
        " 'https://a0.muscache.com/ic/users/135012/profile_pic/1275631564/original.jpg',\n",
        " 'https://a0.muscache.com/ic/users/13525095/profile_pic/1395874329/original.jpg',\n",
        " 'https://a0.muscache.com/ic/users/13566359/profile_pic/1396429868/original.jpg',\n",
        " 'https://a0.muscache.com/ic/users/1363039/profile_pic/1320262931/original.jpg',\n",
        " 'https://a0.muscache.com/ic/users/1374638/profile_pic/1386824366/original.jpg',\n",
        " 'https://a0.muscache.com/ic/users/138416/profile_pic/1365870612/original.jpg',\n",
        " 'https://a0.muscache.com/ic/users/1577198/profile_pic/1404313279/original.jpg',\n",
        " 'https://a0.muscache.com/ic/users/1577680/profile_pic/1325957764/original.jpg',\n",
        " 'https://a0.muscache.com/ic/users/1579659/profile_pic/1325999699/original.jpg',\n",
        " 'https://a0.muscache.com/ic/users/16181526/profile_pic/1401479435/original.jpg',\n",
        " 'https://a0.muscache.com/ic/users/16272050/profile_pic/1401904634/original.jpg',\n",
        " 'https://a0.muscache.com/ic/users/168417/profile_pic/1327879117/original.jpg',\n",
        " 'https://a0.muscache.com/ic/users/171505/profile_pic/1362375945/original.jpg',\n",
        " 'https://a0.muscache.com/ic/users/17570070/profile_pic/1404342003/original.jpg',\n",
        " 'https://a0.muscache.com/ic/users/178043/profile_pic/1293838129/original.jpg',\n",
        " 'https://a0.muscache.com/ic/users/1806034/profile_pic/1373661695/original.jpg',\n",
        " 'https://a0.muscache.com/ic/users/195747/profile_pic/1334455829/original.jpg',\n",
        " 'https://a0.muscache.com/ic/users/205299/profile_pic/1397853991/original.jpg',\n",
        " 'https://a0.muscache.com/ic/users/231074/profile_pic/1378275404/original.jpg',\n",
        " 'https://a0.muscache.com/ic/users/2329311/profile_pic/1336566089/original.jpg',\n",
        " 'https://a0.muscache.com/ic/users/2357643/profile_pic/1377316332/original.jpg',\n",
        " 'https://a0.muscache.com/ic/users/2628526/profile_pic/1403543965/original.jpg',\n",
        " 'https://a0.muscache.com/ic/users/3003735/profile_pic/1342822556/original.jpg',\n",
        " 'https://a0.muscache.com/ic/users/3007659/profile_pic/1393757007/original.jpg',\n",
        " 'https://a0.muscache.com/ic/users/3034025/profile_pic/1343096867/original.jpg',\n",
        " 'https://a0.muscache.com/ic/users/3393312/profile_pic/1368812807/original.jpg',\n",
        " 'https://a0.muscache.com/ic/users/3530170/profile_pic/1386562001/original.jpg',\n",
        " 'https://a0.muscache.com/ic/users/361183/profile_pic/1295931663/original.jpg',\n",
        " 'https://a0.muscache.com/ic/users/367871/profile_pic/1296353708/original.jpg',\n",
        " 'https://a0.muscache.com/ic/users/376110/profile_pic/1296775258/original.jpg',\n",
        " 'https://a0.muscache.com/ic/users/377432/profile_pic/1332166166/original.jpg',\n",
        " 'https://a0.muscache.com/ic/users/3862999/profile_pic/1350234025/original.jpg',\n",
        " 'https://a0.muscache.com/ic/users/4022627/profile_pic/1401234303/original.jpg',\n",
        " 'https://a0.muscache.com/ic/users/4126686/profile_pic/1385605680/original.jpg',\n",
        " 'https://a0.muscache.com/ic/users/4263764/profile_pic/1354479122/original.jpg',\n",
        " 'https://a0.muscache.com/ic/users/4264872/profile_pic/1399644664/original.jpg',\n",
        " 'https://a0.muscache.com/ic/users/440552/profile_pic/1369715192/original.jpg',\n",
        " 'https://a0.muscache.com/ic/users/459102/profile_pic/1319983312/original.jpg',\n",
        " 'https://a0.muscache.com/ic/users/474848/profile_pic/1313060230/original.jpg',\n",
        " 'https://a0.muscache.com/ic/users/493904/profile_pic/1302301780/original.jpg',\n",
        " 'https://a0.muscache.com/ic/users/5050600/profile_pic/1360616048/original.jpg',\n",
        " 'https://a0.muscache.com/ic/users/510922/profile_pic/1357675015/original.jpg',\n",
        " 'https://a0.muscache.com/ic/users/5434772/profile_pic/1384127124/original.jpg',\n",
        " 'https://a0.muscache.com/ic/users/5555669/profile_pic/1363837153/original.jpg',\n",
        " 'https://a0.muscache.com/ic/users/5810834/profile_pic/1404207167/original.jpg',\n",
        " 'https://a0.muscache.com/ic/users/6165974/profile_pic/1367350543/original.jpg',\n",
        " 'https://a0.muscache.com/ic/users/6225439/profile_pic/1401385274/original.jpg',\n",
        " 'https://a0.muscache.com/ic/users/667238/profile_pic/1399218523/original.jpg',\n",
        " 'https://a0.muscache.com/ic/users/6761319/profile_pic/1370474983/original.jpg',\n",
        " 'https://a0.muscache.com/ic/users/68342/profile_pic/1398088424/original.jpg',\n",
        " 'https://a0.muscache.com/ic/users/683617/profile_pic/1384290800/original.jpg',\n",
        " 'https://a0.muscache.com/ic/users/689713/profile_pic/1396145401/original.jpg',\n",
        " 'https://a0.muscache.com/ic/users/7385510/profile_pic/1373409584/original.jpg',\n",
        " 'https://a0.muscache.com/ic/users/7538/profile_pic/1259098751/original.jpg',\n",
        " 'https://a0.muscache.com/ic/users/7703533/profile_pic/1374770637/original.jpg',\n",
        " 'https://a0.muscache.com/ic/users/7779220/profile_pic/1377758071/original.jpg',\n",
        " 'https://a0.muscache.com/ic/users/7787676/profile_pic/1376199560/original.jpg',\n",
        " 'https://a0.muscache.com/ic/users/788493/profile_pic/1374655516/original.jpg',\n",
        " 'https://a0.muscache.com/ic/users/82827/profile_pic/1266559397/original.jpg',\n",
        " 'https://a0.muscache.com/ic/users/84704/profile_pic/1276966949/original.jpg',\n",
        " 'https://a0.muscache.com/ic/users/8677331/profile_pic/1379974901/original.jpg',\n",
        " 'https://a0.muscache.com/ic/users/934641/profile_pic/1350913492/original.jpg',\n",
        " 'https://a1.muscache.com/ic/users/10261/profile_pic/1354014915/original.jpg',\n",
        " 'https://a1.muscache.com/ic/users/10463352/profile_pic/1386322050/original.jpg',\n",
        " 'https://a1.muscache.com/ic/users/10464188/profile_pic/1388994833/original.jpg',\n",
        " 'https://a1.muscache.com/ic/users/1149170/profile_pic/1392219449/original.jpg',\n",
        " 'https://a1.muscache.com/ic/users/1165322/profile_pic/1405055173/original.jpg',\n",
        " 'https://a1.muscache.com/ic/users/1165352/profile_pic/1373980171/original.jpg',\n",
        " 'https://a1.muscache.com/ic/users/11674002/profile_pic/1390796953/original.jpg',\n",
        " 'https://a1.muscache.com/ic/users/11724021/profile_pic/1405450435/original.jpg',\n",
        " 'https://a1.muscache.com/ic/users/12404807/profile_pic/1401375122/original.jpg',\n",
        " 'https://a1.muscache.com/ic/users/12749174/profile_pic/1393843018/original.jpg',\n",
        " 'https://a1.muscache.com/ic/users/12865/profile_pic/1359393212/original.jpg',\n",
        " 'https://a1.muscache.com/ic/users/13046427/profile_pic/1400918191/original.jpg',\n",
        " 'https://a1.muscache.com/ic/users/1324242/profile_pic/1400536015/original.jpg',\n",
        " 'https://a1.muscache.com/ic/users/1339249/profile_pic/1406602595/original.jpg',\n",
        " 'https://a1.muscache.com/ic/users/13425018/profile_pic/1399931875/original.jpg',\n",
        " 'https://a1.muscache.com/ic/users/13483840/profile_pic/1395676925/original.jpg',\n",
        " 'https://a1.muscache.com/ic/users/1374150/profile_pic/1397631339/original.jpg',\n",
        " 'https://a1.muscache.com/ic/users/1414788/profile_pic/1370368547/original.jpg',\n",
        " 'https://a1.muscache.com/ic/users/1480293/profile_pic/1323236525/original.jpg',\n",
        " 'https://a1.muscache.com/ic/users/1492103/profile_pic/1323568046/original.jpg',\n",
        " 'https://a1.muscache.com/ic/users/15231885/profile_pic/1399536651/original.jpg',\n",
        " 'https://a1.muscache.com/ic/users/1552994/profile_pic/1338124704/original.jpg',\n",
        " 'https://a1.muscache.com/ic/users/1560741/profile_pic/1362221272/original.jpg',\n",
        " 'https://a1.muscache.com/ic/users/15657777/profile_pic/1405601566/original.jpg',\n",
        " 'https://a1.muscache.com/ic/users/1575044/profile_pic/1364270790/original.jpg',\n",
        " 'https://a1.muscache.com/ic/users/1587864/profile_pic/1342221557/original.jpg',\n",
        " 'https://a1.muscache.com/ic/users/15904358/profile_pic/1402444527/original.jpg',\n",
        " 'https://a1.muscache.com/ic/users/16778298/profile_pic/1404324748/original.jpg',\n",
        " 'https://a1.muscache.com/ic/users/17347732/profile_pic/1403926277/original.jpg',\n",
        " 'https://a1.muscache.com/ic/users/175522/profile_pic/1292122121/original.jpg',\n",
        " 'https://a1.muscache.com/ic/users/1788871/profile_pic/1405056039/original.jpg',\n",
        " 'https://a1.muscache.com/ic/users/1860339/profile_pic/1330944562/original.jpg',\n",
        " 'https://a1.muscache.com/ic/users/194913/profile_pic/1289073227/original.jpg',\n",
        " 'https://a1.muscache.com/ic/users/197237/profile_pic/1315406498/original.jpg',\n",
        " 'https://a1.muscache.com/ic/users/2242950/profile_pic/1370106762/original.jpg',\n",
        " 'https://a1.muscache.com/ic/users/2279300/profile_pic/1341522697/original.jpg',\n",
        " 'https://a1.muscache.com/ic/users/2319/profile_pic/1310784156/original.jpg',\n",
        " 'https://a1.muscache.com/ic/users/234088/profile_pic/1385851133/original.jpg',\n",
        " 'https://a1.muscache.com/ic/users/2370685/profile_pic/1337124179/original.jpg',\n",
        " 'https://a1.muscache.com/ic/users/2503766/profile_pic/1368750165/original.jpg',\n",
        " 'https://a1.muscache.com/ic/users/2795092/profile_pic/1383047131/original.jpg',\n",
        " 'https://a1.muscache.com/ic/users/2835209/profile_pic/1368154500/original.jpg',\n",
        " 'https://a1.muscache.com/ic/users/287991/profile_pic/1331270534/original.jpg',\n",
        " 'https://a1.muscache.com/ic/users/3212200/profile_pic/1366764652/original.jpg',\n",
        " 'https://a1.muscache.com/ic/users/3258382/profile_pic/1344964865/original.jpg',\n",
        " 'https://a1.muscache.com/ic/users/3272433/profile_pic/1389160435/original.jpg',\n",
        " 'https://a1.muscache.com/ic/users/3681463/profile_pic/1362211286/original.jpg',\n",
        " 'https://a1.muscache.com/ic/users/377652/profile_pic/1296884746/original.jpg',\n",
        " 'https://a1.muscache.com/ic/users/3857965/profile_pic/1370184253/original.jpg',\n",
        " 'https://a1.muscache.com/ic/users/4010218/profile_pic/1351566935/original.jpg',\n",
        " 'https://a1.muscache.com/ic/users/4061847/profile_pic/1363985425/original.jpg',\n",
        " 'https://a1.muscache.com/ic/users/42024/profile_pic/1343153116/original.jpg',\n",
        " 'https://a1.muscache.com/ic/users/42725/profile_pic/1360501337/original.jpg',\n",
        " 'https://a1.muscache.com/ic/users/4403132/profile_pic/1355488563/original.jpg',\n",
        " 'https://a1.muscache.com/ic/users/445508/profile_pic/1404493838/original.jpg',\n",
        " 'https://a1.muscache.com/ic/users/459036/profile_pic/1388716988/original.jpg',\n",
        " 'https://a1.muscache.com/ic/users/504884/profile_pic/1364850533/original.jpg',\n",
        " 'https://a1.muscache.com/ic/users/540171/profile_pic/1303939630/original.jpg',\n",
        " 'https://a1.muscache.com/ic/users/5640853/profile_pic/1376952357/original.jpg',\n",
        " 'https://a1.muscache.com/ic/users/5806052/profile_pic/1365321964/original.jpg',\n",
        " 'https://a1.muscache.com/ic/users/58357/profile_pic/1302872556/original.jpg',\n",
        " 'https://a1.muscache.com/ic/users/6107504/profile_pic/1368648628/original.jpg',\n",
        " 'https://a1.muscache.com/ic/users/6338303/profile_pic/1368396440/original.jpg',\n",
        " 'https://a1.muscache.com/ic/users/6465430/profile_pic/1368979140/original.jpg',\n",
        " 'https://a1.muscache.com/ic/users/6473595/profile_pic/1381783070/original.jpg',\n",
        " 'https://a1.muscache.com/ic/users/6623712/profile_pic/1369780128/original.jpg',\n",
        " 'https://a1.muscache.com/ic/users/6655340/profile_pic/1369933572/original.jpg',\n",
        " 'https://a1.muscache.com/ic/users/6659833/profile_pic/1375118112/original.jpg',\n",
        " 'https://a1.muscache.com/ic/users/6735404/profile_pic/1370801587/original.jpg',\n",
        " 'https://a1.muscache.com/ic/users/6798920/profile_pic/1404697934/original.jpg',\n",
        " 'https://a1.muscache.com/ic/users/684131/profile_pic/1383515340/original.jpg',\n",
        " 'https://a1.muscache.com/ic/users/7007442/profile_pic/1371683545/original.jpg',\n",
        " 'https://a1.muscache.com/ic/users/7152038/profile_pic/1372361114/original.jpg',\n",
        " 'https://a1.muscache.com/ic/users/7207602/profile_pic/1373271764/original.jpg',\n",
        " 'https://a1.muscache.com/ic/users/7389282/profile_pic/1373428827/original.jpg',\n",
        " 'https://a1.muscache.com/ic/users/7524222/profile_pic/1373994189/original.jpg',\n",
        " 'https://a1.muscache.com/ic/users/7880025/profile_pic/1375394202/original.jpg',\n",
        " 'https://a1.muscache.com/ic/users/847242/profile_pic/1311221227/original.jpg',\n",
        " 'https://a1.muscache.com/ic/users/8527472/profile_pic/1377855211/original.jpg',\n",
        " 'https://a1.muscache.com/ic/users/89398/profile_pic/1267977093/original.jpg',\n",
        " 'https://a1.muscache.com/ic/users/905532/profile_pic/1331785901/original.jpg',\n",
        " 'https://a1.muscache.com/ic/users/974933/profile_pic/1313446913/original.jpg',\n",
        " 'https://a2.muscache.com/ic/users/100900/profile_pic/1319163349/original.jpg',\n",
        " 'https://a2.muscache.com/ic/users/10099617/profile_pic/1405015089/original.jpg',\n",
        " 'https://a2.muscache.com/ic/users/102684/profile_pic/1271309046/original.jpg',\n",
        " 'https://a2.muscache.com/ic/users/1039585/profile_pic/1348470036/original.jpg',\n",
        " 'https://a2.muscache.com/ic/users/1089526/profile_pic/1352929642/original.jpg',\n",
        " 'https://a2.muscache.com/ic/users/11194155/profile_pic/1396565443/original.jpg',\n",
        " 'https://a2.muscache.com/ic/users/11216884/profile_pic/1389505023/original.jpg',\n",
        " 'https://a2.muscache.com/ic/users/11651440/profile_pic/1391365543/original.jpg',\n",
        " 'https://a2.muscache.com/ic/users/11694095/profile_pic/1395096420/original.jpg',\n",
        " 'https://a2.muscache.com/ic/users/1201085/profile_pic/1384716154/original.jpg',\n",
        " 'https://a2.muscache.com/ic/users/120279/profile_pic/1385760841/original.jpg',\n",
        " 'https://a2.muscache.com/ic/users/1310218/profile_pic/1319714009/original.jpg',\n",
        " 'https://a2.muscache.com/ic/users/1341170/profile_pic/1371718775/original.jpg',\n",
        " 'https://a2.muscache.com/ic/users/134850/profile_pic/1404508400/original.jpg',\n",
        " 'https://a2.muscache.com/ic/users/13525095/profile_pic/1395874329/original.jpg',\n",
        " 'https://a2.muscache.com/ic/users/1364835/profile_pic/1320301274/original.jpg',\n",
        " 'https://a2.muscache.com/ic/users/13774836/profile_pic/1397841381/original.jpg',\n",
        " 'https://a2.muscache.com/ic/users/1388900/profile_pic/1331505771/original.jpg',\n",
        " 'https://a2.muscache.com/ic/users/13934036/profile_pic/1396824800/original.jpg',\n",
        " 'https://a2.muscache.com/ic/users/14489605/profile_pic/1398885550/original.jpg',\n",
        " 'https://a2.muscache.com/ic/users/14558400/profile_pic/1399418893/original.jpg',\n",
        " 'https://a2.muscache.com/ic/users/15116751/profile_pic/1399315651/original.jpg',\n",
        " 'https://a2.muscache.com/ic/users/15199080/profile_pic/1400727355/original.jpg',\n",
        " 'https://a2.muscache.com/ic/users/153754/profile_pic/1359320788/original.jpg',\n",
        " 'https://a2.muscache.com/ic/users/1549357/profile_pic/1371178532/original.jpg',\n",
        " 'https://a2.muscache.com/ic/users/1561605/profile_pic/1334009435/original.jpg',\n",
        " 'https://a2.muscache.com/ic/users/1581968/profile_pic/1326053401/original.jpg',\n",
        " 'https://a2.muscache.com/ic/users/15846857/profile_pic/1400982981/original.jpg',\n",
        " 'https://a2.muscache.com/ic/users/1591886/profile_pic/1326236472/original.jpg',\n",
        " 'https://a2.muscache.com/ic/users/1597202/profile_pic/1326339103/original.jpg',\n",
        " 'https://a2.muscache.com/ic/users/15977539/profile_pic/1401601173/original.jpg',\n",
        " 'https://a2.muscache.com/ic/users/16021141/profile_pic/1401151170/original.jpg',\n",
        " 'https://a2.muscache.com/ic/users/161362/profile_pic/1375635838/original.jpg',\n",
        " 'https://a2.muscache.com/ic/users/1672314/profile_pic/1366793199/original.jpg',\n",
        " 'https://a2.muscache.com/ic/users/16973066/profile_pic/1403146345/original.jpg',\n",
        " 'https://a2.muscache.com/ic/users/17119577/profile_pic/1405545591/original.jpg',\n",
        " 'https://a2.muscache.com/ic/users/1788830/profile_pic/1331006237/original.jpg',\n",
        " 'https://a2.muscache.com/ic/users/17940339/profile_pic/1405085114/original.jpg',\n",
        " 'https://a2.muscache.com/ic/users/1841207/profile_pic/1331499037/original.jpg',\n",
        " 'https://a2.muscache.com/ic/users/18426665/profile_pic/1405832626/original.jpg',\n",
        " 'https://a2.muscache.com/ic/users/1845744/profile_pic/1397225891/original.jpg',\n",
        " 'https://a2.muscache.com/ic/users/19071886/profile_pic/1406604254/original.jpg',\n",
        " 'https://a2.muscache.com/ic/users/1936138/profile_pic/1368337730/original.jpg',\n",
        " 'https://a2.muscache.com/ic/users/212740/profile_pic/1282760781/original.jpg',\n",
        " 'https://a2.muscache.com/ic/users/239712/profile_pic/1315855110/original.jpg',\n",
        " 'https://a2.muscache.com/ic/users/2586055/profile_pic/1359996558/original.jpg',\n",
        " 'https://a2.muscache.com/ic/users/2590300/profile_pic/1365224842/original.jpg',\n",
        " 'https://a2.muscache.com/ic/users/307296/profile_pic/1309708751/original.jpg',\n",
        " 'https://a2.muscache.com/ic/users/3724398/profile_pic/1388881349/original.jpg',\n",
        " 'https://a2.muscache.com/ic/users/3819052/profile_pic/1349836723/original.jpg',\n",
        " 'https://a2.muscache.com/ic/users/3882432/profile_pic/1389666562/original.jpg',\n",
        " 'https://a2.muscache.com/ic/users/3949120/profile_pic/1356831281/original.jpg',\n",
        " 'https://a2.muscache.com/ic/users/3993620/profile_pic/1401955778/original.jpg',\n",
        " 'https://a2.muscache.com/ic/users/4107993/profile_pic/1352538472/original.jpg',\n",
        " 'https://a2.muscache.com/ic/users/4137814/profile_pic/1404045290/original.jpg',\n",
        " 'https://a2.muscache.com/ic/users/416155/profile_pic/1385503250/original.jpg',\n",
        " 'https://a2.muscache.com/ic/users/41932/profile_pic/1267127993/original.jpg',\n",
        " 'https://a2.muscache.com/ic/users/4367137/profile_pic/1402367927/original.jpg',\n",
        " 'https://a2.muscache.com/ic/users/4459278/profile_pic/1356105319/original.jpg',\n",
        " 'https://a2.muscache.com/ic/users/4469148/profile_pic/1356215135/original.jpg',\n",
        " 'https://a2.muscache.com/ic/users/516718/profile_pic/1303353306/original.jpg',\n",
        " 'https://a2.muscache.com/ic/users/5221306/profile_pic/1383925436/original.jpg',\n",
        " 'https://a2.muscache.com/ic/users/524913/profile_pic/1312863354/original.jpg',\n",
        " 'https://a2.muscache.com/ic/users/5369902/profile_pic/1362712109/original.jpg',\n",
        " 'https://a2.muscache.com/ic/users/5676026/profile_pic/1364586839/original.jpg',\n",
        " 'https://a2.muscache.com/ic/users/597265/profile_pic/1405936364/original.jpg',\n",
        " 'https://a2.muscache.com/ic/users/5996091/profile_pic/1366369341/original.jpg',\n",
        " 'https://a2.muscache.com/ic/users/60940/profile_pic/1375826253/original.jpg',\n",
        " 'https://a2.muscache.com/ic/users/6134016/profile_pic/1387376581/original.jpg',\n",
        " 'https://a2.muscache.com/ic/users/6455315/profile_pic/1368910053/original.jpg',\n",
        " 'https://a2.muscache.com/ic/users/6769265/profile_pic/1370524293/original.jpg',\n",
        " 'https://a2.muscache.com/ic/users/6851408/profile_pic/1400920123/original.jpg',\n",
        " 'https://a2.muscache.com/ic/users/6957303/profile_pic/1394503172/original.jpg',\n",
        " 'https://a2.muscache.com/ic/users/709132/profile_pic/1327204390/original.jpg',\n",
        " 'https://a2.muscache.com/ic/users/7635768/profile_pic/1379208498/original.jpg',\n",
        " 'https://a2.muscache.com/ic/users/7877/profile_pic/1267462866/original.jpg',\n",
        " 'https://a2.muscache.com/ic/users/8013018/profile_pic/1375926353/original.jpg',\n",
        " 'https://a2.muscache.com/ic/users/849519/profile_pic/1311268296/original.jpg',\n",
        " 'https://a2.muscache.com/ic/users/88067/profile_pic/1267684761/original.jpg',\n",
        " 'https://a2.muscache.com/ic/users/941913/profile_pic/1379429574/original.jpg'}"
       ]
      }
     ],
     "prompt_number": 102
    },
    {
     "cell_type": "code",
     "collapsed": false,
     "input": [
      "ROOM_PHOTOS"
     ],
     "language": "python",
     "metadata": {},
     "outputs": [
      {
       "metadata": {},
       "output_type": "pyout",
       "prompt_number": 103,
       "text": [
        "{'https://a0.muscache.com/pictures/13639729/large.jpg',\n",
        " 'https://a0.muscache.com/pictures/13639760/large.jpg',\n",
        " 'https://a0.muscache.com/pictures/15231213/large.jpg',\n",
        " 'https://a0.muscache.com/pictures/18901411/large.jpg',\n",
        " 'https://a1.muscache.com/pictures/10331066/large.jpg',\n",
        " 'https://a1.muscache.com/pictures/18901417/large.jpg',\n",
        " 'https://a2.muscache.com/pictures/15231177/large.jpg',\n",
        " 'https://a2.muscache.com/pictures/9984243/large.jpg'}"
       ]
      }
     ],
     "prompt_number": 103
    },
    {
     "cell_type": "code",
     "collapsed": false,
     "input": [
      "import urllib"
     ],
     "language": "python",
     "metadata": {},
     "outputs": [],
     "prompt_number": 108
    },
    {
     "cell_type": "code",
     "collapsed": false,
     "input": [
      "for i, user in enumerate( USER_PHOTOS ):\n",
      "    urllib.urlretrieve( user, 'users/{:03d}.jpg'.format( i ) )"
     ],
     "language": "python",
     "metadata": {},
     "outputs": []
    },
    {
     "cell_type": "code",
     "collapsed": false,
     "input": [
      "for i, room in enumerate( ROOM_PHOTOS ):\n",
      "    urllib.urlretrieve( room, 'room/{:03d}.jpg'.format( i ) )"
     ],
     "language": "python",
     "metadata": {},
     "outputs": []
    },
    {
     "cell_type": "code",
     "collapsed": false,
     "input": [],
     "language": "python",
     "metadata": {},
     "outputs": []
    }
   ],
   "metadata": {}
  }
 ]
}